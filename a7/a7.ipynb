{
  "cells": [
    {
      "attachments": {},
      "cell_type": "markdown",
      "metadata": {
        "id": "mB28D_fAsTlc"
      },
      "source": [
        "<center> <h2> Part 1 </h2> </center>\n",
        "\n",
        "In this assignment, you will work with another ML dataset: Energy Efficiency (for buildings). You will apply various regression estimators to the dataset to predict the overall energy efficiency of buildings from various building parameters.\n",
        "\n",
        "The link to the dataset is provided below.\n",
        "\n",
        "The variables of the dataset are as follows:\n",
        "\n",
        "    * X1 Relative Compactness\n",
        "    * X2 Surface Area\n",
        "    * X3 Wall Area\n",
        "    * X4 Roof Area\n",
        "    * X5 Overall Height\n",
        "    * X6 Orientation\n",
        "    * X7 Glazing Area\n",
        "    * X8 Glazing Area Distribution\n",
        "    * y1 Heating Load\n",
        "    * y2 Cooling Load\n",
        "\n",
        "As you can see, there are two possible target variables in the dataset (y1 and y2). In this assignment, however, you will only work with the target variable of y2.\n",
        "\n",
        "**Hint:** Visit https://archive.ics.uci.edu/ml/datasets/Energy+efficiency to learn more about the dataset and its features.\n",
        "\n",
        "In this part of the assignment, you will retrieve and prepare the dataset for regression analysis.\n",
        "\n",
        "<hr />"
      ]
    },
    {
      "attachments": {},
      "cell_type": "markdown",
      "metadata": {
        "id": "th7Tc2y-sTld"
      },
      "source": [
        "### Question 1 \n",
        "\n",
        "Write a function that retrieves the Energy Efficiency dataset from UCI Machine Learning Repository using the link below:\n",
        "    \n",
        "    * https://archive.ics.uci.edu/ml/machine-learning-databases/00242/ENB2012_data.xlsx\n",
        "    \n",
        "Your function should accept a URL and return a dataframe containing the features and target variables from this dataset as shown below:\n",
        "    \n",
        "    * Your dataframe should include 768 rows and 10 columns.\n",
        "\n",
        "**Hint:** Visit https://archive.ics.uci.edu/ml/datasets/Energy+efficiency# to learn more about the dataset and its features.\n"
      ]
    },
    {
      "cell_type": "code",
      "execution_count": null,
      "metadata": {
        "id": "Z6Dwn_ZOsTld"
      },
      "outputs": [],
      "source": [
        "import pandas as pd\n",
        "\n",
        "def load_data(excel_link):\n",
        "    return pd.read_excel(excel_link).dropna(axis=1, how='all')"
      ]
    },
    {
      "cell_type": "code",
      "execution_count": null,
      "metadata": {
        "id": "-3sVewVOsTle"
      },
      "outputs": [],
      "source": [
        "energy_df = load_data('https://archive.ics.uci.edu/ml/machine-learning-databases/00242/ENB2012_data.xlsx')"
      ]
    },
    {
      "cell_type": "code",
      "execution_count": null,
      "metadata": {
        "id": "ekF5e1YPsTle",
        "outputId": "30b61ef7-aae8-4c6d-8db0-ce060219c79d"
      },
      "outputs": [
        {
          "data": {
            "text/html": [
              "<div>\n",
              "<style scoped>\n",
              "    .dataframe tbody tr th:only-of-type {\n",
              "        vertical-align: middle;\n",
              "    }\n",
              "\n",
              "    .dataframe tbody tr th {\n",
              "        vertical-align: top;\n",
              "    }\n",
              "\n",
              "    .dataframe thead th {\n",
              "        text-align: right;\n",
              "    }\n",
              "</style>\n",
              "<table border=\"1\" class=\"dataframe\">\n",
              "  <thead>\n",
              "    <tr style=\"text-align: right;\">\n",
              "      <th></th>\n",
              "      <th>X1</th>\n",
              "      <th>X2</th>\n",
              "      <th>X3</th>\n",
              "      <th>X4</th>\n",
              "      <th>X5</th>\n",
              "      <th>X6</th>\n",
              "      <th>X7</th>\n",
              "      <th>X8</th>\n",
              "      <th>Y1</th>\n",
              "      <th>Y2</th>\n",
              "    </tr>\n",
              "  </thead>\n",
              "  <tbody>\n",
              "    <tr>\n",
              "      <th>0</th>\n",
              "      <td>0.98</td>\n",
              "      <td>514.5</td>\n",
              "      <td>294.0</td>\n",
              "      <td>110.25</td>\n",
              "      <td>7.0</td>\n",
              "      <td>2</td>\n",
              "      <td>0.0</td>\n",
              "      <td>0</td>\n",
              "      <td>15.55</td>\n",
              "      <td>21.33</td>\n",
              "    </tr>\n",
              "    <tr>\n",
              "      <th>1</th>\n",
              "      <td>0.98</td>\n",
              "      <td>514.5</td>\n",
              "      <td>294.0</td>\n",
              "      <td>110.25</td>\n",
              "      <td>7.0</td>\n",
              "      <td>3</td>\n",
              "      <td>0.0</td>\n",
              "      <td>0</td>\n",
              "      <td>15.55</td>\n",
              "      <td>21.33</td>\n",
              "    </tr>\n",
              "    <tr>\n",
              "      <th>2</th>\n",
              "      <td>0.98</td>\n",
              "      <td>514.5</td>\n",
              "      <td>294.0</td>\n",
              "      <td>110.25</td>\n",
              "      <td>7.0</td>\n",
              "      <td>4</td>\n",
              "      <td>0.0</td>\n",
              "      <td>0</td>\n",
              "      <td>15.55</td>\n",
              "      <td>21.33</td>\n",
              "    </tr>\n",
              "    <tr>\n",
              "      <th>3</th>\n",
              "      <td>0.98</td>\n",
              "      <td>514.5</td>\n",
              "      <td>294.0</td>\n",
              "      <td>110.25</td>\n",
              "      <td>7.0</td>\n",
              "      <td>5</td>\n",
              "      <td>0.0</td>\n",
              "      <td>0</td>\n",
              "      <td>15.55</td>\n",
              "      <td>21.33</td>\n",
              "    </tr>\n",
              "    <tr>\n",
              "      <th>4</th>\n",
              "      <td>0.90</td>\n",
              "      <td>563.5</td>\n",
              "      <td>318.5</td>\n",
              "      <td>122.50</td>\n",
              "      <td>7.0</td>\n",
              "      <td>2</td>\n",
              "      <td>0.0</td>\n",
              "      <td>0</td>\n",
              "      <td>20.84</td>\n",
              "      <td>28.28</td>\n",
              "    </tr>\n",
              "    <tr>\n",
              "      <th>...</th>\n",
              "      <td>...</td>\n",
              "      <td>...</td>\n",
              "      <td>...</td>\n",
              "      <td>...</td>\n",
              "      <td>...</td>\n",
              "      <td>...</td>\n",
              "      <td>...</td>\n",
              "      <td>...</td>\n",
              "      <td>...</td>\n",
              "      <td>...</td>\n",
              "    </tr>\n",
              "    <tr>\n",
              "      <th>763</th>\n",
              "      <td>0.64</td>\n",
              "      <td>784.0</td>\n",
              "      <td>343.0</td>\n",
              "      <td>220.50</td>\n",
              "      <td>3.5</td>\n",
              "      <td>5</td>\n",
              "      <td>0.4</td>\n",
              "      <td>5</td>\n",
              "      <td>17.88</td>\n",
              "      <td>21.40</td>\n",
              "    </tr>\n",
              "    <tr>\n",
              "      <th>764</th>\n",
              "      <td>0.62</td>\n",
              "      <td>808.5</td>\n",
              "      <td>367.5</td>\n",
              "      <td>220.50</td>\n",
              "      <td>3.5</td>\n",
              "      <td>2</td>\n",
              "      <td>0.4</td>\n",
              "      <td>5</td>\n",
              "      <td>16.54</td>\n",
              "      <td>16.88</td>\n",
              "    </tr>\n",
              "    <tr>\n",
              "      <th>765</th>\n",
              "      <td>0.62</td>\n",
              "      <td>808.5</td>\n",
              "      <td>367.5</td>\n",
              "      <td>220.50</td>\n",
              "      <td>3.5</td>\n",
              "      <td>3</td>\n",
              "      <td>0.4</td>\n",
              "      <td>5</td>\n",
              "      <td>16.44</td>\n",
              "      <td>17.11</td>\n",
              "    </tr>\n",
              "    <tr>\n",
              "      <th>766</th>\n",
              "      <td>0.62</td>\n",
              "      <td>808.5</td>\n",
              "      <td>367.5</td>\n",
              "      <td>220.50</td>\n",
              "      <td>3.5</td>\n",
              "      <td>4</td>\n",
              "      <td>0.4</td>\n",
              "      <td>5</td>\n",
              "      <td>16.48</td>\n",
              "      <td>16.61</td>\n",
              "    </tr>\n",
              "    <tr>\n",
              "      <th>767</th>\n",
              "      <td>0.62</td>\n",
              "      <td>808.5</td>\n",
              "      <td>367.5</td>\n",
              "      <td>220.50</td>\n",
              "      <td>3.5</td>\n",
              "      <td>5</td>\n",
              "      <td>0.4</td>\n",
              "      <td>5</td>\n",
              "      <td>16.64</td>\n",
              "      <td>16.03</td>\n",
              "    </tr>\n",
              "  </tbody>\n",
              "</table>\n",
              "<p>768 rows × 10 columns</p>\n",
              "</div>"
            ],
            "text/plain": [
              "       X1     X2     X3      X4   X5  X6   X7  X8     Y1     Y2\n",
              "0    0.98  514.5  294.0  110.25  7.0   2  0.0   0  15.55  21.33\n",
              "1    0.98  514.5  294.0  110.25  7.0   3  0.0   0  15.55  21.33\n",
              "2    0.98  514.5  294.0  110.25  7.0   4  0.0   0  15.55  21.33\n",
              "3    0.98  514.5  294.0  110.25  7.0   5  0.0   0  15.55  21.33\n",
              "4    0.90  563.5  318.5  122.50  7.0   2  0.0   0  20.84  28.28\n",
              "..    ...    ...    ...     ...  ...  ..  ...  ..    ...    ...\n",
              "763  0.64  784.0  343.0  220.50  3.5   5  0.4   5  17.88  21.40\n",
              "764  0.62  808.5  367.5  220.50  3.5   2  0.4   5  16.54  16.88\n",
              "765  0.62  808.5  367.5  220.50  3.5   3  0.4   5  16.44  17.11\n",
              "766  0.62  808.5  367.5  220.50  3.5   4  0.4   5  16.48  16.61\n",
              "767  0.62  808.5  367.5  220.50  3.5   5  0.4   5  16.64  16.03\n",
              "\n",
              "[768 rows x 10 columns]"
            ]
          },
          "execution_count": 4,
          "metadata": {},
          "output_type": "execute_result"
        }
      ],
      "source": [
        "energy_df"
      ]
    },
    {
      "attachments": {},
      "cell_type": "markdown",
      "metadata": {
        "id": "oZKYLYcssTlf"
      },
      "source": [
        "### Question 2 \n",
        "\n",
        "Write a code snippet to drop the column Y1 from energy_df and also rename the column Y2 to a new name called 'target'."
      ]
    },
    {
      "cell_type": "code",
      "execution_count": null,
      "metadata": {
        "id": "QGjblvxpsTlf"
      },
      "outputs": [],
      "source": [
        "energy_df = energy_df.drop('Y1', axis=1).rename(columns={'Y2': 'target'})"
      ]
    },
    {
      "cell_type": "code",
      "execution_count": null,
      "metadata": {
        "id": "ag1W0712sTlg",
        "outputId": "04b64ef6-6405-46b6-8b1e-369fd7202749"
      },
      "outputs": [
        {
          "data": {
            "text/html": [
              "<div>\n",
              "<style scoped>\n",
              "    .dataframe tbody tr th:only-of-type {\n",
              "        vertical-align: middle;\n",
              "    }\n",
              "\n",
              "    .dataframe tbody tr th {\n",
              "        vertical-align: top;\n",
              "    }\n",
              "\n",
              "    .dataframe thead th {\n",
              "        text-align: right;\n",
              "    }\n",
              "</style>\n",
              "<table border=\"1\" class=\"dataframe\">\n",
              "  <thead>\n",
              "    <tr style=\"text-align: right;\">\n",
              "      <th></th>\n",
              "      <th>X1</th>\n",
              "      <th>X2</th>\n",
              "      <th>X3</th>\n",
              "      <th>X4</th>\n",
              "      <th>X5</th>\n",
              "      <th>X6</th>\n",
              "      <th>X7</th>\n",
              "      <th>X8</th>\n",
              "      <th>target</th>\n",
              "    </tr>\n",
              "  </thead>\n",
              "  <tbody>\n",
              "    <tr>\n",
              "      <th>0</th>\n",
              "      <td>0.98</td>\n",
              "      <td>514.5</td>\n",
              "      <td>294.0</td>\n",
              "      <td>110.25</td>\n",
              "      <td>7.0</td>\n",
              "      <td>2</td>\n",
              "      <td>0.0</td>\n",
              "      <td>0</td>\n",
              "      <td>21.33</td>\n",
              "    </tr>\n",
              "    <tr>\n",
              "      <th>1</th>\n",
              "      <td>0.98</td>\n",
              "      <td>514.5</td>\n",
              "      <td>294.0</td>\n",
              "      <td>110.25</td>\n",
              "      <td>7.0</td>\n",
              "      <td>3</td>\n",
              "      <td>0.0</td>\n",
              "      <td>0</td>\n",
              "      <td>21.33</td>\n",
              "    </tr>\n",
              "    <tr>\n",
              "      <th>2</th>\n",
              "      <td>0.98</td>\n",
              "      <td>514.5</td>\n",
              "      <td>294.0</td>\n",
              "      <td>110.25</td>\n",
              "      <td>7.0</td>\n",
              "      <td>4</td>\n",
              "      <td>0.0</td>\n",
              "      <td>0</td>\n",
              "      <td>21.33</td>\n",
              "    </tr>\n",
              "    <tr>\n",
              "      <th>3</th>\n",
              "      <td>0.98</td>\n",
              "      <td>514.5</td>\n",
              "      <td>294.0</td>\n",
              "      <td>110.25</td>\n",
              "      <td>7.0</td>\n",
              "      <td>5</td>\n",
              "      <td>0.0</td>\n",
              "      <td>0</td>\n",
              "      <td>21.33</td>\n",
              "    </tr>\n",
              "    <tr>\n",
              "      <th>4</th>\n",
              "      <td>0.90</td>\n",
              "      <td>563.5</td>\n",
              "      <td>318.5</td>\n",
              "      <td>122.50</td>\n",
              "      <td>7.0</td>\n",
              "      <td>2</td>\n",
              "      <td>0.0</td>\n",
              "      <td>0</td>\n",
              "      <td>28.28</td>\n",
              "    </tr>\n",
              "    <tr>\n",
              "      <th>...</th>\n",
              "      <td>...</td>\n",
              "      <td>...</td>\n",
              "      <td>...</td>\n",
              "      <td>...</td>\n",
              "      <td>...</td>\n",
              "      <td>...</td>\n",
              "      <td>...</td>\n",
              "      <td>...</td>\n",
              "      <td>...</td>\n",
              "    </tr>\n",
              "    <tr>\n",
              "      <th>763</th>\n",
              "      <td>0.64</td>\n",
              "      <td>784.0</td>\n",
              "      <td>343.0</td>\n",
              "      <td>220.50</td>\n",
              "      <td>3.5</td>\n",
              "      <td>5</td>\n",
              "      <td>0.4</td>\n",
              "      <td>5</td>\n",
              "      <td>21.40</td>\n",
              "    </tr>\n",
              "    <tr>\n",
              "      <th>764</th>\n",
              "      <td>0.62</td>\n",
              "      <td>808.5</td>\n",
              "      <td>367.5</td>\n",
              "      <td>220.50</td>\n",
              "      <td>3.5</td>\n",
              "      <td>2</td>\n",
              "      <td>0.4</td>\n",
              "      <td>5</td>\n",
              "      <td>16.88</td>\n",
              "    </tr>\n",
              "    <tr>\n",
              "      <th>765</th>\n",
              "      <td>0.62</td>\n",
              "      <td>808.5</td>\n",
              "      <td>367.5</td>\n",
              "      <td>220.50</td>\n",
              "      <td>3.5</td>\n",
              "      <td>3</td>\n",
              "      <td>0.4</td>\n",
              "      <td>5</td>\n",
              "      <td>17.11</td>\n",
              "    </tr>\n",
              "    <tr>\n",
              "      <th>766</th>\n",
              "      <td>0.62</td>\n",
              "      <td>808.5</td>\n",
              "      <td>367.5</td>\n",
              "      <td>220.50</td>\n",
              "      <td>3.5</td>\n",
              "      <td>4</td>\n",
              "      <td>0.4</td>\n",
              "      <td>5</td>\n",
              "      <td>16.61</td>\n",
              "    </tr>\n",
              "    <tr>\n",
              "      <th>767</th>\n",
              "      <td>0.62</td>\n",
              "      <td>808.5</td>\n",
              "      <td>367.5</td>\n",
              "      <td>220.50</td>\n",
              "      <td>3.5</td>\n",
              "      <td>5</td>\n",
              "      <td>0.4</td>\n",
              "      <td>5</td>\n",
              "      <td>16.03</td>\n",
              "    </tr>\n",
              "  </tbody>\n",
              "</table>\n",
              "<p>768 rows × 9 columns</p>\n",
              "</div>"
            ],
            "text/plain": [
              "       X1     X2     X3      X4   X5  X6   X7  X8  target\n",
              "0    0.98  514.5  294.0  110.25  7.0   2  0.0   0   21.33\n",
              "1    0.98  514.5  294.0  110.25  7.0   3  0.0   0   21.33\n",
              "2    0.98  514.5  294.0  110.25  7.0   4  0.0   0   21.33\n",
              "3    0.98  514.5  294.0  110.25  7.0   5  0.0   0   21.33\n",
              "4    0.90  563.5  318.5  122.50  7.0   2  0.0   0   28.28\n",
              "..    ...    ...    ...     ...  ...  ..  ...  ..     ...\n",
              "763  0.64  784.0  343.0  220.50  3.5   5  0.4   5   21.40\n",
              "764  0.62  808.5  367.5  220.50  3.5   2  0.4   5   16.88\n",
              "765  0.62  808.5  367.5  220.50  3.5   3  0.4   5   17.11\n",
              "766  0.62  808.5  367.5  220.50  3.5   4  0.4   5   16.61\n",
              "767  0.62  808.5  367.5  220.50  3.5   5  0.4   5   16.03\n",
              "\n",
              "[768 rows x 9 columns]"
            ]
          },
          "execution_count": 6,
          "metadata": {},
          "output_type": "execute_result"
        }
      ],
      "source": [
        "energy_df"
      ]
    },
    {
      "attachments": {},
      "cell_type": "markdown",
      "metadata": {
        "id": "6em9t9sJsTlg"
      },
      "source": [
        "### Question 3 \n",
        "Write a function that extracts and returns a tuple of features and target variables from the energy_df dataframe above. Features are all columns from 0 to 7, and the target is the target column.\n",
        "\n",
        "    * The features variable should be a DataFrame object with 768 rows and 8 columns\n",
        "    * The target variable should be Series object with 768 values"
      ]
    },
    {
      "cell_type": "code",
      "execution_count": null,
      "metadata": {
        "id": "Asx3aMvOsTlg"
      },
      "outputs": [],
      "source": [
        "def features_and_target(df):\n",
        "    features = df.iloc[:, :-1]\n",
        "    target = df['target']\n",
        "    return (features, target)"
      ]
    },
    {
      "cell_type": "code",
      "execution_count": null,
      "metadata": {
        "id": "EKDPg9SosTlg"
      },
      "outputs": [],
      "source": [
        "features, target = features_and_target(energy_df)"
      ]
    },
    {
      "cell_type": "code",
      "execution_count": null,
      "metadata": {
        "id": "_nfEYgpYsTlh",
        "outputId": "22460bd6-725f-49a0-bf5c-97c16cd6aecf"
      },
      "outputs": [
        {
          "data": {
            "text/html": [
              "<div>\n",
              "<style scoped>\n",
              "    .dataframe tbody tr th:only-of-type {\n",
              "        vertical-align: middle;\n",
              "    }\n",
              "\n",
              "    .dataframe tbody tr th {\n",
              "        vertical-align: top;\n",
              "    }\n",
              "\n",
              "    .dataframe thead th {\n",
              "        text-align: right;\n",
              "    }\n",
              "</style>\n",
              "<table border=\"1\" class=\"dataframe\">\n",
              "  <thead>\n",
              "    <tr style=\"text-align: right;\">\n",
              "      <th></th>\n",
              "      <th>X1</th>\n",
              "      <th>X2</th>\n",
              "      <th>X3</th>\n",
              "      <th>X4</th>\n",
              "      <th>X5</th>\n",
              "      <th>X6</th>\n",
              "      <th>X7</th>\n",
              "      <th>X8</th>\n",
              "    </tr>\n",
              "  </thead>\n",
              "  <tbody>\n",
              "    <tr>\n",
              "      <th>0</th>\n",
              "      <td>0.98</td>\n",
              "      <td>514.5</td>\n",
              "      <td>294.0</td>\n",
              "      <td>110.25</td>\n",
              "      <td>7.0</td>\n",
              "      <td>2</td>\n",
              "      <td>0.0</td>\n",
              "      <td>0</td>\n",
              "    </tr>\n",
              "    <tr>\n",
              "      <th>1</th>\n",
              "      <td>0.98</td>\n",
              "      <td>514.5</td>\n",
              "      <td>294.0</td>\n",
              "      <td>110.25</td>\n",
              "      <td>7.0</td>\n",
              "      <td>3</td>\n",
              "      <td>0.0</td>\n",
              "      <td>0</td>\n",
              "    </tr>\n",
              "    <tr>\n",
              "      <th>2</th>\n",
              "      <td>0.98</td>\n",
              "      <td>514.5</td>\n",
              "      <td>294.0</td>\n",
              "      <td>110.25</td>\n",
              "      <td>7.0</td>\n",
              "      <td>4</td>\n",
              "      <td>0.0</td>\n",
              "      <td>0</td>\n",
              "    </tr>\n",
              "    <tr>\n",
              "      <th>3</th>\n",
              "      <td>0.98</td>\n",
              "      <td>514.5</td>\n",
              "      <td>294.0</td>\n",
              "      <td>110.25</td>\n",
              "      <td>7.0</td>\n",
              "      <td>5</td>\n",
              "      <td>0.0</td>\n",
              "      <td>0</td>\n",
              "    </tr>\n",
              "    <tr>\n",
              "      <th>4</th>\n",
              "      <td>0.90</td>\n",
              "      <td>563.5</td>\n",
              "      <td>318.5</td>\n",
              "      <td>122.50</td>\n",
              "      <td>7.0</td>\n",
              "      <td>2</td>\n",
              "      <td>0.0</td>\n",
              "      <td>0</td>\n",
              "    </tr>\n",
              "    <tr>\n",
              "      <th>...</th>\n",
              "      <td>...</td>\n",
              "      <td>...</td>\n",
              "      <td>...</td>\n",
              "      <td>...</td>\n",
              "      <td>...</td>\n",
              "      <td>...</td>\n",
              "      <td>...</td>\n",
              "      <td>...</td>\n",
              "    </tr>\n",
              "    <tr>\n",
              "      <th>763</th>\n",
              "      <td>0.64</td>\n",
              "      <td>784.0</td>\n",
              "      <td>343.0</td>\n",
              "      <td>220.50</td>\n",
              "      <td>3.5</td>\n",
              "      <td>5</td>\n",
              "      <td>0.4</td>\n",
              "      <td>5</td>\n",
              "    </tr>\n",
              "    <tr>\n",
              "      <th>764</th>\n",
              "      <td>0.62</td>\n",
              "      <td>808.5</td>\n",
              "      <td>367.5</td>\n",
              "      <td>220.50</td>\n",
              "      <td>3.5</td>\n",
              "      <td>2</td>\n",
              "      <td>0.4</td>\n",
              "      <td>5</td>\n",
              "    </tr>\n",
              "    <tr>\n",
              "      <th>765</th>\n",
              "      <td>0.62</td>\n",
              "      <td>808.5</td>\n",
              "      <td>367.5</td>\n",
              "      <td>220.50</td>\n",
              "      <td>3.5</td>\n",
              "      <td>3</td>\n",
              "      <td>0.4</td>\n",
              "      <td>5</td>\n",
              "    </tr>\n",
              "    <tr>\n",
              "      <th>766</th>\n",
              "      <td>0.62</td>\n",
              "      <td>808.5</td>\n",
              "      <td>367.5</td>\n",
              "      <td>220.50</td>\n",
              "      <td>3.5</td>\n",
              "      <td>4</td>\n",
              "      <td>0.4</td>\n",
              "      <td>5</td>\n",
              "    </tr>\n",
              "    <tr>\n",
              "      <th>767</th>\n",
              "      <td>0.62</td>\n",
              "      <td>808.5</td>\n",
              "      <td>367.5</td>\n",
              "      <td>220.50</td>\n",
              "      <td>3.5</td>\n",
              "      <td>5</td>\n",
              "      <td>0.4</td>\n",
              "      <td>5</td>\n",
              "    </tr>\n",
              "  </tbody>\n",
              "</table>\n",
              "<p>768 rows × 8 columns</p>\n",
              "</div>"
            ],
            "text/plain": [
              "       X1     X2     X3      X4   X5  X6   X7  X8\n",
              "0    0.98  514.5  294.0  110.25  7.0   2  0.0   0\n",
              "1    0.98  514.5  294.0  110.25  7.0   3  0.0   0\n",
              "2    0.98  514.5  294.0  110.25  7.0   4  0.0   0\n",
              "3    0.98  514.5  294.0  110.25  7.0   5  0.0   0\n",
              "4    0.90  563.5  318.5  122.50  7.0   2  0.0   0\n",
              "..    ...    ...    ...     ...  ...  ..  ...  ..\n",
              "763  0.64  784.0  343.0  220.50  3.5   5  0.4   5\n",
              "764  0.62  808.5  367.5  220.50  3.5   2  0.4   5\n",
              "765  0.62  808.5  367.5  220.50  3.5   3  0.4   5\n",
              "766  0.62  808.5  367.5  220.50  3.5   4  0.4   5\n",
              "767  0.62  808.5  367.5  220.50  3.5   5  0.4   5\n",
              "\n",
              "[768 rows x 8 columns]"
            ]
          },
          "execution_count": 9,
          "metadata": {},
          "output_type": "execute_result"
        }
      ],
      "source": [
        "features"
      ]
    },
    {
      "cell_type": "code",
      "execution_count": null,
      "metadata": {
        "id": "1o_8RJV8sTlh",
        "outputId": "059f343a-66ea-44b2-eadf-88adb8d5f642"
      },
      "outputs": [
        {
          "data": {
            "text/plain": [
              "0      21.33\n",
              "1      21.33\n",
              "2      21.33\n",
              "3      21.33\n",
              "4      28.28\n",
              "       ...  \n",
              "763    21.40\n",
              "764    16.88\n",
              "765    17.11\n",
              "766    16.61\n",
              "767    16.03\n",
              "Name: target, Length: 768, dtype: float64"
            ]
          },
          "execution_count": 10,
          "metadata": {},
          "output_type": "execute_result"
        }
      ],
      "source": [
        "target"
      ]
    },
    {
      "attachments": {},
      "cell_type": "markdown",
      "metadata": {
        "id": "1XjodysdsTlh"
      },
      "source": [
        "<hr>\n",
        "\n",
        "<center><h1> Part 2 </h1></center>\n",
        "\n",
        "In this part, you will apply and evaluate multiple regression estimators (Linear Regression, Ridge, Lasso, kNN, and LinearSVR) to the Energy Efficiency dataset.\n",
        "\n",
        "<hr>"
      ]
    },
    {
      "attachments": {},
      "cell_type": "markdown",
      "metadata": {
        "id": "prr6TFb8sTlh"
      },
      "source": [
        "### Question 4 \n",
        "Write a function that splits the dataset into training and testing sets. The function should return the training and test splits as shown in the sample function call. Use random_state=3000 when splitting your dataset."
      ]
    },
    {
      "cell_type": "code",
      "execution_count": null,
      "metadata": {
        "id": "aG30a_EPsTli"
      },
      "outputs": [],
      "source": [
        "from sklearn.model_selection import train_test_split"
      ]
    },
    {
      "cell_type": "code",
      "execution_count": null,
      "metadata": {
        "id": "RmNi-BbVsTli"
      },
      "outputs": [],
      "source": [
        "def split_the_dataset():\n",
        "    return train_test_split(features, target, random_state=3000)"
      ]
    },
    {
      "cell_type": "code",
      "execution_count": null,
      "metadata": {
        "id": "P1gl3bgFsTli"
      },
      "outputs": [],
      "source": [
        "X_train, X_test, y_train, y_test = split_the_dataset()"
      ]
    },
    {
      "attachments": {},
      "cell_type": "markdown",
      "metadata": {
        "id": "J0WI7HGjsTli"
      },
      "source": [
        "### Question 5 \n",
        "You will find it useful to define a dictionary containing these five regression estimators (Linear Regression, Ridge, Lasso, kNN, and LinearSVR) so you can apply them in an iteration statement. For this question, import the relevant methods from sci-kit learn and define the estimators dictionary. "
      ]
    },
    {
      "cell_type": "code",
      "execution_count": null,
      "metadata": {
        "id": "xUpHGVNjsTlj"
      },
      "outputs": [],
      "source": [
        "from sklearn.linear_model import LinearRegression, Ridge, Lasso\n",
        "from sklearn.neighbors import KNeighborsRegressor\n",
        "from sklearn.svm import LinearSVR\n",
        "\n",
        "estimators = {\n",
        "    'Linear Regression': LinearRegression(), \n",
        "    'Ridge': Ridge(),\n",
        "    'Lasso': Lasso(),\n",
        "    'k-Nearest Neighbor': KNeighborsRegressor(),\n",
        "    'Support Vector Machine': LinearSVR(max_iter=1000000)}"
      ]
    },
    {
      "cell_type": "code",
      "execution_count": null,
      "metadata": {
        "id": "oj7gKzUasTlj",
        "outputId": "31368b72-ebce-4750-f20f-2c86d9091094"
      },
      "outputs": [
        {
          "data": {
            "text/plain": [
              "dict_values([LinearRegression(), Ridge(), Lasso(), KNeighborsRegressor(), LinearSVR(max_iter=1000000)])"
            ]
          },
          "execution_count": 15,
          "metadata": {},
          "output_type": "execute_result"
        }
      ],
      "source": [
        "# your output may display more parameters than shown here\n",
        "estimators.values()"
      ]
    },
    {
      "attachments": {},
      "cell_type": "markdown",
      "metadata": {
        "id": "c6KmsafysTlj"
      },
      "source": [
        "### Question 6 \n",
        "Write a function that fits these regression estimators to the training data using a percentage-split approach. You should use an iteration statement to apply these regression estimators. R-squared values should be displayed for both training and test sets."
      ]
    },
    {
      "cell_type": "code",
      "execution_count": null,
      "metadata": {
        "id": "PLi0WSNZsTlj"
      },
      "outputs": [],
      "source": [
        "from sklearn.metrics import r2_score"
      ]
    },
    {
      "cell_type": "code",
      "execution_count": null,
      "metadata": {
        "id": "wwtcCLYvsTlj"
      },
      "outputs": [],
      "source": [
        "def regressors_percentage_split():\n",
        "    for estimator_name, estimator_object in estimators.items():\n",
        "        model = estimator_object.fit(X=X_train, y=y_train)\n",
        "        print(estimator_name + ': \\n\\t' + f'R-squared value for training set: {r2_score(y_train, model.predict(X_train))}' \n",
        "              + '\\n\\t' + f'R-squared value for testing set: {r2_score(y_test, model.predict(X_test))}' +\"\\n\")"
      ]
    },
    {
      "cell_type": "code",
      "execution_count": null,
      "metadata": {
        "id": "2xha-oz8sTlj",
        "outputId": "59bc8544-aac2-43c7-bf3f-f142d3828525"
      },
      "outputs": [
        {
          "name": "stdout",
          "output_type": "stream",
          "text": [
            "Linear Regression: \n",
            "\tR-squared value for training set: 0.8866832940313006\n",
            "\tR-squared value for testing set: 0.8747787177558356\n",
            "\n",
            "Ridge: \n",
            "\tR-squared value for training set: 0.8857523325352672\n",
            "\tR-squared value for testing set: 0.8696356299456403\n",
            "\n",
            "Lasso: \n",
            "\tR-squared value for training set: 0.7909719493377705\n",
            "\tR-squared value for testing set: 0.7415012433952806\n",
            "\n",
            "k-Nearest Neighbor: \n",
            "\tR-squared value for training set: 0.9729795093926208\n",
            "\tR-squared value for testing set: 0.9547529979241635\n",
            "\n",
            "Support Vector Machine: \n",
            "\tR-squared value for training set: 0.8751842212299508\n",
            "\tR-squared value for testing set: 0.8475856888793117\n",
            "\n"
          ]
        },
        {
          "name": "stderr",
          "output_type": "stream",
          "text": [
            "/Users/sinasolt/opt/anaconda3/lib/python3.8/site-packages/sklearn/svm/_base.py:985: ConvergenceWarning: Liblinear failed to converge, increase the number of iterations.\n",
            "  warnings.warn(\"Liblinear failed to converge, increase \"\n"
          ]
        }
      ],
      "source": [
        "# your R-square values may slightly differ\n",
        "# but they shouldn't be terribly off\n",
        "regressors_percentage_split()"
      ]
    },
    {
      "attachments": {},
      "cell_type": "markdown",
      "metadata": {
        "id": "c35Iw6lOsTlj"
      },
      "source": [
        "### Question 7 \n",
        "\n",
        "For this question, you will normalize the X_train and X_test variables and perform the same multiple model fitting/evaluation that you did in the previous question. The output of this question will be similar to that of the previous question, with only one major distinction: here the normalized variables will be used to train and test the algorithms. For normalization, apply **MinMaxScaler()**.\n",
        "\n",
        "Write a function that first applies the MinMaxScaler to the X_train and X_test global variables (as defined above) and then applies the same regression estimators. **This function should also return the scaled variables, X_train_scaled and X_test_scaled respectively.** You will need these variables in the next question.\n",
        "\n",
        "*Please read the description very carefully before proceeding to your solution.*"
      ]
    },
    {
      "cell_type": "code",
      "execution_count": null,
      "metadata": {
        "id": "iizcdQlZsTlk"
      },
      "outputs": [],
      "source": [
        "from sklearn.preprocessing import MinMaxScaler"
      ]
    },
    {
      "cell_type": "code",
      "execution_count": null,
      "metadata": {
        "id": "RNgbpr2wsTlk"
      },
      "outputs": [],
      "source": [
        "def preprocessed_regression():\n",
        "    scaler = MinMaxScaler()\n",
        "    scaler.fit(X_train)\n",
        "    X_train_scaled = scaler.transform(X_train)\n",
        "    X_test_scaled = scaler.transform(X_test)\n",
        "    for estimator_name, estimator_object in estimators.items():\n",
        "        model = estimator_object.fit(X=X_train_scaled, y=y_train)\n",
        "        print(estimator_name + ': \\n\\t' + f'R-squared value for training set: {r2_score(y_train, model.predict(X_train_scaled))}' \n",
        "              + '\\n\\t' + f'R-squared value for testing set: {r2_score(y_test, model.predict(X_test_scaled))}' +\"\\n\")\n",
        "    return (X_train_scaled, X_test_scaled)"
      ]
    },
    {
      "cell_type": "code",
      "execution_count": null,
      "metadata": {
        "id": "pDlnW_k4sTlk",
        "outputId": "7401008b-0722-4aee-c574-4c5a43aa5472"
      },
      "outputs": [
        {
          "name": "stdout",
          "output_type": "stream",
          "text": [
            "Linear Regression: \n",
            "\tR-squared value for training set: 0.8894041273141051\n",
            "\tR-squared value for testing set: 0.8753949914843537\n",
            "\n",
            "Ridge: \n",
            "\tR-squared value for training set: 0.8880375941362453\n",
            "\tR-squared value for testing set: 0.8711496370323976\n",
            "\n",
            "Lasso: \n",
            "\tR-squared value for training set: 0.7603527845294311\n",
            "\tR-squared value for testing set: 0.722620408488888\n",
            "\n",
            "k-Nearest Neighbor: \n",
            "\tR-squared value for training set: 0.9260441752256717\n",
            "\tR-squared value for testing set: 0.8870455496740268\n",
            "\n",
            "Support Vector Machine: \n",
            "\tR-squared value for training set: 0.8768118742821988\n",
            "\tR-squared value for testing set: 0.8488452719408155\n",
            "\n"
          ]
        }
      ],
      "source": [
        "X_train_scaled, X_test_scaled = preprocessed_regression()"
      ]
    },
    {
      "attachments": {},
      "cell_type": "markdown",
      "metadata": {
        "id": "eLs6LwHgsTlk"
      },
      "source": [
        "<hr>\n",
        "\n",
        "<center><h1> Part 3 </h1></center>\n",
        "\n",
        "In ML practice, you don't always use the entire set of features when finalizing your ML model for deployment. Instead you select a subset of the most important features to reduce the computational demands of your model. Another common strategy is to tune your model to further improve on the model performance. Therefore, in this final part, you will do both.\n",
        "\n",
        "\n",
        "*Please read question descriptions very carefully before proceeding to your solutions.*\n",
        "\n",
        "<hr>"
      ]
    },
    {
      "attachments": {},
      "cell_type": "markdown",
      "metadata": {
        "id": "sRoJ7tFosTlk"
      },
      "source": [
        "### Question 8 \n",
        "Looking at the previous output, it can be said that the kNN algorithm seems to works best for this dataset. In this question, you will attempt to improve the prediction performance by automatically selecting the most important features (k=3). \n",
        "\n",
        "Use recursive feature elimination (RFE) to select the **three** most important features. For your RFE, use a decision tree regressor to recursively eliminate the features. Your selection must be based on the X_train_scaled and X_test_scaled variables defined in the previous question. \n",
        "\n",
        "The idea is to use the scaled values that provided better results than raw values and to see if we can further improve the prediction performance by only using the most important features. Your function should produce the sample output given below and should also return the selected features, X_train_selected and X_test_selected."
      ]
    },
    {
      "cell_type": "code",
      "execution_count": null,
      "metadata": {
        "id": "L32-1AF5sTll"
      },
      "outputs": [],
      "source": [
        "from sklearn.feature_selection import RFE\n",
        "from sklearn.tree import DecisionTreeRegressor"
      ]
    },
    {
      "cell_type": "code",
      "execution_count": null,
      "metadata": {
        "id": "bqVCcMZasTll"
      },
      "outputs": [],
      "source": [
        "def RFE_feature_selection():\n",
        "    select = RFE(DecisionTreeRegressor(random_state = 3000), n_features_to_select = 3)\n",
        "    select.fit(X_train_scaled, y_train)\n",
        "    print('Selected features after RFE:')\n",
        "    for col, mask in zip(features.columns, select.get_support()):\n",
        "        if mask: print(f'\\t{col}')\n",
        "    print('\\n')\n",
        "    X_train_selected = select.transform(X_train_scaled)\n",
        "    X_test_selected = select.transform(X_test_scaled)\n",
        "    model = estimators['k-Nearest Neighbor'].fit(X=X_train_selected, y=y_train)\n",
        "    print('kNN Regression performance with selected features' + ': \\n\\t' + f'R-squared value for training set: {r2_score(y_train, model.predict(X_train_selected))}' \n",
        "              + '\\n\\t' + f'R-squared value for testing set: {r2_score(y_test, model.predict(X_test_selected))}' +\"\\n\")\n",
        "    return (X_train_selected, X_test_selected)"
      ]
    },
    {
      "cell_type": "code",
      "execution_count": null,
      "metadata": {
        "id": "Q664FamrsTll",
        "outputId": "7b0fd0f8-0d72-4f3f-f5f4-d70d2e51a0c9"
      },
      "outputs": [
        {
          "name": "stdout",
          "output_type": "stream",
          "text": [
            "Selected features after RFE:\n",
            "\tX1\n",
            "\tX3\n",
            "\tX7\n",
            "\n",
            "\n",
            "kNN Regression performance with selected features: \n",
            "\tR-squared value for training set: 0.961705245742336\n",
            "\tR-squared value for testing set: 0.9497826076129472\n",
            "\n"
          ]
        }
      ],
      "source": [
        "X_train_selected, X_test_selected = RFE_feature_selection()"
      ]
    },
    {
      "attachments": {},
      "cell_type": "markdown",
      "metadata": {
        "id": "zs0sNEfssTll"
      },
      "source": [
        "### Question 9 \n",
        "\n",
        "In this penultimate question, you will perform a Grid Search to tune two key parameters of the kNN regression algorithm at the same time and determine which combination yields the best performance. Specifically, you will change the number of neighbors, n_neighbors, and the distance function used to calculate the distance between different data points, metric. The possible values for each hyperparameter are as follows:\n",
        "    \n",
        "    * For n_neighbors, try 1, 5, and 10.\n",
        "    * For metric, try \"euclidean\", \"manhattan\", and \"minkowski\".\n",
        "\n",
        "You can learn more about these three distance functions at https://scikit-learn.org/stable/modules/generated/sklearn.neighbors.DistanceMetric.html.\n",
        "\n",
        "\n",
        "Write a function that applies a Grid Search with kNN regression estimator and evaluates the performance of these parameters using 5-fold evaluation. Your function should produce the provided output. Your function should use the X_train_selected and X_test_selected variables from the previous step. "
      ]
    },
    {
      "cell_type": "code",
      "execution_count": null,
      "metadata": {
        "id": "b8Z-hti0sTll"
      },
      "outputs": [],
      "source": [
        "from sklearn.model_selection import GridSearchCV"
      ]
    },
    {
      "cell_type": "code",
      "execution_count": null,
      "metadata": {
        "id": "ytmvSouCsTll"
      },
      "outputs": [],
      "source": [
        "def grid_search_kNN():\n",
        "    param_grid = {'n_neighbors':[1, 5, 10], 'metric': ['euclidean', 'manhattan', 'minkowski']}\n",
        "    grid_search = GridSearchCV(KNeighborsRegressor(), param_grid, cv=5)\n",
        "    grid_search.fit(X=X_train_selected, y=y_train)\n",
        "    print('Best parameters: ', grid_search.best_params_)\n",
        "    print('Training set score with best parameters: ', grid_search.score(X_train_selected, y_train))\n",
        "    print('Test set score with best parameters: ', grid_search.score(X_test_selected, y_test))"
      ]
    },
    {
      "cell_type": "code",
      "execution_count": null,
      "metadata": {
        "id": "lmkM_12AsTll",
        "outputId": "28a8a1ea-0999-4ab6-93a2-2d40d4c5b2ea"
      },
      "outputs": [
        {
          "name": "stdout",
          "output_type": "stream",
          "text": [
            "Best parameters:  {'metric': 'euclidean', 'n_neighbors': 10}\n",
            "Training set score with best parameters:  0.9679535133666161\n",
            "Test set score with best parameters:  0.9636318595177941\n"
          ]
        }
      ],
      "source": [
        "grid_search_kNN()"
      ]
    },
    {
      "attachments": {},
      "cell_type": "markdown",
      "metadata": {
        "id": "tPrwEvzWsTlm"
      },
      "source": [
        "### Question 10 \n",
        "\n",
        "Comparing the GridSearch result with the selected features and tuned parameters to the original kNN results, what can you conclude about the effects of feature selection and hyperparameter tuning on model performance? "
      ]
    },
    {
      "cell_type": "code",
      "execution_count": null,
      "metadata": {
        "id": "BHUi4Wo4sTlm"
      },
      "outputs": [],
      "source": [
        "# Training set R^2:\n",
        "#     orig: ~0.973\n",
        "#     tuned: ~0.968\n",
        "# Testing set R^2:\n",
        "#     orig: ~0.955\n",
        "#     tuned: ~0.964\n",
        "# Our model became less accurate on the training data and more accurate on the testing data, \n",
        "#   minimizing the difference between the two scores to about ~0.004 compared to ~0.180 before.\n",
        "#   Feature selection helped reduce our model complexity and decrease overfitting, \n",
        "#   helping our model to generalize better."
      ]
    },
    {
      "attachments": {},
      "cell_type": "markdown",
      "metadata": {
        "id": "7DZYaJzrsTlm"
      },
      "source": [
        "  "
      ]
    }
  ],
  "metadata": {
    "colab": {
      "collapsed_sections": [],
      "name": "DS3000_HW7.ipynb",
      "provenance": []
    },
    "kernelspec": {
      "display_name": "Python 3",
      "language": "python",
      "name": "python3"
    },
    "language_info": {
      "codemirror_mode": {
        "name": "ipython",
        "version": 3
      },
      "file_extension": ".py",
      "mimetype": "text/x-python",
      "name": "python",
      "nbconvert_exporter": "python",
      "pygments_lexer": "ipython3",
      "version": "3.8.8"
    }
  },
  "nbformat": 4,
  "nbformat_minor": 0
}
