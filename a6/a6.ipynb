{
  "cells": [
    {
      "attachments": {},
      "cell_type": "markdown",
      "metadata": {
        "id": "WNTMREQu2XNL"
      },
      "source": [
        "<center> <h2> Part 1 </h2> </center>\n",
        "\n",
        "In this assignment, you will work with a popular ML dataset: **The Iris Dataset**. The dataset contains the width and length measurements of the two main parts of iris plants, sepal and petal. The goal is to use these four measurements to classify iris plants into one of the three classes included in the dataset. The classes represent the three types of iris plant, as shown below. \n",
        "\n",
        "The dataset is in fact bundled with sci-kit learn, but you will **not** import the data directly from the library. Instead, in this part, you will first scrape it from a webpage (and thus practice your web scraping skills!) and then prepare it for classification. :)"
      ]
    },
    {
      "attachments": {},
      "cell_type": "markdown",
      "metadata": {
        "id": "45wQIGeq2XNN"
      },
      "source": [
        "### Question 1 \n",
        "    \n",
        "You will see that the table includes five columns corresponding to the feature and target variables from this dataset. Your goal is to scrape the data for these 150 samples from this table. You should refrain from using pandas capabilities to import a table; that's not the goal here. Instead, you should use the web scraping techniques we covered earlier in the semester to scrape the values from this page and store them in a dataframe. \n",
        "\n",
        "With this in mind, write a function, scrape_data(), that uses BeautifulSoup to scrape data from the link above. Your function should first scrape the required data based on the sample output below and then store them in a dataframe, which it should finally return. The returned dataframe should include 150 rows and 5 columns.\n",
        "\n",
        "**Hint 1:**\n",
        "HTML tables consist of rows marked with < tr >. In a row, you have two main cells: header and data cells. Header cells, used for labels, are marked with < th >, and data cells, used for values, are marked with < td >. You should start by examining the source code of the table for one of the rows.\n",
        "\n",
        "**Hint 2:**\n",
        "Sometimes you may need to explicitly specify the data type when storing scraped data in dataframes, as they will be read as string values. For this purpose, you will find it useful to use the astype() method of the dataframe object in pandas:\n",
        "    \n",
        "    * https://pandas.pydata.org/pandas-docs/stable/reference/api/pandas.DataFrame.astype.html"
      ]
    },
    {
      "cell_type": "code",
      "execution_count": null,
      "metadata": {
        "id": "ev2mLqZTp1EI"
      },
      "outputs": [],
      "source": [
        "from bs4 import BeautifulSoup\n",
        "import urllib.request as urllib\n",
        "from urllib.error import HTTPError\n",
        "import pandas as pd"
      ]
    },
    {
      "cell_type": "code",
      "execution_count": null,
      "metadata": {
        "id": "VF-99fWmp1EI"
      },
      "outputs": [],
      "source": [
        "def scrape_data():\n",
        "    \n",
        "    url = 'https://yildirimcaglar.github.io/ds3000/iris/index.html'\n",
        "    try:\n",
        "        html = urllib.urlopen(url)\n",
        "        soup = BeautifulSoup(html.read())\n",
        "        html.close()\n",
        "    except HTTPError:\n",
        "        return \"request failed\"\n",
        "    table = soup.find('table', {'class': 'iris-data'})\n",
        "    \n",
        "    columns = [th_tag.getText() for th_tag in table.find('thead').findAll('th') if th_tag.getText() != '']\n",
        "    data_dict = {key:[] for key in columns}\n",
        "    \n",
        "    for row in table.find('tbody').findAll('tr'):\n",
        "        pdr = pd.Series(index=columns, dtype='float64').astype('float64')\n",
        "        for i, col in enumerate(row.findAll('td')):\n",
        "            data_dict[columns[i]].append(col.getText())\n",
        "\n",
        "    return pd.DataFrame(data_dict).astype('float64')"
      ]
    },
    {
      "cell_type": "code",
      "execution_count": null,
      "metadata": {
        "id": "3SL5q975p1EJ",
        "outputId": "c2dce748-5396-41b3-bafd-c6c6a03030da"
      },
      "outputs": [
        {
          "data": {
            "text/html": [
              "<div>\n",
              "<style scoped>\n",
              "    .dataframe tbody tr th:only-of-type {\n",
              "        vertical-align: middle;\n",
              "    }\n",
              "\n",
              "    .dataframe tbody tr th {\n",
              "        vertical-align: top;\n",
              "    }\n",
              "\n",
              "    .dataframe thead th {\n",
              "        text-align: right;\n",
              "    }\n",
              "</style>\n",
              "<table border=\"1\" class=\"dataframe\">\n",
              "  <thead>\n",
              "    <tr style=\"text-align: right;\">\n",
              "      <th></th>\n",
              "      <th>sepal length</th>\n",
              "      <th>sepal width</th>\n",
              "      <th>petal length</th>\n",
              "      <th>petal width</th>\n",
              "      <th>target</th>\n",
              "    </tr>\n",
              "  </thead>\n",
              "  <tbody>\n",
              "    <tr>\n",
              "      <th>0</th>\n",
              "      <td>5.1</td>\n",
              "      <td>3.5</td>\n",
              "      <td>1.4</td>\n",
              "      <td>0.2</td>\n",
              "      <td>0.0</td>\n",
              "    </tr>\n",
              "    <tr>\n",
              "      <th>1</th>\n",
              "      <td>4.9</td>\n",
              "      <td>3.0</td>\n",
              "      <td>1.4</td>\n",
              "      <td>0.2</td>\n",
              "      <td>0.0</td>\n",
              "    </tr>\n",
              "    <tr>\n",
              "      <th>2</th>\n",
              "      <td>4.7</td>\n",
              "      <td>3.2</td>\n",
              "      <td>1.3</td>\n",
              "      <td>0.2</td>\n",
              "      <td>0.0</td>\n",
              "    </tr>\n",
              "    <tr>\n",
              "      <th>3</th>\n",
              "      <td>4.6</td>\n",
              "      <td>3.1</td>\n",
              "      <td>1.5</td>\n",
              "      <td>0.2</td>\n",
              "      <td>0.0</td>\n",
              "    </tr>\n",
              "    <tr>\n",
              "      <th>4</th>\n",
              "      <td>5.0</td>\n",
              "      <td>3.6</td>\n",
              "      <td>1.4</td>\n",
              "      <td>0.2</td>\n",
              "      <td>0.0</td>\n",
              "    </tr>\n",
              "    <tr>\n",
              "      <th>...</th>\n",
              "      <td>...</td>\n",
              "      <td>...</td>\n",
              "      <td>...</td>\n",
              "      <td>...</td>\n",
              "      <td>...</td>\n",
              "    </tr>\n",
              "    <tr>\n",
              "      <th>145</th>\n",
              "      <td>6.7</td>\n",
              "      <td>3.0</td>\n",
              "      <td>5.2</td>\n",
              "      <td>2.3</td>\n",
              "      <td>2.0</td>\n",
              "    </tr>\n",
              "    <tr>\n",
              "      <th>146</th>\n",
              "      <td>6.3</td>\n",
              "      <td>2.5</td>\n",
              "      <td>5.0</td>\n",
              "      <td>1.9</td>\n",
              "      <td>2.0</td>\n",
              "    </tr>\n",
              "    <tr>\n",
              "      <th>147</th>\n",
              "      <td>6.5</td>\n",
              "      <td>3.0</td>\n",
              "      <td>5.2</td>\n",
              "      <td>2.0</td>\n",
              "      <td>2.0</td>\n",
              "    </tr>\n",
              "    <tr>\n",
              "      <th>148</th>\n",
              "      <td>6.2</td>\n",
              "      <td>3.4</td>\n",
              "      <td>5.4</td>\n",
              "      <td>2.3</td>\n",
              "      <td>2.0</td>\n",
              "    </tr>\n",
              "    <tr>\n",
              "      <th>149</th>\n",
              "      <td>5.9</td>\n",
              "      <td>3.0</td>\n",
              "      <td>5.1</td>\n",
              "      <td>1.8</td>\n",
              "      <td>2.0</td>\n",
              "    </tr>\n",
              "  </tbody>\n",
              "</table>\n",
              "<p>150 rows × 5 columns</p>\n",
              "</div>"
            ],
            "text/plain": [
              "     sepal length  sepal width  petal length  petal width  target\n",
              "0             5.1          3.5           1.4          0.2     0.0\n",
              "1             4.9          3.0           1.4          0.2     0.0\n",
              "2             4.7          3.2           1.3          0.2     0.0\n",
              "3             4.6          3.1           1.5          0.2     0.0\n",
              "4             5.0          3.6           1.4          0.2     0.0\n",
              "..            ...          ...           ...          ...     ...\n",
              "145           6.7          3.0           5.2          2.3     2.0\n",
              "146           6.3          2.5           5.0          1.9     2.0\n",
              "147           6.5          3.0           5.2          2.0     2.0\n",
              "148           6.2          3.4           5.4          2.3     2.0\n",
              "149           5.9          3.0           5.1          1.8     2.0\n",
              "\n",
              "[150 rows x 5 columns]"
            ]
          },
          "execution_count": 5,
          "metadata": {},
          "output_type": "execute_result"
        }
      ],
      "source": [
        "# your function should return a dataset containing the scraped data\n",
        "df = scrape_data()\n",
        "df"
      ]
    },
    {
      "cell_type": "code",
      "execution_count": null,
      "metadata": {
        "id": "gcKfxgWXp1EJ",
        "outputId": "14e24ee4-7c15-4b37-d6e7-3d57fc28b08e",
        "scrolled": true
      },
      "outputs": [
        {
          "data": {
            "text/html": [
              "<div>\n",
              "<style scoped>\n",
              "    .dataframe tbody tr th:only-of-type {\n",
              "        vertical-align: middle;\n",
              "    }\n",
              "\n",
              "    .dataframe tbody tr th {\n",
              "        vertical-align: top;\n",
              "    }\n",
              "\n",
              "    .dataframe thead th {\n",
              "        text-align: right;\n",
              "    }\n",
              "</style>\n",
              "<table border=\"1\" class=\"dataframe\">\n",
              "  <thead>\n",
              "    <tr style=\"text-align: right;\">\n",
              "      <th></th>\n",
              "      <th>sepal length</th>\n",
              "      <th>sepal width</th>\n",
              "      <th>petal length</th>\n",
              "      <th>petal width</th>\n",
              "      <th>target</th>\n",
              "    </tr>\n",
              "  </thead>\n",
              "  <tbody>\n",
              "    <tr>\n",
              "      <th>count</th>\n",
              "      <td>150.000000</td>\n",
              "      <td>150.000000</td>\n",
              "      <td>150.000000</td>\n",
              "      <td>150.000000</td>\n",
              "      <td>150.000000</td>\n",
              "    </tr>\n",
              "    <tr>\n",
              "      <th>mean</th>\n",
              "      <td>5.843333</td>\n",
              "      <td>3.057333</td>\n",
              "      <td>3.758000</td>\n",
              "      <td>1.199333</td>\n",
              "      <td>1.000000</td>\n",
              "    </tr>\n",
              "    <tr>\n",
              "      <th>std</th>\n",
              "      <td>0.828066</td>\n",
              "      <td>0.435866</td>\n",
              "      <td>1.765298</td>\n",
              "      <td>0.762238</td>\n",
              "      <td>0.819232</td>\n",
              "    </tr>\n",
              "    <tr>\n",
              "      <th>min</th>\n",
              "      <td>4.300000</td>\n",
              "      <td>2.000000</td>\n",
              "      <td>1.000000</td>\n",
              "      <td>0.100000</td>\n",
              "      <td>0.000000</td>\n",
              "    </tr>\n",
              "    <tr>\n",
              "      <th>25%</th>\n",
              "      <td>5.100000</td>\n",
              "      <td>2.800000</td>\n",
              "      <td>1.600000</td>\n",
              "      <td>0.300000</td>\n",
              "      <td>0.000000</td>\n",
              "    </tr>\n",
              "    <tr>\n",
              "      <th>50%</th>\n",
              "      <td>5.800000</td>\n",
              "      <td>3.000000</td>\n",
              "      <td>4.350000</td>\n",
              "      <td>1.300000</td>\n",
              "      <td>1.000000</td>\n",
              "    </tr>\n",
              "    <tr>\n",
              "      <th>75%</th>\n",
              "      <td>6.400000</td>\n",
              "      <td>3.300000</td>\n",
              "      <td>5.100000</td>\n",
              "      <td>1.800000</td>\n",
              "      <td>2.000000</td>\n",
              "    </tr>\n",
              "    <tr>\n",
              "      <th>max</th>\n",
              "      <td>7.900000</td>\n",
              "      <td>4.400000</td>\n",
              "      <td>6.900000</td>\n",
              "      <td>2.500000</td>\n",
              "      <td>2.000000</td>\n",
              "    </tr>\n",
              "  </tbody>\n",
              "</table>\n",
              "</div>"
            ],
            "text/plain": [
              "       sepal length  sepal width  petal length  petal width      target\n",
              "count    150.000000   150.000000    150.000000   150.000000  150.000000\n",
              "mean       5.843333     3.057333      3.758000     1.199333    1.000000\n",
              "std        0.828066     0.435866      1.765298     0.762238    0.819232\n",
              "min        4.300000     2.000000      1.000000     0.100000    0.000000\n",
              "25%        5.100000     2.800000      1.600000     0.300000    0.000000\n",
              "50%        5.800000     3.000000      4.350000     1.300000    1.000000\n",
              "75%        6.400000     3.300000      5.100000     1.800000    2.000000\n",
              "max        7.900000     4.400000      6.900000     2.500000    2.000000"
            ]
          },
          "execution_count": 6,
          "metadata": {},
          "output_type": "execute_result"
        }
      ],
      "source": [
        "# here is the descriptive stats table for the columns\n",
        "# for your reference\n",
        "df.describe()"
      ]
    },
    {
      "cell_type": "code",
      "execution_count": null,
      "metadata": {
        "id": "WZ0oaegXp1EK"
      },
      "outputs": [],
      "source": [
        "# remember to save your df as a csv file\n",
        "# and submit it as part of the assignment\n",
        "df.to_csv('iris.csv')"
      ]
    },
    {
      "attachments": {},
      "cell_type": "markdown",
      "metadata": {
        "id": "45te6NLAp1EK"
      },
      "source": [
        "### Question 2 \n",
        "\n",
        "As you can see, each value in the target variable corresponds to a type of iris plant:\n",
        "\n",
        "    * 0: 'Iris-setosa' \n",
        "    * 1: 'Iris-versicolor'\n",
        "    * 2: 'Iris-virginica'\n",
        "    \n",
        "For your convenience, a dictionary is already defined below. \n",
        "\n",
        "Write a helper function, lookup_label, that returns the label associated with a target value from the target_dict below. This function will later be used to look up the label associated with a target value.\n",
        "\n",
        "\n"
      ]
    },
    {
      "cell_type": "code",
      "execution_count": null,
      "metadata": {
        "id": "ov6zYk_Rp1EK"
      },
      "outputs": [],
      "source": [
        "target_dict = {0:\"Iris-setosa\", 1: \"Iris-versicolor\", 2: \"Iris-virginica\"}"
      ]
    },
    {
      "cell_type": "code",
      "execution_count": null,
      "metadata": {
        "id": "4xLb48Gyp1EK"
      },
      "outputs": [],
      "source": [
        "def lookup_label(target_value):\n",
        "    return target_dict[target_value]"
      ]
    },
    {
      "cell_type": "code",
      "execution_count": null,
      "metadata": {
        "id": "1pdncp7Yp1EK",
        "outputId": "88eefb2e-afac-4545-ebef-1b7c4da32aa8"
      },
      "outputs": [
        {
          "data": {
            "text/plain": [
              "'Iris-versicolor'"
            ]
          },
          "execution_count": 10,
          "metadata": {},
          "output_type": "execute_result"
        }
      ],
      "source": [
        "lookup_label(1)"
      ]
    },
    {
      "attachments": {},
      "cell_type": "markdown",
      "metadata": {
        "id": "S0zWWTg3p1EL"
      },
      "source": [
        "### Question 3 \n",
        "Write a function that returns the number of instances of each class in the dataset. \n",
        "\n",
        "Your function should take this into account and return labels (Iris-setosa / Iris-versicolor / Iris-virginica) instead of 0 / 1 / 2. You will need to use one of the data transformation methods we have covered earlier. Refer to the sample output below."
      ]
    },
    {
      "cell_type": "code",
      "execution_count": null,
      "metadata": {
        "id": "OGtcCX_S2XNZ"
      },
      "outputs": [],
      "source": [
        "def case_distribution(df):\n",
        "    return df['target'].map(lookup_label).value_counts()"
      ]
    },
    {
      "cell_type": "code",
      "execution_count": null,
      "metadata": {
        "colab": {
          "base_uri": "https://localhost:8080/",
          "height": 70
        },
        "id": "1SGcGANn2XNc",
        "outputId": "bf7ba58f-39a6-455a-bf8b-18beb1227d22"
      },
      "outputs": [
        {
          "data": {
            "text/plain": [
              "Iris-versicolor    50\n",
              "Iris-virginica     50\n",
              "Iris-setosa        50\n",
              "Name: target, dtype: int64"
            ]
          },
          "execution_count": 12,
          "metadata": {},
          "output_type": "execute_result"
        }
      ],
      "source": [
        "case_distribution(df)"
      ]
    },
    {
      "attachments": {},
      "cell_type": "markdown",
      "metadata": {
        "id": "aVP3QhpG2XNf"
      },
      "source": [
        "### Question 4 \n",
        "Write a function that extracts and returns a tuple of features and target variables from the df dataframe above. Features are all columns from columns 0 to 3, and the target is the target column.\n",
        "\n",
        "    * The features variable should be a DataFrame object with 150 rows and 4 columns\n",
        "    * The target variable should be Series object with 150 values"
      ]
    },
    {
      "cell_type": "code",
      "execution_count": null,
      "metadata": {
        "id": "1dJSb4hb2XNg"
      },
      "outputs": [],
      "source": [
        "def features_and_target(df):\n",
        "    return (df.iloc[:, :-1], df.iloc[:, -1].astype('int32'))"
      ]
    },
    {
      "cell_type": "code",
      "execution_count": null,
      "metadata": {
        "id": "soRnMmwq2XNi"
      },
      "outputs": [],
      "source": [
        "features, target = features_and_target(df)"
      ]
    },
    {
      "cell_type": "code",
      "execution_count": null,
      "metadata": {
        "id": "vdpA6fGTp1EM",
        "outputId": "5bdeb747-91a8-4e29-d11c-58c8f761c1b7"
      },
      "outputs": [
        {
          "data": {
            "text/html": [
              "<div>\n",
              "<style scoped>\n",
              "    .dataframe tbody tr th:only-of-type {\n",
              "        vertical-align: middle;\n",
              "    }\n",
              "\n",
              "    .dataframe tbody tr th {\n",
              "        vertical-align: top;\n",
              "    }\n",
              "\n",
              "    .dataframe thead th {\n",
              "        text-align: right;\n",
              "    }\n",
              "</style>\n",
              "<table border=\"1\" class=\"dataframe\">\n",
              "  <thead>\n",
              "    <tr style=\"text-align: right;\">\n",
              "      <th></th>\n",
              "      <th>sepal length</th>\n",
              "      <th>sepal width</th>\n",
              "      <th>petal length</th>\n",
              "      <th>petal width</th>\n",
              "    </tr>\n",
              "  </thead>\n",
              "  <tbody>\n",
              "    <tr>\n",
              "      <th>0</th>\n",
              "      <td>5.1</td>\n",
              "      <td>3.5</td>\n",
              "      <td>1.4</td>\n",
              "      <td>0.2</td>\n",
              "    </tr>\n",
              "    <tr>\n",
              "      <th>1</th>\n",
              "      <td>4.9</td>\n",
              "      <td>3.0</td>\n",
              "      <td>1.4</td>\n",
              "      <td>0.2</td>\n",
              "    </tr>\n",
              "    <tr>\n",
              "      <th>2</th>\n",
              "      <td>4.7</td>\n",
              "      <td>3.2</td>\n",
              "      <td>1.3</td>\n",
              "      <td>0.2</td>\n",
              "    </tr>\n",
              "    <tr>\n",
              "      <th>3</th>\n",
              "      <td>4.6</td>\n",
              "      <td>3.1</td>\n",
              "      <td>1.5</td>\n",
              "      <td>0.2</td>\n",
              "    </tr>\n",
              "    <tr>\n",
              "      <th>4</th>\n",
              "      <td>5.0</td>\n",
              "      <td>3.6</td>\n",
              "      <td>1.4</td>\n",
              "      <td>0.2</td>\n",
              "    </tr>\n",
              "    <tr>\n",
              "      <th>...</th>\n",
              "      <td>...</td>\n",
              "      <td>...</td>\n",
              "      <td>...</td>\n",
              "      <td>...</td>\n",
              "    </tr>\n",
              "    <tr>\n",
              "      <th>145</th>\n",
              "      <td>6.7</td>\n",
              "      <td>3.0</td>\n",
              "      <td>5.2</td>\n",
              "      <td>2.3</td>\n",
              "    </tr>\n",
              "    <tr>\n",
              "      <th>146</th>\n",
              "      <td>6.3</td>\n",
              "      <td>2.5</td>\n",
              "      <td>5.0</td>\n",
              "      <td>1.9</td>\n",
              "    </tr>\n",
              "    <tr>\n",
              "      <th>147</th>\n",
              "      <td>6.5</td>\n",
              "      <td>3.0</td>\n",
              "      <td>5.2</td>\n",
              "      <td>2.0</td>\n",
              "    </tr>\n",
              "    <tr>\n",
              "      <th>148</th>\n",
              "      <td>6.2</td>\n",
              "      <td>3.4</td>\n",
              "      <td>5.4</td>\n",
              "      <td>2.3</td>\n",
              "    </tr>\n",
              "    <tr>\n",
              "      <th>149</th>\n",
              "      <td>5.9</td>\n",
              "      <td>3.0</td>\n",
              "      <td>5.1</td>\n",
              "      <td>1.8</td>\n",
              "    </tr>\n",
              "  </tbody>\n",
              "</table>\n",
              "<p>150 rows × 4 columns</p>\n",
              "</div>"
            ],
            "text/plain": [
              "     sepal length  sepal width  petal length  petal width\n",
              "0             5.1          3.5           1.4          0.2\n",
              "1             4.9          3.0           1.4          0.2\n",
              "2             4.7          3.2           1.3          0.2\n",
              "3             4.6          3.1           1.5          0.2\n",
              "4             5.0          3.6           1.4          0.2\n",
              "..            ...          ...           ...          ...\n",
              "145           6.7          3.0           5.2          2.3\n",
              "146           6.3          2.5           5.0          1.9\n",
              "147           6.5          3.0           5.2          2.0\n",
              "148           6.2          3.4           5.4          2.3\n",
              "149           5.9          3.0           5.1          1.8\n",
              "\n",
              "[150 rows x 4 columns]"
            ]
          },
          "execution_count": 15,
          "metadata": {},
          "output_type": "execute_result"
        }
      ],
      "source": [
        "features"
      ]
    },
    {
      "cell_type": "code",
      "execution_count": null,
      "metadata": {
        "id": "cb1YvcvLp1EM",
        "outputId": "e8ea6613-3310-45f7-e5b7-9feb3c8d6781"
      },
      "outputs": [
        {
          "data": {
            "text/plain": [
              "0      0\n",
              "1      0\n",
              "2      0\n",
              "3      0\n",
              "4      0\n",
              "      ..\n",
              "145    2\n",
              "146    2\n",
              "147    2\n",
              "148    2\n",
              "149    2\n",
              "Name: target, Length: 150, dtype: int32"
            ]
          },
          "execution_count": 16,
          "metadata": {},
          "output_type": "execute_result"
        }
      ],
      "source": [
        "target"
      ]
    },
    {
      "attachments": {},
      "cell_type": "markdown",
      "metadata": {
        "id": "rUmP_L5Yp1EM"
      },
      "source": [
        "<hr />\n",
        "\n",
        "<center>Splendid! Your dataset is ready. </center>\n",
        "<hr />"
      ]
    },
    {
      "attachments": {},
      "cell_type": "markdown",
      "metadata": {
        "id": "mzc7dT6R2XNn"
      },
      "source": [
        "<center><h1> Part 2 </h1></center>\n",
        "\n",
        "In this part, you will apply and evaluate the four classifiers (kNN, LinearSVC, Naive Bayes, and Decision Tree) introduced so far to the Iris dataset. You will do so using both of the training/testing approaches we have covered."
      ]
    },
    {
      "attachments": {},
      "cell_type": "markdown",
      "metadata": {
        "id": "jVlpWTSD2XNo"
      },
      "source": [
        "### Question 5 \n",
        "You will find it useful to define a dictionary, estimators, containing these four classifiers so you can apply them in an iteration statement. For this question, import the relevant classifiers from sci-kit learn. "
      ]
    },
    {
      "cell_type": "code",
      "execution_count": null,
      "metadata": {
        "id": "K5yJiRyB2XNp"
      },
      "outputs": [],
      "source": [
        "from sklearn.svm import LinearSVC\n",
        "from sklearn.naive_bayes import GaussianNB\n",
        "from sklearn.neighbors import KNeighborsClassifier\n",
        "from sklearn.tree import DecisionTreeClassifier\n",
        "\n",
        "estimators = {\n",
        "    'k-Nearest Neighbor': KNeighborsClassifier(), \n",
        "    'Support Vector Machine': LinearSVC(max_iter=100000),\n",
        "    'Gaussian Naive Bayes': GaussianNB(),\n",
        "    'Decision Tree': DecisionTreeClassifier()}"
      ]
    },
    {
      "cell_type": "code",
      "execution_count": null,
      "metadata": {
        "colab": {
          "base_uri": "https://localhost:8080/",
          "height": 212
        },
        "id": "LhZwqv522XNq",
        "outputId": "5f31d0e8-7635-4427-a59f-1ed4c37ff2e4"
      },
      "outputs": [
        {
          "data": {
            "text/plain": [
              "dict_values([KNeighborsClassifier(), LinearSVC(max_iter=100000), GaussianNB(), DecisionTreeClassifier()])"
            ]
          },
          "execution_count": 18,
          "metadata": {},
          "output_type": "execute_result"
        }
      ],
      "source": [
        "estimators.values()"
      ]
    },
    {
      "attachments": {},
      "cell_type": "markdown",
      "metadata": {
        "id": "flUqoQSK2XNs"
      },
      "source": [
        "### Question 6 \n",
        "\n",
        "Write a function that fits these four classifiers using a percentage-split approach. You will first need to split the dataset into training and testing sets (use variables X_train, X_test, y_train, y_test). Then train and evaluate the model using these four algorithms. Refer to the sample output.\n",
        "\n",
        "You should use an iteration statement to apply these classifiers. Use random_state=3000 when splitting your dataset. Your function should import the necessary functions from sklearn."
      ]
    },
    {
      "cell_type": "code",
      "execution_count": null,
      "metadata": {
        "id": "4lDj__kU2XNs"
      },
      "outputs": [],
      "source": [
        "from sklearn.model_selection import train_test_split\n",
        "\n",
        "def classifiers_percentage_split():\n",
        "    for estimator_name, estimator_object in estimators.items():\n",
        "        \n",
        "        X_train, X_test, y_train, y_test = train_test_split(features, target, random_state=3000)\n",
        "        estimator_object.fit(X_train, y_train)\n",
        "        scores = estimator_object.score(X_test, y_test)\n",
        "\n",
        "        print(estimator_name + \": \\n\\t\" + f'Classification accuracy on the test data={scores.mean():.2%}' +\"\\n\")"
      ]
    },
    {
      "cell_type": "code",
      "execution_count": null,
      "metadata": {
        "id": "D9CcARYup1EM",
        "outputId": "e4f6293f-7116-478a-8231-10560dcf1269"
      },
      "outputs": [
        {
          "name": "stdout",
          "output_type": "stream",
          "text": [
            "k-Nearest Neighbor: \n",
            "\tClassification accuracy on the test data=94.74%\n",
            "\n",
            "Support Vector Machine: \n",
            "\tClassification accuracy on the test data=89.47%\n",
            "\n",
            "Gaussian Naive Bayes: \n",
            "\tClassification accuracy on the test data=89.47%\n",
            "\n",
            "Decision Tree: \n",
            "\tClassification accuracy on the test data=84.21%\n",
            "\n"
          ]
        }
      ],
      "source": [
        "classifiers_percentage_split()"
      ]
    },
    {
      "attachments": {},
      "cell_type": "markdown",
      "metadata": {
        "id": "UqYbhDoF2XNw"
      },
      "source": [
        "### Question 7 \n",
        "\n",
        "Write a function that fits these four classifiers using a **cross-validation** approach. You should use an iteration statement to apply these classifiers. Use random_state=3000 when splitting your dataset. Your function should import the necessary functions from sklearn. Refer to the sample output for the required values."
      ]
    },
    {
      "cell_type": "code",
      "execution_count": null,
      "metadata": {
        "id": "sgPM2Knu2XNw"
      },
      "outputs": [],
      "source": [
        "from sklearn.model_selection import KFold\n",
        "from sklearn.model_selection import cross_val_score\n",
        "\n",
        "def classifiers_cross_validation():\n",
        "    for estimator_name, estimator_object in estimators.items():\n",
        "        kfold = KFold(n_splits=10, random_state=3000, shuffle=True)\n",
        "\n",
        "        scores = cross_val_score(estimator=estimator_object, X=features, y=target, cv=kfold)\n",
        "\n",
        "        print(estimator_name + \": \\n\\t\" + f'mean accuracy={scores.mean():.2%}, ' \n",
        "              + f'standard deviation={scores.std():.2%}' +\"\\n\")"
      ]
    },
    {
      "cell_type": "code",
      "execution_count": null,
      "metadata": {
        "id": "LfxLiY3lp1EN",
        "outputId": "d2750346-0d8d-429e-d1e3-24641d50f719"
      },
      "outputs": [
        {
          "name": "stdout",
          "output_type": "stream",
          "text": [
            "k-Nearest Neighbor: \n",
            "\tmean accuracy=96.67%, standard deviation=4.47%\n",
            "\n",
            "Support Vector Machine: \n",
            "\tmean accuracy=94.67%, standard deviation=5.81%\n",
            "\n",
            "Gaussian Naive Bayes: \n",
            "\tmean accuracy=95.33%, standard deviation=6.00%\n",
            "\n",
            "Decision Tree: \n",
            "\tmean accuracy=94.67%, standard deviation=7.18%\n",
            "\n"
          ]
        }
      ],
      "source": [
        "classifiers_cross_validation()"
      ]
    },
    {
      "attachments": {},
      "cell_type": "markdown",
      "metadata": {
        "id": "oPhiXBCGp1EN"
      },
      "source": [
        "### Question 8 \n",
        "Based on the results from the previous two questions, which **classifier** and **training/testing** approach would you choose? Why?\n",
        "\n",
        "Type your answer below:"
      ]
    },
    {
      "attachments": {},
      "cell_type": "markdown",
      "metadata": {
        "id": "3vmjB51np1EN"
      },
      "source": [
        "#### k-Nearest neighbor classifier with cross-validation training/testing approach b/c highest accuracy, low standard deviation"
      ]
    },
    {
      "attachments": {},
      "cell_type": "markdown",
      "metadata": {
        "id": "j8SEjlQup1EN"
      },
      "source": [
        "<hr />\n",
        "\n",
        "<center>Part 2 is done too! </center>\n",
        "<hr />"
      ]
    },
    {
      "attachments": {},
      "cell_type": "markdown",
      "metadata": {
        "id": "gj_ePLJo2XN0"
      },
      "source": [
        "<center><h1> Part 3 </h1></center>  \n",
        "\n",
        "\n",
        "In this part, you will implement kNN algorithm from scratch. You're strongly encouraged to review the section on the kNN algorithm before attempting this part of the assignment."
      ]
    },
    {
      "attachments": {},
      "cell_type": "markdown",
      "metadata": {
        "id": "4fmfUE-Op1EN"
      },
      "source": [
        "To begin with, once again, split the data, features and target from Q4, into training and test splits to be used in upcoming questions. Use X_train, X_test, y_train, y_test as variable names for the splits. **Use random_state=3000** when splitting the dataset."
      ]
    },
    {
      "cell_type": "code",
      "execution_count": null,
      "metadata": {
        "id": "tzjEULcwcj-X"
      },
      "outputs": [],
      "source": [
        "# ungraded\n",
        "X_train, X_test, y_train, y_test = train_test_split(features, target, random_state=3000)"
      ]
    },
    {
      "cell_type": "code",
      "execution_count": null,
      "metadata": {
        "id": "A5q1Cz0dp1EN",
        "outputId": "a534b20d-3838-4981-91f3-e3c55a6c4554"
      },
      "outputs": [
        {
          "data": {
            "text/html": [
              "<div>\n",
              "<style scoped>\n",
              "    .dataframe tbody tr th:only-of-type {\n",
              "        vertical-align: middle;\n",
              "    }\n",
              "\n",
              "    .dataframe tbody tr th {\n",
              "        vertical-align: top;\n",
              "    }\n",
              "\n",
              "    .dataframe thead th {\n",
              "        text-align: right;\n",
              "    }\n",
              "</style>\n",
              "<table border=\"1\" class=\"dataframe\">\n",
              "  <thead>\n",
              "    <tr style=\"text-align: right;\">\n",
              "      <th></th>\n",
              "      <th>sepal length</th>\n",
              "      <th>sepal width</th>\n",
              "      <th>petal length</th>\n",
              "      <th>petal width</th>\n",
              "    </tr>\n",
              "  </thead>\n",
              "  <tbody>\n",
              "    <tr>\n",
              "      <th>143</th>\n",
              "      <td>6.8</td>\n",
              "      <td>3.2</td>\n",
              "      <td>5.9</td>\n",
              "      <td>2.3</td>\n",
              "    </tr>\n",
              "    <tr>\n",
              "      <th>82</th>\n",
              "      <td>5.8</td>\n",
              "      <td>2.7</td>\n",
              "      <td>3.9</td>\n",
              "      <td>1.2</td>\n",
              "    </tr>\n",
              "    <tr>\n",
              "      <th>12</th>\n",
              "      <td>4.8</td>\n",
              "      <td>3.0</td>\n",
              "      <td>1.4</td>\n",
              "      <td>0.1</td>\n",
              "    </tr>\n",
              "    <tr>\n",
              "      <th>137</th>\n",
              "      <td>6.4</td>\n",
              "      <td>3.1</td>\n",
              "      <td>5.5</td>\n",
              "      <td>1.8</td>\n",
              "    </tr>\n",
              "    <tr>\n",
              "      <th>100</th>\n",
              "      <td>6.3</td>\n",
              "      <td>3.3</td>\n",
              "      <td>6.0</td>\n",
              "      <td>2.5</td>\n",
              "    </tr>\n",
              "  </tbody>\n",
              "</table>\n",
              "</div>"
            ],
            "text/plain": [
              "     sepal length  sepal width  petal length  petal width\n",
              "143           6.8          3.2           5.9          2.3\n",
              "82            5.8          2.7           3.9          1.2\n",
              "12            4.8          3.0           1.4          0.1\n",
              "137           6.4          3.1           5.5          1.8\n",
              "100           6.3          3.3           6.0          2.5"
            ]
          },
          "execution_count": 24,
          "metadata": {},
          "output_type": "execute_result"
        }
      ],
      "source": [
        "# sample output\n",
        "X_train.head()"
      ]
    },
    {
      "cell_type": "code",
      "execution_count": null,
      "metadata": {
        "id": "YPZ7reQvp1EO",
        "outputId": "3c4e5c20-c1c8-4f57-ec64-7195f956eabe"
      },
      "outputs": [
        {
          "data": {
            "text/html": [
              "<div>\n",
              "<style scoped>\n",
              "    .dataframe tbody tr th:only-of-type {\n",
              "        vertical-align: middle;\n",
              "    }\n",
              "\n",
              "    .dataframe tbody tr th {\n",
              "        vertical-align: top;\n",
              "    }\n",
              "\n",
              "    .dataframe thead th {\n",
              "        text-align: right;\n",
              "    }\n",
              "</style>\n",
              "<table border=\"1\" class=\"dataframe\">\n",
              "  <thead>\n",
              "    <tr style=\"text-align: right;\">\n",
              "      <th></th>\n",
              "      <th>sepal length</th>\n",
              "      <th>sepal width</th>\n",
              "      <th>petal length</th>\n",
              "      <th>petal width</th>\n",
              "    </tr>\n",
              "  </thead>\n",
              "  <tbody>\n",
              "    <tr>\n",
              "      <th>59</th>\n",
              "      <td>5.2</td>\n",
              "      <td>2.7</td>\n",
              "      <td>3.9</td>\n",
              "      <td>1.4</td>\n",
              "    </tr>\n",
              "    <tr>\n",
              "      <th>19</th>\n",
              "      <td>5.1</td>\n",
              "      <td>3.8</td>\n",
              "      <td>1.5</td>\n",
              "      <td>0.3</td>\n",
              "    </tr>\n",
              "    <tr>\n",
              "      <th>98</th>\n",
              "      <td>5.1</td>\n",
              "      <td>2.5</td>\n",
              "      <td>3.0</td>\n",
              "      <td>1.1</td>\n",
              "    </tr>\n",
              "    <tr>\n",
              "      <th>67</th>\n",
              "      <td>5.8</td>\n",
              "      <td>2.7</td>\n",
              "      <td>4.1</td>\n",
              "      <td>1.0</td>\n",
              "    </tr>\n",
              "    <tr>\n",
              "      <th>24</th>\n",
              "      <td>4.8</td>\n",
              "      <td>3.4</td>\n",
              "      <td>1.9</td>\n",
              "      <td>0.2</td>\n",
              "    </tr>\n",
              "  </tbody>\n",
              "</table>\n",
              "</div>"
            ],
            "text/plain": [
              "    sepal length  sepal width  petal length  petal width\n",
              "59           5.2          2.7           3.9          1.4\n",
              "19           5.1          3.8           1.5          0.3\n",
              "98           5.1          2.5           3.0          1.1\n",
              "67           5.8          2.7           4.1          1.0\n",
              "24           4.8          3.4           1.9          0.2"
            ]
          },
          "execution_count": 25,
          "metadata": {},
          "output_type": "execute_result"
        }
      ],
      "source": [
        "X_test.head()"
      ]
    },
    {
      "attachments": {},
      "cell_type": "markdown",
      "metadata": {
        "id": "rSmINYMJaWdo"
      },
      "source": [
        "### Question 9 \n",
        "Write your own function called 'euclidean_distance' that calculates euclidean distance between 2 vectors. \n",
        "- The function accepts row1 and row2 as parameters (you can assume they are of the same size)\n",
        "- It returns the euclidean distance between them\n",
        "\n",
        "**Hint:** The math module has a function that returns the square root of a number (look it up!).\n",
        "\n",
        "Refer to the sample output below."
      ]
    },
    {
      "cell_type": "code",
      "execution_count": null,
      "metadata": {
        "code_folding": [],
        "id": "y1aTaDtdaT_-"
      },
      "outputs": [],
      "source": [
        "import math\n",
        "def euclidean_distance(row1, row2):\n",
        "    d_squared = [(a - b)**2 for a, b in zip(row1, row2)]\n",
        "    return math.sqrt(sum(d_squared))"
      ]
    },
    {
      "cell_type": "code",
      "execution_count": null,
      "metadata": {
        "id": "1hggqxafp1EO",
        "outputId": "4d003b77-88df-42fa-e687-88049e49d608"
      },
      "outputs": [
        {
          "data": {
            "text/plain": [
              "5.0"
            ]
          },
          "execution_count": 27,
          "metadata": {},
          "output_type": "execute_result"
        }
      ],
      "source": [
        "euclidean_distance(row1 = [5,6], row2 = [2,10])"
      ]
    },
    {
      "cell_type": "code",
      "execution_count": null,
      "metadata": {
        "id": "vrustktkp1EO",
        "outputId": "0ff3c409-0d53-4a0b-8d56-4a1ab260a6d8"
      },
      "outputs": [
        {
          "data": {
            "text/plain": [
              "5.196152422706632"
            ]
          },
          "execution_count": 28,
          "metadata": {},
          "output_type": "execute_result"
        }
      ],
      "source": [
        "euclidean_distance(row1 = [1,2,3], row2 = [4,5,6])"
      ]
    },
    {
      "attachments": {},
      "cell_type": "markdown",
      "metadata": {
        "id": "cnv5ov00p1EO"
      },
      "source": [
        "### Question 10 \n",
        "Write a function 'calculate_distances' to find the distance between each row in the training set and a given test row instance. Please note that this will make little sense if you have not reviewed the idea behind the kNN algorithm.\n",
        "\n",
        "* The function should take **test_row** and **X_train** as arguments.\n",
        "* It should return a list of distances that has the length same as the number of rows in **X_train**\n",
        "* The elements of the list should correspond to the distances between the rows of X_train and the test row given below in the same order. \n",
        "\n",
        "**Note:** Use 'euclidean_distance' function defined in the previous question to compute the distances.\n",
        "\n",
        "Refer to the sample output below. Use the sample test row defined below for testing purposes."
      ]
    },
    {
      "cell_type": "code",
      "execution_count": null,
      "metadata": {
        "id": "QKlQC_jFp1EO"
      },
      "outputs": [],
      "source": [
        "# Sample test row \n",
        "test_row = X_test.iloc[0,:]\n",
        "\n",
        "# Sample test target\n",
        "test_row_target = y_test.iloc[0]"
      ]
    },
    {
      "cell_type": "code",
      "execution_count": null,
      "metadata": {
        "id": "CJrTon7wp1EO",
        "outputId": "b4062684-c4d9-4814-d897-bb4c38bcee78"
      },
      "outputs": [
        {
          "data": {
            "text/plain": [
              "sepal length    5.2\n",
              "sepal width     2.7\n",
              "petal length    3.9\n",
              "petal width     1.4\n",
              "Name: 59, dtype: float64"
            ]
          },
          "execution_count": 30,
          "metadata": {},
          "output_type": "execute_result"
        }
      ],
      "source": [
        "#here are the features\n",
        "test_row"
      ]
    },
    {
      "cell_type": "code",
      "execution_count": null,
      "metadata": {
        "id": "eUv_WEWfp1EO",
        "outputId": "46bccc77-6937-479f-b15a-c10d6b55de25"
      },
      "outputs": [
        {
          "data": {
            "text/plain": [
              "1"
            ]
          },
          "execution_count": 31,
          "metadata": {},
          "output_type": "execute_result"
        }
      ],
      "source": [
        "#here is the target\n",
        "test_row_target"
      ]
    },
    {
      "cell_type": "code",
      "execution_count": null,
      "metadata": {
        "id": "2cCo3wj5p1EO",
        "outputId": "3a088fc0-fd30-4ace-a33f-e5b8df3413f8"
      },
      "outputs": [
        {
          "data": {
            "text/plain": [
              "'Iris-versicolor'"
            ]
          },
          "execution_count": 32,
          "metadata": {},
          "output_type": "execute_result"
        }
      ],
      "source": [
        "#here is the label associated with the target\n",
        "lookup_label(test_row_target)"
      ]
    },
    {
      "cell_type": "code",
      "execution_count": null,
      "metadata": {
        "id": "_yLSXYelp1EO"
      },
      "outputs": [],
      "source": [
        "def calculate_distances(test_row, X_train):\n",
        "    return X_train.apply(lambda row: euclidean_distance(test_row, row), axis=1).values.tolist()"
      ]
    },
    {
      "cell_type": "code",
      "execution_count": null,
      "metadata": {
        "id": "My1if1HGp1EO"
      },
      "outputs": [],
      "source": [
        "distances = calculate_distances(test_row, X_train)"
      ]
    },
    {
      "cell_type": "code",
      "execution_count": null,
      "metadata": {
        "id": "R1SFvNVdp1EO",
        "outputId": "89d79e20-f452-47f5-cc23-3ac9197ee539"
      },
      "outputs": [
        {
          "data": {
            "text/plain": [
              "[2.760434748368452,\n",
              " 0.6324555320336755,\n",
              " 2.8618176042508368,\n",
              " 2.078460969082653,\n",
              " 2.681417535558384]"
            ]
          },
          "execution_count": 35,
          "metadata": {},
          "output_type": "execute_result"
        }
      ],
      "source": [
        "#here are the distances between the test row and the first 5 samples in the training set\n",
        "distances[:5]"
      ]
    },
    {
      "cell_type": "code",
      "execution_count": null,
      "metadata": {
        "id": "m23FvM9-p1EO",
        "outputId": "56e2fd83-92b1-43b3-e234-dca024bacee6"
      },
      "outputs": [
        {
          "data": {
            "text/plain": [
              "2.760434748368452"
            ]
          },
          "execution_count": 36,
          "metadata": {},
          "output_type": "execute_result"
        }
      ],
      "source": [
        "#this is the distance between the sample in the first row of X_train and test_row defined above\n",
        "distances[0] "
      ]
    },
    {
      "attachments": {},
      "cell_type": "markdown",
      "metadata": {
        "id": "ntN6Ufh-p1EP"
      },
      "source": [
        "### So far...\n",
        "\n",
        "Run the following script to add X_train to a new dataframe along with the distances calculated above and the actual target values from the original dataset. When successfully implemented, your dataframe, called, df_distances, should look like the sample dataframe given below."
      ]
    },
    {
      "cell_type": "code",
      "execution_count": null,
      "metadata": {
        "id": "3qWjJTjdp1EP"
      },
      "outputs": [],
      "source": [
        "# assign() method adds a new column \"distance\", assigns distances to this column, and returns a new df\n",
        "df_distances = X_train.assign(distance = distances) \n",
        "\n",
        "#let's add the actual labels as well\n",
        "df_distances[\"target\"] = y_train"
      ]
    },
    {
      "cell_type": "code",
      "execution_count": null,
      "metadata": {
        "id": "Ocs38Nrjp1EP",
        "outputId": "e8deaea5-5b4e-4e40-91c4-7ffa8b68644f"
      },
      "outputs": [
        {
          "data": {
            "text/html": [
              "<div>\n",
              "<style scoped>\n",
              "    .dataframe tbody tr th:only-of-type {\n",
              "        vertical-align: middle;\n",
              "    }\n",
              "\n",
              "    .dataframe tbody tr th {\n",
              "        vertical-align: top;\n",
              "    }\n",
              "\n",
              "    .dataframe thead th {\n",
              "        text-align: right;\n",
              "    }\n",
              "</style>\n",
              "<table border=\"1\" class=\"dataframe\">\n",
              "  <thead>\n",
              "    <tr style=\"text-align: right;\">\n",
              "      <th></th>\n",
              "      <th>sepal length</th>\n",
              "      <th>sepal width</th>\n",
              "      <th>petal length</th>\n",
              "      <th>petal width</th>\n",
              "      <th>distance</th>\n",
              "      <th>target</th>\n",
              "    </tr>\n",
              "  </thead>\n",
              "  <tbody>\n",
              "    <tr>\n",
              "      <th>143</th>\n",
              "      <td>6.8</td>\n",
              "      <td>3.2</td>\n",
              "      <td>5.9</td>\n",
              "      <td>2.3</td>\n",
              "      <td>2.760435</td>\n",
              "      <td>2</td>\n",
              "    </tr>\n",
              "    <tr>\n",
              "      <th>82</th>\n",
              "      <td>5.8</td>\n",
              "      <td>2.7</td>\n",
              "      <td>3.9</td>\n",
              "      <td>1.2</td>\n",
              "      <td>0.632456</td>\n",
              "      <td>1</td>\n",
              "    </tr>\n",
              "    <tr>\n",
              "      <th>12</th>\n",
              "      <td>4.8</td>\n",
              "      <td>3.0</td>\n",
              "      <td>1.4</td>\n",
              "      <td>0.1</td>\n",
              "      <td>2.861818</td>\n",
              "      <td>0</td>\n",
              "    </tr>\n",
              "    <tr>\n",
              "      <th>137</th>\n",
              "      <td>6.4</td>\n",
              "      <td>3.1</td>\n",
              "      <td>5.5</td>\n",
              "      <td>1.8</td>\n",
              "      <td>2.078461</td>\n",
              "      <td>2</td>\n",
              "    </tr>\n",
              "    <tr>\n",
              "      <th>100</th>\n",
              "      <td>6.3</td>\n",
              "      <td>3.3</td>\n",
              "      <td>6.0</td>\n",
              "      <td>2.5</td>\n",
              "      <td>2.681418</td>\n",
              "      <td>2</td>\n",
              "    </tr>\n",
              "  </tbody>\n",
              "</table>\n",
              "</div>"
            ],
            "text/plain": [
              "     sepal length  sepal width  petal length  petal width  distance  target\n",
              "143           6.8          3.2           5.9          2.3  2.760435       2\n",
              "82            5.8          2.7           3.9          1.2  0.632456       1\n",
              "12            4.8          3.0           1.4          0.1  2.861818       0\n",
              "137           6.4          3.1           5.5          1.8  2.078461       2\n",
              "100           6.3          3.3           6.0          2.5  2.681418       2"
            ]
          },
          "execution_count": 38,
          "metadata": {},
          "output_type": "execute_result"
        }
      ],
      "source": [
        "#this is what the new df looks like\n",
        "df_distances.head()"
      ]
    },
    {
      "cell_type": "code",
      "execution_count": null,
      "metadata": {
        "id": "eWpFCPemp1EP",
        "outputId": "6e29823c-b4b7-422e-b46d-7ec9b53c67da"
      },
      "outputs": [
        {
          "data": {
            "text/html": [
              "<div>\n",
              "<style scoped>\n",
              "    .dataframe tbody tr th:only-of-type {\n",
              "        vertical-align: middle;\n",
              "    }\n",
              "\n",
              "    .dataframe tbody tr th {\n",
              "        vertical-align: top;\n",
              "    }\n",
              "\n",
              "    .dataframe thead th {\n",
              "        text-align: right;\n",
              "    }\n",
              "</style>\n",
              "<table border=\"1\" class=\"dataframe\">\n",
              "  <thead>\n",
              "    <tr style=\"text-align: right;\">\n",
              "      <th></th>\n",
              "      <th>sepal length</th>\n",
              "      <th>sepal width</th>\n",
              "      <th>petal length</th>\n",
              "      <th>petal width</th>\n",
              "    </tr>\n",
              "  </thead>\n",
              "  <tbody>\n",
              "    <tr>\n",
              "      <th>143</th>\n",
              "      <td>6.8</td>\n",
              "      <td>3.2</td>\n",
              "      <td>5.9</td>\n",
              "      <td>2.3</td>\n",
              "    </tr>\n",
              "    <tr>\n",
              "      <th>82</th>\n",
              "      <td>5.8</td>\n",
              "      <td>2.7</td>\n",
              "      <td>3.9</td>\n",
              "      <td>1.2</td>\n",
              "    </tr>\n",
              "    <tr>\n",
              "      <th>12</th>\n",
              "      <td>4.8</td>\n",
              "      <td>3.0</td>\n",
              "      <td>1.4</td>\n",
              "      <td>0.1</td>\n",
              "    </tr>\n",
              "    <tr>\n",
              "      <th>137</th>\n",
              "      <td>6.4</td>\n",
              "      <td>3.1</td>\n",
              "      <td>5.5</td>\n",
              "      <td>1.8</td>\n",
              "    </tr>\n",
              "    <tr>\n",
              "      <th>100</th>\n",
              "      <td>6.3</td>\n",
              "      <td>3.3</td>\n",
              "      <td>6.0</td>\n",
              "      <td>2.5</td>\n",
              "    </tr>\n",
              "  </tbody>\n",
              "</table>\n",
              "</div>"
            ],
            "text/plain": [
              "     sepal length  sepal width  petal length  petal width\n",
              "143           6.8          3.2           5.9          2.3\n",
              "82            5.8          2.7           3.9          1.2\n",
              "12            4.8          3.0           1.4          0.1\n",
              "137           6.4          3.1           5.5          1.8\n",
              "100           6.3          3.3           6.0          2.5"
            ]
          },
          "execution_count": 39,
          "metadata": {},
          "output_type": "execute_result"
        }
      ],
      "source": [
        "#as a reminder, this is what X_train looks like\n",
        "X_train.head()"
      ]
    },
    {
      "attachments": {},
      "cell_type": "markdown",
      "metadata": {
        "id": "7_RzG2GVp1EP"
      },
      "source": [
        "### Question 11 \n",
        "\n",
        "Write a function, sort_by_distance, that sorts the above df_distances by the distance column in ascending order and returns it. Your function should expect to receive these as arguments, as shown in the sample function call below:"
      ]
    },
    {
      "cell_type": "code",
      "execution_count": null,
      "metadata": {
        "id": "t1cUI-4Bp1EP"
      },
      "outputs": [],
      "source": [
        "def sort_by_distance(df_distances, column_name):\n",
        "    return df_distances.sort_values(by=column_name)"
      ]
    },
    {
      "cell_type": "code",
      "execution_count": null,
      "metadata": {
        "id": "Xu-Pj3BZp1EP",
        "outputId": "a02b6b24-a895-4db0-88ea-4721a482b321"
      },
      "outputs": [
        {
          "data": {
            "text/html": [
              "<div>\n",
              "<style scoped>\n",
              "    .dataframe tbody tr th:only-of-type {\n",
              "        vertical-align: middle;\n",
              "    }\n",
              "\n",
              "    .dataframe tbody tr th {\n",
              "        vertical-align: top;\n",
              "    }\n",
              "\n",
              "    .dataframe thead th {\n",
              "        text-align: right;\n",
              "    }\n",
              "</style>\n",
              "<table border=\"1\" class=\"dataframe\">\n",
              "  <thead>\n",
              "    <tr style=\"text-align: right;\">\n",
              "      <th></th>\n",
              "      <th>sepal length</th>\n",
              "      <th>sepal width</th>\n",
              "      <th>petal length</th>\n",
              "      <th>petal width</th>\n",
              "      <th>distance</th>\n",
              "      <th>target</th>\n",
              "    </tr>\n",
              "  </thead>\n",
              "  <tbody>\n",
              "    <tr>\n",
              "      <th>89</th>\n",
              "      <td>5.5</td>\n",
              "      <td>2.5</td>\n",
              "      <td>4.0</td>\n",
              "      <td>1.3</td>\n",
              "      <td>0.387298</td>\n",
              "      <td>1</td>\n",
              "    </tr>\n",
              "    <tr>\n",
              "      <th>94</th>\n",
              "      <td>5.6</td>\n",
              "      <td>2.7</td>\n",
              "      <td>4.2</td>\n",
              "      <td>1.3</td>\n",
              "      <td>0.509902</td>\n",
              "      <td>1</td>\n",
              "    </tr>\n",
              "    <tr>\n",
              "      <th>53</th>\n",
              "      <td>5.5</td>\n",
              "      <td>2.3</td>\n",
              "      <td>4.0</td>\n",
              "      <td>1.3</td>\n",
              "      <td>0.519615</td>\n",
              "      <td>1</td>\n",
              "    </tr>\n",
              "    <tr>\n",
              "      <th>80</th>\n",
              "      <td>5.5</td>\n",
              "      <td>2.4</td>\n",
              "      <td>3.8</td>\n",
              "      <td>1.1</td>\n",
              "      <td>0.529150</td>\n",
              "      <td>1</td>\n",
              "    </tr>\n",
              "    <tr>\n",
              "      <th>69</th>\n",
              "      <td>5.6</td>\n",
              "      <td>2.5</td>\n",
              "      <td>3.9</td>\n",
              "      <td>1.1</td>\n",
              "      <td>0.538516</td>\n",
              "      <td>1</td>\n",
              "    </tr>\n",
              "    <tr>\n",
              "      <th>...</th>\n",
              "      <td>...</td>\n",
              "      <td>...</td>\n",
              "      <td>...</td>\n",
              "      <td>...</td>\n",
              "      <td>...</td>\n",
              "      <td>...</td>\n",
              "    </tr>\n",
              "    <tr>\n",
              "      <th>105</th>\n",
              "      <td>7.6</td>\n",
              "      <td>3.0</td>\n",
              "      <td>6.6</td>\n",
              "      <td>2.1</td>\n",
              "      <td>3.691883</td>\n",
              "      <td>2</td>\n",
              "    </tr>\n",
              "    <tr>\n",
              "      <th>122</th>\n",
              "      <td>7.7</td>\n",
              "      <td>2.8</td>\n",
              "      <td>6.7</td>\n",
              "      <td>2.0</td>\n",
              "      <td>3.802631</td>\n",
              "      <td>2</td>\n",
              "    </tr>\n",
              "    <tr>\n",
              "      <th>131</th>\n",
              "      <td>7.9</td>\n",
              "      <td>3.8</td>\n",
              "      <td>6.4</td>\n",
              "      <td>2.0</td>\n",
              "      <td>3.887158</td>\n",
              "      <td>2</td>\n",
              "    </tr>\n",
              "    <tr>\n",
              "      <th>117</th>\n",
              "      <td>7.7</td>\n",
              "      <td>3.8</td>\n",
              "      <td>6.7</td>\n",
              "      <td>2.2</td>\n",
              "      <td>3.992493</td>\n",
              "      <td>2</td>\n",
              "    </tr>\n",
              "    <tr>\n",
              "      <th>118</th>\n",
              "      <td>7.7</td>\n",
              "      <td>2.6</td>\n",
              "      <td>6.9</td>\n",
              "      <td>2.3</td>\n",
              "      <td>4.008740</td>\n",
              "      <td>2</td>\n",
              "    </tr>\n",
              "  </tbody>\n",
              "</table>\n",
              "<p>112 rows × 6 columns</p>\n",
              "</div>"
            ],
            "text/plain": [
              "     sepal length  sepal width  petal length  petal width  distance  target\n",
              "89            5.5          2.5           4.0          1.3  0.387298       1\n",
              "94            5.6          2.7           4.2          1.3  0.509902       1\n",
              "53            5.5          2.3           4.0          1.3  0.519615       1\n",
              "80            5.5          2.4           3.8          1.1  0.529150       1\n",
              "69            5.6          2.5           3.9          1.1  0.538516       1\n",
              "..            ...          ...           ...          ...       ...     ...\n",
              "105           7.6          3.0           6.6          2.1  3.691883       2\n",
              "122           7.7          2.8           6.7          2.0  3.802631       2\n",
              "131           7.9          3.8           6.4          2.0  3.887158       2\n",
              "117           7.7          3.8           6.7          2.2  3.992493       2\n",
              "118           7.7          2.6           6.9          2.3  4.008740       2\n",
              "\n",
              "[112 rows x 6 columns]"
            ]
          },
          "execution_count": 41,
          "metadata": {},
          "output_type": "execute_result"
        }
      ],
      "source": [
        "df_distances = sort_by_distance(df_distances, \"distance\")\n",
        "df_distances"
      ]
    },
    {
      "attachments": {},
      "cell_type": "markdown",
      "metadata": {
        "id": "ajR0sEtKp1EP"
      },
      "source": [
        "### Question 12 \n",
        "Write a function 'find_neighbors' to find the k-closest samples in the training set to a given test row instance.\n",
        "\n",
        "- The function takes df_distances and k as parameters\n",
        "- It should return a subset of the df_distances dataframe containing the k-nearest points in the train_set to test_row. Notice that the top k elements in the dataframe are same as the k nearest neighbors.\n",
        "- The length of the returned dataframe should be be equal to k\n",
        "\n",
        "Refer to the sample output below."
      ]
    },
    {
      "cell_type": "code",
      "execution_count": null,
      "metadata": {
        "id": "epYSHKdYp1EP"
      },
      "outputs": [],
      "source": [
        "def find_neighbors(df_distances, k):\n",
        "    return sort_by_distance(df_distances, 'distance').iloc[:k, :]"
      ]
    },
    {
      "cell_type": "code",
      "execution_count": null,
      "metadata": {
        "id": "v4TVkGPMp1EP",
        "outputId": "0fbe0ad6-6cfe-431d-dc86-4d3aa5632ee1"
      },
      "outputs": [
        {
          "data": {
            "text/html": [
              "<div>\n",
              "<style scoped>\n",
              "    .dataframe tbody tr th:only-of-type {\n",
              "        vertical-align: middle;\n",
              "    }\n",
              "\n",
              "    .dataframe tbody tr th {\n",
              "        vertical-align: top;\n",
              "    }\n",
              "\n",
              "    .dataframe thead th {\n",
              "        text-align: right;\n",
              "    }\n",
              "</style>\n",
              "<table border=\"1\" class=\"dataframe\">\n",
              "  <thead>\n",
              "    <tr style=\"text-align: right;\">\n",
              "      <th></th>\n",
              "      <th>sepal length</th>\n",
              "      <th>sepal width</th>\n",
              "      <th>petal length</th>\n",
              "      <th>petal width</th>\n",
              "      <th>distance</th>\n",
              "      <th>target</th>\n",
              "    </tr>\n",
              "  </thead>\n",
              "  <tbody>\n",
              "    <tr>\n",
              "      <th>89</th>\n",
              "      <td>5.5</td>\n",
              "      <td>2.5</td>\n",
              "      <td>4.0</td>\n",
              "      <td>1.3</td>\n",
              "      <td>0.387298</td>\n",
              "      <td>1</td>\n",
              "    </tr>\n",
              "    <tr>\n",
              "      <th>94</th>\n",
              "      <td>5.6</td>\n",
              "      <td>2.7</td>\n",
              "      <td>4.2</td>\n",
              "      <td>1.3</td>\n",
              "      <td>0.509902</td>\n",
              "      <td>1</td>\n",
              "    </tr>\n",
              "    <tr>\n",
              "      <th>53</th>\n",
              "      <td>5.5</td>\n",
              "      <td>2.3</td>\n",
              "      <td>4.0</td>\n",
              "      <td>1.3</td>\n",
              "      <td>0.519615</td>\n",
              "      <td>1</td>\n",
              "    </tr>\n",
              "  </tbody>\n",
              "</table>\n",
              "</div>"
            ],
            "text/plain": [
              "    sepal length  sepal width  petal length  petal width  distance  target\n",
              "89           5.5          2.5           4.0          1.3  0.387298       1\n",
              "94           5.6          2.7           4.2          1.3  0.509902       1\n",
              "53           5.5          2.3           4.0          1.3  0.519615       1"
            ]
          },
          "execution_count": 43,
          "metadata": {},
          "output_type": "execute_result"
        }
      ],
      "source": [
        "#sample function call with k=3\n",
        "df_knn = find_neighbors(df_distances, 3)\n",
        "df_knn"
      ]
    },
    {
      "cell_type": "code",
      "execution_count": null,
      "metadata": {
        "id": "zXzRQG3zp1EP",
        "outputId": "ead0bab1-646d-4dc6-92bb-897fc8107830"
      },
      "outputs": [
        {
          "data": {
            "text/html": [
              "<div>\n",
              "<style scoped>\n",
              "    .dataframe tbody tr th:only-of-type {\n",
              "        vertical-align: middle;\n",
              "    }\n",
              "\n",
              "    .dataframe tbody tr th {\n",
              "        vertical-align: top;\n",
              "    }\n",
              "\n",
              "    .dataframe thead th {\n",
              "        text-align: right;\n",
              "    }\n",
              "</style>\n",
              "<table border=\"1\" class=\"dataframe\">\n",
              "  <thead>\n",
              "    <tr style=\"text-align: right;\">\n",
              "      <th></th>\n",
              "      <th>sepal length</th>\n",
              "      <th>sepal width</th>\n",
              "      <th>petal length</th>\n",
              "      <th>petal width</th>\n",
              "      <th>distance</th>\n",
              "      <th>target</th>\n",
              "    </tr>\n",
              "  </thead>\n",
              "  <tbody>\n",
              "    <tr>\n",
              "      <th>89</th>\n",
              "      <td>5.5</td>\n",
              "      <td>2.5</td>\n",
              "      <td>4.0</td>\n",
              "      <td>1.3</td>\n",
              "      <td>0.387298</td>\n",
              "      <td>1</td>\n",
              "    </tr>\n",
              "    <tr>\n",
              "      <th>94</th>\n",
              "      <td>5.6</td>\n",
              "      <td>2.7</td>\n",
              "      <td>4.2</td>\n",
              "      <td>1.3</td>\n",
              "      <td>0.509902</td>\n",
              "      <td>1</td>\n",
              "    </tr>\n",
              "    <tr>\n",
              "      <th>53</th>\n",
              "      <td>5.5</td>\n",
              "      <td>2.3</td>\n",
              "      <td>4.0</td>\n",
              "      <td>1.3</td>\n",
              "      <td>0.519615</td>\n",
              "      <td>1</td>\n",
              "    </tr>\n",
              "    <tr>\n",
              "      <th>80</th>\n",
              "      <td>5.5</td>\n",
              "      <td>2.4</td>\n",
              "      <td>3.8</td>\n",
              "      <td>1.1</td>\n",
              "      <td>0.529150</td>\n",
              "      <td>1</td>\n",
              "    </tr>\n",
              "    <tr>\n",
              "      <th>69</th>\n",
              "      <td>5.6</td>\n",
              "      <td>2.5</td>\n",
              "      <td>3.9</td>\n",
              "      <td>1.1</td>\n",
              "      <td>0.538516</td>\n",
              "      <td>1</td>\n",
              "    </tr>\n",
              "  </tbody>\n",
              "</table>\n",
              "</div>"
            ],
            "text/plain": [
              "    sepal length  sepal width  petal length  petal width  distance  target\n",
              "89           5.5          2.5           4.0          1.3  0.387298       1\n",
              "94           5.6          2.7           4.2          1.3  0.509902       1\n",
              "53           5.5          2.3           4.0          1.3  0.519615       1\n",
              "80           5.5          2.4           3.8          1.1  0.529150       1\n",
              "69           5.6          2.5           3.9          1.1  0.538516       1"
            ]
          },
          "execution_count": 44,
          "metadata": {},
          "output_type": "execute_result"
        }
      ],
      "source": [
        "#another sample function call with a different k\n",
        "find_neighbors(df_distances, 5)"
      ]
    },
    {
      "attachments": {},
      "cell_type": "markdown",
      "metadata": {
        "id": "kUZqzINCp1EP"
      },
      "source": [
        "### Question 13 \n",
        "Write a function majority_vote that performs a majority vote to determine the predicted label associated with a test sample.\n",
        "\n",
        "- The function contains takes df_knn and the column name on which the majority vote is to be performed. For a classification problem, the majority vote simply involves determining the mode of labels for the k-nearest neighbors included in the df_knn dataframe.\n",
        "- The function should return a prediction in the form of an int number, which represents the most frequently occuring label present in the df_knn dataframe\n",
        "\n",
        "Refer to the sample output below."
      ]
    },
    {
      "cell_type": "code",
      "execution_count": null,
      "metadata": {
        "id": "O4w54v5Tp1EP"
      },
      "outputs": [],
      "source": [
        "def majority_vote(df_knn, column_name):\n",
        "    return df_knn[column_name].mode().values[0]"
      ]
    },
    {
      "cell_type": "code",
      "execution_count": null,
      "metadata": {
        "id": "9S8Jn0utp1EP",
        "outputId": "1bfe78ad-7105-4994-f51e-bc24c129f4e8"
      },
      "outputs": [
        {
          "data": {
            "text/plain": [
              "1"
            ]
          },
          "execution_count": 46,
          "metadata": {},
          "output_type": "execute_result"
        }
      ],
      "source": [
        "prediction = majority_vote(df_knn, \"target\")\n",
        "prediction"
      ]
    },
    {
      "cell_type": "code",
      "execution_count": null,
      "metadata": {
        "id": "KammRqbGp1EQ",
        "outputId": "ccae31f3-b77f-450b-c111-b0cbf67f5f00"
      },
      "outputs": [
        {
          "data": {
            "text/plain": [
              "'Iris-versicolor'"
            ]
          },
          "execution_count": 47,
          "metadata": {},
          "output_type": "execute_result"
        }
      ],
      "source": [
        "#let's look up the label using the function you defined earlier\n",
        "label = lookup_label(prediction)\n",
        "label"
      ]
    },
    {
      "cell_type": "code",
      "execution_count": null,
      "metadata": {
        "id": "7I6WOOWbp1EQ",
        "outputId": "1cfdf4a9-bfb5-4c9f-b99a-ffa20aa099b4"
      },
      "outputs": [
        {
          "data": {
            "text/plain": [
              "1"
            ]
          },
          "execution_count": 48,
          "metadata": {},
          "output_type": "execute_result"
        }
      ],
      "source": [
        "#as a reminder, here is the actual target value\n",
        "test_row_target"
      ]
    },
    {
      "cell_type": "code",
      "execution_count": null,
      "metadata": {
        "id": "VUS8P1xtp1EQ",
        "outputId": "cb47cb08-6b2f-42c6-924f-e9346fbd20e6"
      },
      "outputs": [
        {
          "data": {
            "text/plain": [
              "1"
            ]
          },
          "execution_count": 49,
          "metadata": {},
          "output_type": "execute_result"
        }
      ],
      "source": [
        "#let's compare your own knn's prediction to that of sklearn's\n",
        "model = KNeighborsClassifier().fit(X=X_train, y=y_train)\n",
        "predicted = model.predict([test_row])\n",
        "predicted[0]"
      ]
    }
  ],
  "metadata": {
    "colab": {
      "collapsed_sections": [
        "S0zWWTg3p1EL",
        "aVP3QhpG2XNf",
        "jVlpWTSD2XNo",
        "flUqoQSK2XNs",
        "UqYbhDoF2XNw",
        "oPhiXBCGp1EN",
        "3vmjB51np1EN",
        "rSmINYMJaWdo",
        "cnv5ov00p1EO",
        "ntN6Ufh-p1EP",
        "7_RzG2GVp1EP",
        "ajR0sEtKp1EP",
        "kUZqzINCp1EP"
      ],
      "name": "DS3000_HW6.ipynb",
      "provenance": []
    },
    "kernelspec": {
      "display_name": "Python 3",
      "language": "python",
      "name": "python3"
    },
    "language_info": {
      "codemirror_mode": {
        "name": "ipython",
        "version": 3
      },
      "file_extension": ".py",
      "mimetype": "text/x-python",
      "name": "python",
      "nbconvert_exporter": "python",
      "pygments_lexer": "ipython3",
      "version": "3.8.8"
    }
  },
  "nbformat": 4,
  "nbformat_minor": 0
}
