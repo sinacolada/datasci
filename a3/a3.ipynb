{
  "cells": [
    {
      "attachments": {},
      "cell_type": "markdown",
      "metadata": {
        "id": "-SgQ8MDix3Nt"
      },
      "source": [
        "<h1><center>Exploring the COVID-19 Vaccinations in the US</center></h1>"
      ]
    },
    {
      "attachments": {},
      "cell_type": "markdown",
      "metadata": {
        "id": "fKKjOHBCx3Nt"
      },
      "source": [
        "In this HW assignment you will analyze COVID-19 Vaccinations data across all the US states (and the DC). The attached \"covid19_vaccinations_in_the_us.csv\" dataset contains some interesting metrics about the vaccinations available and administered in the US as of September 30, 2021.\n",
        "\n",
        "Column descriptions:\n",
        "\n",
        "- **One_dose:** Number of people who received at least one dose<br/>\n",
        "- **Fully_vaccinated:** Number of people who are fully vaccinated <br/>\n",
        "- **Pfizer/Moderna/Janssen_delivered:** Number of Pfizer/Moderna/Janssen vaccines delivered to each state<br/>\n",
        "- **Pfizer/Moderna/Janssen_administered:** Number of Pfizer/Moderna/Janssen vaccines administered in each state<br/>\n",
        "\n",
        "The dataset comes from the CDC COVID-19 Tracking project: https://covid.cdc.gov/covid-data-tracker/#vaccinations_vacc-total-admin-rate-total"
      ]
    },
    {
      "cell_type": "code",
      "execution_count": null,
      "metadata": {
        "id": "UYx9nSqcx3Nu"
      },
      "outputs": [],
      "source": [
        "# start by importing pandas\n",
        "import pandas as pd"
      ]
    },
    {
      "attachments": {},
      "cell_type": "markdown",
      "metadata": {
        "id": "utpPx1vQx3Nv"
      },
      "source": [
        "<center><h2> Part 1 </h2></center>"
      ]
    },
    {
      "attachments": {},
      "cell_type": "markdown",
      "metadata": {
        "id": "9t8E5MUix3Nv"
      },
      "source": [
        "### Question 1\n",
        "Write a one-line code snippet that imports the \"covid19_vaccinations_in_the_us.csv\" file into a dataframe, named \"vaccinations\", and sets the **state** column as the index of the DataFrame. The dataframe should be sorted by the index column. Refer to the sample output."
      ]
    },
    {
      "cell_type": "code",
      "execution_count": null,
      "metadata": {
        "id": "bl2URTwxx3Nv"
      },
      "outputs": [],
      "source": [
        "vaccinations = pd.read_csv('covid19_vaccinations_in_the_us.csv').set_index('State').sort_index()"
      ]
    },
    {
      "cell_type": "code",
      "execution_count": null,
      "metadata": {
        "id": "busDHLt_x3Nw",
        "outputId": "321c10c8-09ab-4637-8593-e5d6c2984a92",
        "scrolled": true
      },
      "outputs": [
        {
          "data": {
            "text/html": [
              "<div>\n",
              "<style scoped>\n",
              "    .dataframe tbody tr th:only-of-type {\n",
              "        vertical-align: middle;\n",
              "    }\n",
              "\n",
              "    .dataframe tbody tr th {\n",
              "        vertical-align: top;\n",
              "    }\n",
              "\n",
              "    .dataframe thead th {\n",
              "        text-align: right;\n",
              "    }\n",
              "</style>\n",
              "<table border=\"1\" class=\"dataframe\">\n",
              "  <thead>\n",
              "    <tr style=\"text-align: right;\">\n",
              "      <th></th>\n",
              "      <th>One_dose</th>\n",
              "      <th>Fully_vaxed</th>\n",
              "      <th>Pfizer_delivered</th>\n",
              "      <th>Pfizer_administered</th>\n",
              "      <th>Moderna_delivered</th>\n",
              "      <th>Moderna_administered</th>\n",
              "      <th>Janssen_delivered</th>\n",
              "      <th>Janssen_administered</th>\n",
              "    </tr>\n",
              "    <tr>\n",
              "      <th>State</th>\n",
              "      <th></th>\n",
              "      <th></th>\n",
              "      <th></th>\n",
              "      <th></th>\n",
              "      <th></th>\n",
              "      <th></th>\n",
              "      <th></th>\n",
              "      <th></th>\n",
              "    </tr>\n",
              "  </thead>\n",
              "  <tbody>\n",
              "    <tr>\n",
              "      <th>Alabama</th>\n",
              "      <td>2578863</td>\n",
              "      <td>2083182</td>\n",
              "      <td>3365010</td>\n",
              "      <td>2381659</td>\n",
              "      <td>3002080</td>\n",
              "      <td>1994682</td>\n",
              "      <td>303000</td>\n",
              "      <td>137840</td>\n",
              "    </tr>\n",
              "    <tr>\n",
              "      <th>Alaska</th>\n",
              "      <td>418566</td>\n",
              "      <td>369526</td>\n",
              "      <td>564645</td>\n",
              "      <td>442790</td>\n",
              "      <td>424180</td>\n",
              "      <td>313048</td>\n",
              "      <td>66300</td>\n",
              "      <td>34039</td>\n",
              "    </tr>\n",
              "    <tr>\n",
              "      <th>Arizona</th>\n",
              "      <td>4311856</td>\n",
              "      <td>3714729</td>\n",
              "      <td>5359380</td>\n",
              "      <td>4559170</td>\n",
              "      <td>4032280</td>\n",
              "      <td>3338900</td>\n",
              "      <td>452100</td>\n",
              "      <td>288544</td>\n",
              "    </tr>\n",
              "    <tr>\n",
              "      <th>Arkansas</th>\n",
              "      <td>1679502</td>\n",
              "      <td>1373152</td>\n",
              "      <td>2076390</td>\n",
              "      <td>1601376</td>\n",
              "      <td>1778720</td>\n",
              "      <td>1305779</td>\n",
              "      <td>189300</td>\n",
              "      <td>98487</td>\n",
              "    </tr>\n",
              "    <tr>\n",
              "      <th>California</th>\n",
              "      <td>28309785</td>\n",
              "      <td>23278003</td>\n",
              "      <td>33050205</td>\n",
              "      <td>29302585</td>\n",
              "      <td>22530160</td>\n",
              "      <td>19376398</td>\n",
              "      <td>2751800</td>\n",
              "      <td>1854004</td>\n",
              "    </tr>\n",
              "    <tr>\n",
              "      <th>Colorado</th>\n",
              "      <td>3773179</td>\n",
              "      <td>3415476</td>\n",
              "      <td>4491435</td>\n",
              "      <td>4058453</td>\n",
              "      <td>3269380</td>\n",
              "      <td>2829816</td>\n",
              "      <td>366800</td>\n",
              "      <td>267860</td>\n",
              "    </tr>\n",
              "    <tr>\n",
              "      <th>Connecticut</th>\n",
              "      <td>2714593</td>\n",
              "      <td>2447436</td>\n",
              "      <td>3082215</td>\n",
              "      <td>2958816</td>\n",
              "      <td>2270140</td>\n",
              "      <td>1865664</td>\n",
              "      <td>262800</td>\n",
              "      <td>204994</td>\n",
              "    </tr>\n",
              "    <tr>\n",
              "      <th>Delaware</th>\n",
              "      <td>645716</td>\n",
              "      <td>561186</td>\n",
              "      <td>874005</td>\n",
              "      <td>686811</td>\n",
              "      <td>616700</td>\n",
              "      <td>463785</td>\n",
              "      <td>65900</td>\n",
              "      <td>50621</td>\n",
              "    </tr>\n",
              "    <tr>\n",
              "      <th>District of Columbia</th>\n",
              "      <td>498997</td>\n",
              "      <td>423979</td>\n",
              "      <td>686295</td>\n",
              "      <td>589866</td>\n",
              "      <td>476360</td>\n",
              "      <td>376151</td>\n",
              "      <td>55400</td>\n",
              "      <td>30822</td>\n",
              "    </tr>\n",
              "    <tr>\n",
              "      <th>Florida</th>\n",
              "      <td>14349393</td>\n",
              "      <td>12264110</td>\n",
              "      <td>18262635</td>\n",
              "      <td>15331685</td>\n",
              "      <td>12839860</td>\n",
              "      <td>10048593</td>\n",
              "      <td>1773500</td>\n",
              "      <td>1200837</td>\n",
              "    </tr>\n",
              "  </tbody>\n",
              "</table>\n",
              "</div>"
            ],
            "text/plain": [
              "                      One_dose  Fully_vaxed  Pfizer_delivered  \\\n",
              "State                                                           \n",
              "Alabama                2578863      2083182           3365010   \n",
              "Alaska                  418566       369526            564645   \n",
              "Arizona                4311856      3714729           5359380   \n",
              "Arkansas               1679502      1373152           2076390   \n",
              "California            28309785     23278003          33050205   \n",
              "Colorado               3773179      3415476           4491435   \n",
              "Connecticut            2714593      2447436           3082215   \n",
              "Delaware                645716       561186            874005   \n",
              "District of Columbia    498997       423979            686295   \n",
              "Florida               14349393     12264110          18262635   \n",
              "\n",
              "                      Pfizer_administered  Moderna_delivered  \\\n",
              "State                                                          \n",
              "Alabama                           2381659            3002080   \n",
              "Alaska                             442790             424180   \n",
              "Arizona                           4559170            4032280   \n",
              "Arkansas                          1601376            1778720   \n",
              "California                       29302585           22530160   \n",
              "Colorado                          4058453            3269380   \n",
              "Connecticut                       2958816            2270140   \n",
              "Delaware                           686811             616700   \n",
              "District of Columbia               589866             476360   \n",
              "Florida                          15331685           12839860   \n",
              "\n",
              "                      Moderna_administered  Janssen_delivered  \\\n",
              "State                                                           \n",
              "Alabama                            1994682             303000   \n",
              "Alaska                              313048              66300   \n",
              "Arizona                            3338900             452100   \n",
              "Arkansas                           1305779             189300   \n",
              "California                        19376398            2751800   \n",
              "Colorado                           2829816             366800   \n",
              "Connecticut                        1865664             262800   \n",
              "Delaware                            463785              65900   \n",
              "District of Columbia                376151              55400   \n",
              "Florida                           10048593            1773500   \n",
              "\n",
              "                      Janssen_administered  \n",
              "State                                       \n",
              "Alabama                             137840  \n",
              "Alaska                               34039  \n",
              "Arizona                             288544  \n",
              "Arkansas                             98487  \n",
              "California                         1854004  \n",
              "Colorado                            267860  \n",
              "Connecticut                         204994  \n",
              "Delaware                             50621  \n",
              "District of Columbia                 30822  \n",
              "Florida                            1200837  "
            ]
          },
          "execution_count": 4,
          "metadata": {},
          "output_type": "execute_result"
        }
      ],
      "source": [
        "vaccinations.head(10)"
      ]
    },
    {
      "attachments": {},
      "cell_type": "markdown",
      "metadata": {
        "id": "hOA_JcGJx3Nw"
      },
      "source": [
        "### Question 2\n",
        "Write a one-line code snippet that answers the question below. Your code snippet should return a single number. Avoid hardcoding to the output below.\n",
        "\n",
        "What percentage of people who received at least one dose are fully vaccinated across the entire dataset (across all the states/territories)?"
      ]
    },
    {
      "cell_type": "code",
      "execution_count": null,
      "metadata": {
        "id": "cQ9bkw0yx3Nw",
        "outputId": "7bb39717-d133-4065-b724-256542a63484"
      },
      "outputs": [
        {
          "data": {
            "text/plain": [
              "0.8620397247318998"
            ]
          },
          "execution_count": 5,
          "metadata": {},
          "output_type": "execute_result"
        }
      ],
      "source": [
        "vaccinations['Fully_vaxed'].sum() / vaccinations['One_dose'].sum()"
      ]
    },
    {
      "attachments": {},
      "cell_type": "markdown",
      "metadata": {
        "id": "_JZ5ZP8Gx3Nw"
      },
      "source": [
        "### Question 3\n",
        "Write a one-line code snippet that returns the number of people fully vaccinated for the State of Massachusetts. Avoid hardcoding to the output below."
      ]
    },
    {
      "cell_type": "code",
      "execution_count": null,
      "metadata": {
        "id": "At4EaOugx3Nx",
        "outputId": "83bced3d-5f8a-4f01-ccbc-888a92f17573"
      },
      "outputs": [
        {
          "data": {
            "text/plain": [
              "4677292"
            ]
          },
          "execution_count": 6,
          "metadata": {},
          "output_type": "execute_result"
        }
      ],
      "source": [
        "vaccinations.loc['Massachusetts']['Fully_vaxed']"
      ]
    },
    {
      "attachments": {},
      "cell_type": "markdown",
      "metadata": {
        "id": "7nVmRgzzx3Nx"
      },
      "source": [
        "### Question 4 \n",
        "Write a one-line code snippet that returns the name of the state with **the largest number of people fully vaccinated**. The name of the state should be returned as a string, as shown in the sample output. Avoid hardcoding any values/output. **Use Boolean indexing.**"
      ]
    },
    {
      "cell_type": "code",
      "execution_count": null,
      "metadata": {
        "id": "2a2Rcs3Jx3Nx",
        "outputId": "44b00ac7-74d3-4ab6-ae80-6daa758120aa"
      },
      "outputs": [
        {
          "data": {
            "text/plain": [
              "'California'"
            ]
          },
          "execution_count": 7,
          "metadata": {},
          "output_type": "execute_result"
        }
      ],
      "source": [
        "vaccinations[vaccinations['Fully_vaxed'] == vaccinations['Fully_vaxed'].max()].iloc[0].name"
      ]
    },
    {
      "attachments": {},
      "cell_type": "markdown",
      "metadata": {
        "id": "HDjZKP70x3Nx"
      },
      "source": [
        "### Question 5 \n",
        "Write a one-line code snippet that returns a **list** of the states where the number of people fully vaccinated is greater than the average number of people fully vaccinated across all states included in the vaccinations dataframe. No value/output should be hard-coded."
      ]
    },
    {
      "cell_type": "code",
      "execution_count": null,
      "metadata": {
        "id": "6XULY-Pxx3Nx",
        "outputId": "949c6128-f221-4923-c2e0-4b74f4a6a2a5"
      },
      "outputs": [
        {
          "data": {
            "text/plain": [
              "['Arizona',\n",
              " 'California',\n",
              " 'Florida',\n",
              " 'Georgia',\n",
              " 'Illinois',\n",
              " 'Maryland',\n",
              " 'Massachusetts',\n",
              " 'Michigan',\n",
              " 'New Jersey',\n",
              " 'New York',\n",
              " 'North Carolina',\n",
              " 'Ohio',\n",
              " 'Pennsylvania',\n",
              " 'Texas',\n",
              " 'Virginia',\n",
              " 'Washington']"
            ]
          },
          "execution_count": 8,
          "metadata": {},
          "output_type": "execute_result"
        }
      ],
      "source": [
        "list(vaccinations[vaccinations['Fully_vaxed'] > vaccinations['Fully_vaxed'].mean()].index.values)"
      ]
    },
    {
      "attachments": {},
      "cell_type": "markdown",
      "metadata": {
        "id": "D_mz3tB0x3Nx"
      },
      "source": [
        "### Question 6 \n",
        "Write a code snippet that returns the states where the number of people who are fully vaccinated is greater than those in Massachusetts. Your code should return a dataframe containing the states along with all the other metrics in the original dataframe. **The states should be presented in descending order based on the number of people fully vaccinated.**"
      ]
    },
    {
      "cell_type": "code",
      "execution_count": null,
      "metadata": {
        "id": "VnFCfVgwx3Nx",
        "outputId": "d395078c-8bc6-4ac6-9af6-1266c36516f1"
      },
      "outputs": [
        {
          "data": {
            "text/html": [
              "<div>\n",
              "<style scoped>\n",
              "    .dataframe tbody tr th:only-of-type {\n",
              "        vertical-align: middle;\n",
              "    }\n",
              "\n",
              "    .dataframe tbody tr th {\n",
              "        vertical-align: top;\n",
              "    }\n",
              "\n",
              "    .dataframe thead th {\n",
              "        text-align: right;\n",
              "    }\n",
              "</style>\n",
              "<table border=\"1\" class=\"dataframe\">\n",
              "  <thead>\n",
              "    <tr style=\"text-align: right;\">\n",
              "      <th></th>\n",
              "      <th>One_dose</th>\n",
              "      <th>Fully_vaxed</th>\n",
              "      <th>Pfizer_delivered</th>\n",
              "      <th>Pfizer_administered</th>\n",
              "      <th>Moderna_delivered</th>\n",
              "      <th>Moderna_administered</th>\n",
              "      <th>Janssen_delivered</th>\n",
              "      <th>Janssen_administered</th>\n",
              "    </tr>\n",
              "    <tr>\n",
              "      <th>State</th>\n",
              "      <th></th>\n",
              "      <th></th>\n",
              "      <th></th>\n",
              "      <th></th>\n",
              "      <th></th>\n",
              "      <th></th>\n",
              "      <th></th>\n",
              "      <th></th>\n",
              "    </tr>\n",
              "  </thead>\n",
              "  <tbody>\n",
              "    <tr>\n",
              "      <th>California</th>\n",
              "      <td>28309785</td>\n",
              "      <td>23278003</td>\n",
              "      <td>33050205</td>\n",
              "      <td>29302585</td>\n",
              "      <td>22530160</td>\n",
              "      <td>19376398</td>\n",
              "      <td>2751800</td>\n",
              "      <td>1854004</td>\n",
              "    </tr>\n",
              "    <tr>\n",
              "      <th>Texas</th>\n",
              "      <td>17239994</td>\n",
              "      <td>14791912</td>\n",
              "      <td>23485785</td>\n",
              "      <td>18720208</td>\n",
              "      <td>16241680</td>\n",
              "      <td>12285615</td>\n",
              "      <td>2022600</td>\n",
              "      <td>1233441</td>\n",
              "    </tr>\n",
              "    <tr>\n",
              "      <th>New York</th>\n",
              "      <td>13854152</td>\n",
              "      <td>12379401</td>\n",
              "      <td>16726275</td>\n",
              "      <td>15047183</td>\n",
              "      <td>11341280</td>\n",
              "      <td>9676428</td>\n",
              "      <td>1347500</td>\n",
              "      <td>1123040</td>\n",
              "    </tr>\n",
              "    <tr>\n",
              "      <th>Florida</th>\n",
              "      <td>14349393</td>\n",
              "      <td>12264110</td>\n",
              "      <td>18262635</td>\n",
              "      <td>15331685</td>\n",
              "      <td>12839860</td>\n",
              "      <td>10048593</td>\n",
              "      <td>1773500</td>\n",
              "      <td>1200837</td>\n",
              "    </tr>\n",
              "    <tr>\n",
              "      <th>Pennsylvania</th>\n",
              "      <td>9264086</td>\n",
              "      <td>7394990</td>\n",
              "      <td>10192545</td>\n",
              "      <td>9075429</td>\n",
              "      <td>7965240</td>\n",
              "      <td>6443279</td>\n",
              "      <td>1123500</td>\n",
              "      <td>648755</td>\n",
              "    </tr>\n",
              "    <tr>\n",
              "      <th>Illinois</th>\n",
              "      <td>8664914</td>\n",
              "      <td>6775171</td>\n",
              "      <td>10149195</td>\n",
              "      <td>9149135</td>\n",
              "      <td>6802380</td>\n",
              "      <td>5575123</td>\n",
              "      <td>885200</td>\n",
              "      <td>549867</td>\n",
              "    </tr>\n",
              "    <tr>\n",
              "      <th>Ohio</th>\n",
              "      <td>6332731</td>\n",
              "      <td>5865123</td>\n",
              "      <td>8093715</td>\n",
              "      <td>6848588</td>\n",
              "      <td>6084300</td>\n",
              "      <td>4698950</td>\n",
              "      <td>704600</td>\n",
              "      <td>497856</td>\n",
              "    </tr>\n",
              "    <tr>\n",
              "      <th>New Jersey</th>\n",
              "      <td>6433245</td>\n",
              "      <td>5707111</td>\n",
              "      <td>7882785</td>\n",
              "      <td>6631721</td>\n",
              "      <td>5470380</td>\n",
              "      <td>4441133</td>\n",
              "      <td>644900</td>\n",
              "      <td>440000</td>\n",
              "    </tr>\n",
              "    <tr>\n",
              "      <th>Michigan</th>\n",
              "      <td>5686759</td>\n",
              "      <td>5217138</td>\n",
              "      <td>7232430</td>\n",
              "      <td>6058562</td>\n",
              "      <td>5618040</td>\n",
              "      <td>4175905</td>\n",
              "      <td>676800</td>\n",
              "      <td>368700</td>\n",
              "    </tr>\n",
              "    <tr>\n",
              "      <th>North Carolina</th>\n",
              "      <td>6252289</td>\n",
              "      <td>5212516</td>\n",
              "      <td>7931850</td>\n",
              "      <td>6619501</td>\n",
              "      <td>5717380</td>\n",
              "      <td>4239488</td>\n",
              "      <td>685200</td>\n",
              "      <td>416212</td>\n",
              "    </tr>\n",
              "    <tr>\n",
              "      <th>Virginia</th>\n",
              "      <td>5833414</td>\n",
              "      <td>5164932</td>\n",
              "      <td>7352865</td>\n",
              "      <td>6519847</td>\n",
              "      <td>4815500</td>\n",
              "      <td>3940918</td>\n",
              "      <td>562700</td>\n",
              "      <td>396683</td>\n",
              "    </tr>\n",
              "    <tr>\n",
              "      <th>Georgia</th>\n",
              "      <td>5820906</td>\n",
              "      <td>4813611</td>\n",
              "      <td>7810335</td>\n",
              "      <td>6076004</td>\n",
              "      <td>6023300</td>\n",
              "      <td>4291395</td>\n",
              "      <td>626000</td>\n",
              "      <td>273428</td>\n",
              "    </tr>\n",
              "  </tbody>\n",
              "</table>\n",
              "</div>"
            ],
            "text/plain": [
              "                One_dose  Fully_vaxed  Pfizer_delivered  Pfizer_administered  \\\n",
              "State                                                                          \n",
              "California      28309785     23278003          33050205             29302585   \n",
              "Texas           17239994     14791912          23485785             18720208   \n",
              "New York        13854152     12379401          16726275             15047183   \n",
              "Florida         14349393     12264110          18262635             15331685   \n",
              "Pennsylvania     9264086      7394990          10192545              9075429   \n",
              "Illinois         8664914      6775171          10149195              9149135   \n",
              "Ohio             6332731      5865123           8093715              6848588   \n",
              "New Jersey       6433245      5707111           7882785              6631721   \n",
              "Michigan         5686759      5217138           7232430              6058562   \n",
              "North Carolina   6252289      5212516           7931850              6619501   \n",
              "Virginia         5833414      5164932           7352865              6519847   \n",
              "Georgia          5820906      4813611           7810335              6076004   \n",
              "\n",
              "                Moderna_delivered  Moderna_administered  Janssen_delivered  \\\n",
              "State                                                                        \n",
              "California               22530160              19376398            2751800   \n",
              "Texas                    16241680              12285615            2022600   \n",
              "New York                 11341280               9676428            1347500   \n",
              "Florida                  12839860              10048593            1773500   \n",
              "Pennsylvania              7965240               6443279            1123500   \n",
              "Illinois                  6802380               5575123             885200   \n",
              "Ohio                      6084300               4698950             704600   \n",
              "New Jersey                5470380               4441133             644900   \n",
              "Michigan                  5618040               4175905             676800   \n",
              "North Carolina            5717380               4239488             685200   \n",
              "Virginia                  4815500               3940918             562700   \n",
              "Georgia                   6023300               4291395             626000   \n",
              "\n",
              "                Janssen_administered  \n",
              "State                                 \n",
              "California                   1854004  \n",
              "Texas                        1233441  \n",
              "New York                     1123040  \n",
              "Florida                      1200837  \n",
              "Pennsylvania                  648755  \n",
              "Illinois                      549867  \n",
              "Ohio                          497856  \n",
              "New Jersey                    440000  \n",
              "Michigan                      368700  \n",
              "North Carolina                416212  \n",
              "Virginia                      396683  \n",
              "Georgia                       273428  "
            ]
          },
          "execution_count": 9,
          "metadata": {},
          "output_type": "execute_result"
        }
      ],
      "source": [
        "vaccinations[vaccinations['Fully_vaxed'] > vaccinations.loc['Massachusetts']['Fully_vaxed']].sort_values(by='Fully_vaxed', ascending=False)"
      ]
    },
    {
      "attachments": {},
      "cell_type": "markdown",
      "metadata": {
        "id": "W7VG7cXVx3Ny"
      },
      "source": [
        "<hr>"
      ]
    },
    {
      "attachments": {},
      "cell_type": "markdown",
      "metadata": {
        "id": "9_nSr7mAx3Ny"
      },
      "source": [
        "<center><h2> Part 2 </h2></center>\n",
        "\n",
        "In this part, you will build on the previous part and answer some additional questions about the COVID-19 vaccinations. You will need to use the attached \"state_population_case_death_data.csv\" dataset.\n",
        "\n",
        "The dataset contains the list of states and their population as of July 1, 2019, along with two additional stats:\n",
        "- **Cases_in_7days:** the total number of COVID-19 cases observed in the last 7 days\n",
        "- **7-Day_Death_Rate:** the 7-day moving average of the deaths observed per 100k people/cases"
      ]
    },
    {
      "attachments": {},
      "cell_type": "markdown",
      "metadata": {
        "id": "LuO0N8Zvx3Ny"
      },
      "source": [
        "### Question 7 (1pt)\n",
        "Write a one-line code snippet that imports the \"state_population_case_death_data.csv\" file into a dataframe, named \"state_stats\"."
      ]
    },
    {
      "cell_type": "code",
      "execution_count": null,
      "metadata": {
        "id": "e-38R3kix3Ny"
      },
      "outputs": [],
      "source": [
        "state_stats = pd.read_csv(\"state_population_case_death_data.csv\")"
      ]
    },
    {
      "cell_type": "code",
      "execution_count": null,
      "metadata": {
        "id": "vNErxjCZx3Ny",
        "outputId": "06a61959-34cf-46b6-fa75-1aeb55fe5a39"
      },
      "outputs": [
        {
          "data": {
            "text/html": [
              "<div>\n",
              "<style scoped>\n",
              "    .dataframe tbody tr th:only-of-type {\n",
              "        vertical-align: middle;\n",
              "    }\n",
              "\n",
              "    .dataframe tbody tr th {\n",
              "        vertical-align: top;\n",
              "    }\n",
              "\n",
              "    .dataframe thead th {\n",
              "        text-align: right;\n",
              "    }\n",
              "</style>\n",
              "<table border=\"1\" class=\"dataframe\">\n",
              "  <thead>\n",
              "    <tr style=\"text-align: right;\">\n",
              "      <th></th>\n",
              "      <th>State</th>\n",
              "      <th>Population</th>\n",
              "      <th>Cases_in_7days</th>\n",
              "      <th>7-Day_Death_Rate</th>\n",
              "    </tr>\n",
              "  </thead>\n",
              "  <tbody>\n",
              "    <tr>\n",
              "      <th>0</th>\n",
              "      <td>Alabama</td>\n",
              "      <td>4903185</td>\n",
              "      <td>9177</td>\n",
              "      <td>5.7</td>\n",
              "    </tr>\n",
              "    <tr>\n",
              "      <th>1</th>\n",
              "      <td>Alaska</td>\n",
              "      <td>731545</td>\n",
              "      <td>8497</td>\n",
              "      <td>10.9</td>\n",
              "    </tr>\n",
              "    <tr>\n",
              "      <th>2</th>\n",
              "      <td>Arizona</td>\n",
              "      <td>7278717</td>\n",
              "      <td>17976</td>\n",
              "      <td>4.1</td>\n",
              "    </tr>\n",
              "    <tr>\n",
              "      <th>3</th>\n",
              "      <td>Arkansas</td>\n",
              "      <td>3017825</td>\n",
              "      <td>6757</td>\n",
              "      <td>4.7</td>\n",
              "    </tr>\n",
              "    <tr>\n",
              "      <th>4</th>\n",
              "      <td>California</td>\n",
              "      <td>39512223</td>\n",
              "      <td>28817</td>\n",
              "      <td>0.4</td>\n",
              "    </tr>\n",
              "  </tbody>\n",
              "</table>\n",
              "</div>"
            ],
            "text/plain": [
              "        State  Population  Cases_in_7days  7-Day_Death_Rate\n",
              "0     Alabama     4903185            9177               5.7\n",
              "1      Alaska      731545            8497              10.9\n",
              "2     Arizona     7278717           17976               4.1\n",
              "3    Arkansas     3017825            6757               4.7\n",
              "4  California    39512223           28817               0.4"
            ]
          },
          "execution_count": 11,
          "metadata": {},
          "output_type": "execute_result"
        }
      ],
      "source": [
        "state_stats.head()"
      ]
    },
    {
      "attachments": {},
      "cell_type": "markdown",
      "metadata": {
        "id": "oKZeVrYdx3Ny"
      },
      "source": [
        "### Question 8 \n",
        "Write a one-line code snippet that combines the population dataframe you just defined and vaccinations dataframe you used in Part 1 into a new dataframe, combined. The new dataframe should include all columns from both datasets, as shown in the sample output below."
      ]
    },
    {
      "cell_type": "code",
      "execution_count": null,
      "metadata": {
        "id": "AJuzuxWtx3Ny"
      },
      "outputs": [],
      "source": [
        "# answer goes here\n",
        "combined = pd.merge(state_stats, vaccinations, on='State')"
      ]
    },
    {
      "cell_type": "code",
      "execution_count": null,
      "metadata": {
        "id": "33udcLaTx3Ny",
        "outputId": "79cafc93-5ea2-4ac6-a65a-1d9421f7185d"
      },
      "outputs": [
        {
          "data": {
            "text/html": [
              "<div>\n",
              "<style scoped>\n",
              "    .dataframe tbody tr th:only-of-type {\n",
              "        vertical-align: middle;\n",
              "    }\n",
              "\n",
              "    .dataframe tbody tr th {\n",
              "        vertical-align: top;\n",
              "    }\n",
              "\n",
              "    .dataframe thead th {\n",
              "        text-align: right;\n",
              "    }\n",
              "</style>\n",
              "<table border=\"1\" class=\"dataframe\">\n",
              "  <thead>\n",
              "    <tr style=\"text-align: right;\">\n",
              "      <th></th>\n",
              "      <th>State</th>\n",
              "      <th>Population</th>\n",
              "      <th>Cases_in_7days</th>\n",
              "      <th>7-Day_Death_Rate</th>\n",
              "      <th>One_dose</th>\n",
              "      <th>Fully_vaxed</th>\n",
              "      <th>Pfizer_delivered</th>\n",
              "      <th>Pfizer_administered</th>\n",
              "      <th>Moderna_delivered</th>\n",
              "      <th>Moderna_administered</th>\n",
              "      <th>Janssen_delivered</th>\n",
              "      <th>Janssen_administered</th>\n",
              "    </tr>\n",
              "  </thead>\n",
              "  <tbody>\n",
              "    <tr>\n",
              "      <th>0</th>\n",
              "      <td>Alabama</td>\n",
              "      <td>4903185</td>\n",
              "      <td>9177</td>\n",
              "      <td>5.7</td>\n",
              "      <td>2578863</td>\n",
              "      <td>2083182</td>\n",
              "      <td>3365010</td>\n",
              "      <td>2381659</td>\n",
              "      <td>3002080</td>\n",
              "      <td>1994682</td>\n",
              "      <td>303000</td>\n",
              "      <td>137840</td>\n",
              "    </tr>\n",
              "    <tr>\n",
              "      <th>1</th>\n",
              "      <td>Alaska</td>\n",
              "      <td>731545</td>\n",
              "      <td>8497</td>\n",
              "      <td>10.9</td>\n",
              "      <td>418566</td>\n",
              "      <td>369526</td>\n",
              "      <td>564645</td>\n",
              "      <td>442790</td>\n",
              "      <td>424180</td>\n",
              "      <td>313048</td>\n",
              "      <td>66300</td>\n",
              "      <td>34039</td>\n",
              "    </tr>\n",
              "    <tr>\n",
              "      <th>2</th>\n",
              "      <td>Arizona</td>\n",
              "      <td>7278717</td>\n",
              "      <td>17976</td>\n",
              "      <td>4.1</td>\n",
              "      <td>4311856</td>\n",
              "      <td>3714729</td>\n",
              "      <td>5359380</td>\n",
              "      <td>4559170</td>\n",
              "      <td>4032280</td>\n",
              "      <td>3338900</td>\n",
              "      <td>452100</td>\n",
              "      <td>288544</td>\n",
              "    </tr>\n",
              "    <tr>\n",
              "      <th>3</th>\n",
              "      <td>Arkansas</td>\n",
              "      <td>3017825</td>\n",
              "      <td>6757</td>\n",
              "      <td>4.7</td>\n",
              "      <td>1679502</td>\n",
              "      <td>1373152</td>\n",
              "      <td>2076390</td>\n",
              "      <td>1601376</td>\n",
              "      <td>1778720</td>\n",
              "      <td>1305779</td>\n",
              "      <td>189300</td>\n",
              "      <td>98487</td>\n",
              "    </tr>\n",
              "    <tr>\n",
              "      <th>4</th>\n",
              "      <td>California</td>\n",
              "      <td>39512223</td>\n",
              "      <td>28817</td>\n",
              "      <td>0.4</td>\n",
              "      <td>28309785</td>\n",
              "      <td>23278003</td>\n",
              "      <td>33050205</td>\n",
              "      <td>29302585</td>\n",
              "      <td>22530160</td>\n",
              "      <td>19376398</td>\n",
              "      <td>2751800</td>\n",
              "      <td>1854004</td>\n",
              "    </tr>\n",
              "  </tbody>\n",
              "</table>\n",
              "</div>"
            ],
            "text/plain": [
              "        State  Population  Cases_in_7days  7-Day_Death_Rate  One_dose  \\\n",
              "0     Alabama     4903185            9177               5.7   2578863   \n",
              "1      Alaska      731545            8497              10.9    418566   \n",
              "2     Arizona     7278717           17976               4.1   4311856   \n",
              "3    Arkansas     3017825            6757               4.7   1679502   \n",
              "4  California    39512223           28817               0.4  28309785   \n",
              "\n",
              "   Fully_vaxed  Pfizer_delivered  Pfizer_administered  Moderna_delivered  \\\n",
              "0      2083182           3365010              2381659            3002080   \n",
              "1       369526            564645               442790             424180   \n",
              "2      3714729           5359380              4559170            4032280   \n",
              "3      1373152           2076390              1601376            1778720   \n",
              "4     23278003          33050205             29302585           22530160   \n",
              "\n",
              "   Moderna_administered  Janssen_delivered  Janssen_administered  \n",
              "0               1994682             303000                137840  \n",
              "1                313048              66300                 34039  \n",
              "2               3338900             452100                288544  \n",
              "3               1305779             189300                 98487  \n",
              "4              19376398            2751800               1854004  "
            ]
          },
          "execution_count": 13,
          "metadata": {},
          "output_type": "execute_result"
        }
      ],
      "source": [
        "combined.head()"
      ]
    },
    {
      "cell_type": "code",
      "execution_count": null,
      "metadata": {
        "id": "haU3T2MUx3Ny",
        "outputId": "e3518d6e-f80e-441f-97ea-ec9fad52d280"
      },
      "outputs": [
        {
          "data": {
            "text/html": [
              "<div>\n",
              "<style scoped>\n",
              "    .dataframe tbody tr th:only-of-type {\n",
              "        vertical-align: middle;\n",
              "    }\n",
              "\n",
              "    .dataframe tbody tr th {\n",
              "        vertical-align: top;\n",
              "    }\n",
              "\n",
              "    .dataframe thead th {\n",
              "        text-align: right;\n",
              "    }\n",
              "</style>\n",
              "<table border=\"1\" class=\"dataframe\">\n",
              "  <thead>\n",
              "    <tr style=\"text-align: right;\">\n",
              "      <th></th>\n",
              "      <th>State</th>\n",
              "      <th>Population</th>\n",
              "      <th>Cases_in_7days</th>\n",
              "      <th>7-Day_Death_Rate</th>\n",
              "      <th>One_dose</th>\n",
              "      <th>Fully_vaxed</th>\n",
              "      <th>Pfizer_delivered</th>\n",
              "      <th>Pfizer_administered</th>\n",
              "      <th>Moderna_delivered</th>\n",
              "      <th>Moderna_administered</th>\n",
              "      <th>Janssen_delivered</th>\n",
              "      <th>Janssen_administered</th>\n",
              "    </tr>\n",
              "  </thead>\n",
              "  <tbody>\n",
              "    <tr>\n",
              "      <th>46</th>\n",
              "      <td>Virginia</td>\n",
              "      <td>8535519</td>\n",
              "      <td>19797</td>\n",
              "      <td>3.4</td>\n",
              "      <td>5833414</td>\n",
              "      <td>5164932</td>\n",
              "      <td>7352865</td>\n",
              "      <td>6519847</td>\n",
              "      <td>4815500</td>\n",
              "      <td>3940918</td>\n",
              "      <td>562700</td>\n",
              "      <td>396683</td>\n",
              "    </tr>\n",
              "    <tr>\n",
              "      <th>47</th>\n",
              "      <td>Washington</td>\n",
              "      <td>7614893</td>\n",
              "      <td>21432</td>\n",
              "      <td>3.7</td>\n",
              "      <td>5112933</td>\n",
              "      <td>4625450</td>\n",
              "      <td>6323385</td>\n",
              "      <td>5493977</td>\n",
              "      <td>4441020</td>\n",
              "      <td>3672999</td>\n",
              "      <td>565500</td>\n",
              "      <td>385890</td>\n",
              "    </tr>\n",
              "    <tr>\n",
              "      <th>48</th>\n",
              "      <td>West Virginia</td>\n",
              "      <td>1792147</td>\n",
              "      <td>10992</td>\n",
              "      <td>9.8</td>\n",
              "      <td>862680</td>\n",
              "      <td>723892</td>\n",
              "      <td>1666005</td>\n",
              "      <td>807467</td>\n",
              "      <td>1187280</td>\n",
              "      <td>697846</td>\n",
              "      <td>120000</td>\n",
              "      <td>41504</td>\n",
              "    </tr>\n",
              "    <tr>\n",
              "      <th>49</th>\n",
              "      <td>Wisconsin</td>\n",
              "      <td>5822434</td>\n",
              "      <td>20358</td>\n",
              "      <td>2.0</td>\n",
              "      <td>3544975</td>\n",
              "      <td>3283093</td>\n",
              "      <td>4055625</td>\n",
              "      <td>3851437</td>\n",
              "      <td>2983100</td>\n",
              "      <td>2649335</td>\n",
              "      <td>341800</td>\n",
              "      <td>274368</td>\n",
              "    </tr>\n",
              "    <tr>\n",
              "      <th>50</th>\n",
              "      <td>Wyoming</td>\n",
              "      <td>578759</td>\n",
              "      <td>3371</td>\n",
              "      <td>7.1</td>\n",
              "      <td>280165</td>\n",
              "      <td>240319</td>\n",
              "      <td>318855</td>\n",
              "      <td>260901</td>\n",
              "      <td>302140</td>\n",
              "      <td>234413</td>\n",
              "      <td>36800</td>\n",
              "      <td>23389</td>\n",
              "    </tr>\n",
              "  </tbody>\n",
              "</table>\n",
              "</div>"
            ],
            "text/plain": [
              "            State  Population  Cases_in_7days  7-Day_Death_Rate  One_dose  \\\n",
              "46       Virginia     8535519           19797               3.4   5833414   \n",
              "47     Washington     7614893           21432               3.7   5112933   \n",
              "48  West Virginia     1792147           10992               9.8    862680   \n",
              "49      Wisconsin     5822434           20358               2.0   3544975   \n",
              "50        Wyoming      578759            3371               7.1    280165   \n",
              "\n",
              "    Fully_vaxed  Pfizer_delivered  Pfizer_administered  Moderna_delivered  \\\n",
              "46      5164932           7352865              6519847            4815500   \n",
              "47      4625450           6323385              5493977            4441020   \n",
              "48       723892           1666005               807467            1187280   \n",
              "49      3283093           4055625              3851437            2983100   \n",
              "50       240319            318855               260901             302140   \n",
              "\n",
              "    Moderna_administered  Janssen_delivered  Janssen_administered  \n",
              "46               3940918             562700                396683  \n",
              "47               3672999             565500                385890  \n",
              "48                697846             120000                 41504  \n",
              "49               2649335             341800                274368  \n",
              "50                234413              36800                 23389  "
            ]
          },
          "execution_count": 14,
          "metadata": {},
          "output_type": "execute_result"
        }
      ],
      "source": [
        "combined.tail()"
      ]
    },
    {
      "cell_type": "code",
      "execution_count": null,
      "metadata": {
        "id": "VG55UQsHx3Nz",
        "outputId": "32395509-a4fa-4924-82ab-033f2aa4a118"
      },
      "outputs": [
        {
          "data": {
            "text/plain": [
              "(51, 12)"
            ]
          },
          "execution_count": 15,
          "metadata": {},
          "output_type": "execute_result"
        }
      ],
      "source": [
        "# number of rows/columns\n",
        "combined.shape"
      ]
    },
    {
      "attachments": {},
      "cell_type": "markdown",
      "metadata": {
        "id": "JuzO6F0Qx3Nz"
      },
      "source": [
        "### Question 9 \n",
        "Write a code snippet that computes 4 new columns:\n",
        "\n",
        "* **Percent_Fully_Vaccinated**: percentage of people fully vaccinated compared to the population of a state\n",
        "* **Percent_Pfizer_administered**: percentage of Pfizer vaccines administered in a state compared to the number of Pfizer vaccines delivered to that state.\n",
        "* **Percent_Moderna_administered**: percentage of Moderna vaccines administered in a state compared to the number of Moderna vaccines delivered to that state.\n",
        "* **Percent_Janssen_administered**: percentage of Janssen vaccines administered in a state compared to the number of Janssen vaccines delivered to that state.\n",
        "\n",
        "\n",
        "Include these columns in the previous dataframe \"combined\" as shown in the sample output below"
      ]
    },
    {
      "cell_type": "code",
      "execution_count": null,
      "metadata": {
        "id": "8ZuOKskZx3Nz"
      },
      "outputs": [],
      "source": [
        "combined['Percent_Fully_vaxed'] = combined['Fully_vaxed'] / combined['Population'] * 100\n",
        "combined['Percent_Pfizer_administered'] = combined['Pfizer_administered'] / combined['Pfizer_delivered'] * 100\n",
        "combined['Percent_Moderna_administered'] = combined['Moderna_administered'] / combined['Moderna_delivered'] * 100\n",
        "combined['Percent_Janssen_administered'] = combined['Janssen_administered'] / combined['Janssen_delivered'] * 100"
      ]
    },
    {
      "cell_type": "code",
      "execution_count": null,
      "metadata": {
        "id": "4GR84bqFx3Nz",
        "outputId": "1ee52fda-fea1-4d85-a998-baf208399bce"
      },
      "outputs": [
        {
          "data": {
            "text/html": [
              "<div>\n",
              "<style scoped>\n",
              "    .dataframe tbody tr th:only-of-type {\n",
              "        vertical-align: middle;\n",
              "    }\n",
              "\n",
              "    .dataframe tbody tr th {\n",
              "        vertical-align: top;\n",
              "    }\n",
              "\n",
              "    .dataframe thead th {\n",
              "        text-align: right;\n",
              "    }\n",
              "</style>\n",
              "<table border=\"1\" class=\"dataframe\">\n",
              "  <thead>\n",
              "    <tr style=\"text-align: right;\">\n",
              "      <th></th>\n",
              "      <th>State</th>\n",
              "      <th>Population</th>\n",
              "      <th>Cases_in_7days</th>\n",
              "      <th>7-Day_Death_Rate</th>\n",
              "      <th>One_dose</th>\n",
              "      <th>Fully_vaxed</th>\n",
              "      <th>Pfizer_delivered</th>\n",
              "      <th>Pfizer_administered</th>\n",
              "      <th>Moderna_delivered</th>\n",
              "      <th>Moderna_administered</th>\n",
              "      <th>Janssen_delivered</th>\n",
              "      <th>Janssen_administered</th>\n",
              "      <th>Percent_Fully_vaxed</th>\n",
              "      <th>Percent_Pfizer_administered</th>\n",
              "      <th>Percent_Moderna_administered</th>\n",
              "      <th>Percent_Janssen_administered</th>\n",
              "    </tr>\n",
              "  </thead>\n",
              "  <tbody>\n",
              "    <tr>\n",
              "      <th>0</th>\n",
              "      <td>Alabama</td>\n",
              "      <td>4903185</td>\n",
              "      <td>9177</td>\n",
              "      <td>5.7</td>\n",
              "      <td>2578863</td>\n",
              "      <td>2083182</td>\n",
              "      <td>3365010</td>\n",
              "      <td>2381659</td>\n",
              "      <td>3002080</td>\n",
              "      <td>1994682</td>\n",
              "      <td>303000</td>\n",
              "      <td>137840</td>\n",
              "      <td>42.486302</td>\n",
              "      <td>70.777175</td>\n",
              "      <td>66.443333</td>\n",
              "      <td>45.491749</td>\n",
              "    </tr>\n",
              "    <tr>\n",
              "      <th>1</th>\n",
              "      <td>Alaska</td>\n",
              "      <td>731545</td>\n",
              "      <td>8497</td>\n",
              "      <td>10.9</td>\n",
              "      <td>418566</td>\n",
              "      <td>369526</td>\n",
              "      <td>564645</td>\n",
              "      <td>442790</td>\n",
              "      <td>424180</td>\n",
              "      <td>313048</td>\n",
              "      <td>66300</td>\n",
              "      <td>34039</td>\n",
              "      <td>50.513092</td>\n",
              "      <td>78.419184</td>\n",
              "      <td>73.800745</td>\n",
              "      <td>51.340875</td>\n",
              "    </tr>\n",
              "    <tr>\n",
              "      <th>2</th>\n",
              "      <td>Arizona</td>\n",
              "      <td>7278717</td>\n",
              "      <td>17976</td>\n",
              "      <td>4.1</td>\n",
              "      <td>4311856</td>\n",
              "      <td>3714729</td>\n",
              "      <td>5359380</td>\n",
              "      <td>4559170</td>\n",
              "      <td>4032280</td>\n",
              "      <td>3338900</td>\n",
              "      <td>452100</td>\n",
              "      <td>288544</td>\n",
              "      <td>51.035492</td>\n",
              "      <td>85.068982</td>\n",
              "      <td>82.804270</td>\n",
              "      <td>63.823048</td>\n",
              "    </tr>\n",
              "    <tr>\n",
              "      <th>3</th>\n",
              "      <td>Arkansas</td>\n",
              "      <td>3017825</td>\n",
              "      <td>6757</td>\n",
              "      <td>4.7</td>\n",
              "      <td>1679502</td>\n",
              "      <td>1373152</td>\n",
              "      <td>2076390</td>\n",
              "      <td>1601376</td>\n",
              "      <td>1778720</td>\n",
              "      <td>1305779</td>\n",
              "      <td>189300</td>\n",
              "      <td>98487</td>\n",
              "      <td>45.501379</td>\n",
              "      <td>77.123084</td>\n",
              "      <td>73.411161</td>\n",
              "      <td>52.026941</td>\n",
              "    </tr>\n",
              "    <tr>\n",
              "      <th>4</th>\n",
              "      <td>California</td>\n",
              "      <td>39512223</td>\n",
              "      <td>28817</td>\n",
              "      <td>0.4</td>\n",
              "      <td>28309785</td>\n",
              "      <td>23278003</td>\n",
              "      <td>33050205</td>\n",
              "      <td>29302585</td>\n",
              "      <td>22530160</td>\n",
              "      <td>19376398</td>\n",
              "      <td>2751800</td>\n",
              "      <td>1854004</td>\n",
              "      <td>58.913423</td>\n",
              "      <td>88.660827</td>\n",
              "      <td>86.002043</td>\n",
              "      <td>67.374228</td>\n",
              "    </tr>\n",
              "  </tbody>\n",
              "</table>\n",
              "</div>"
            ],
            "text/plain": [
              "        State  Population  Cases_in_7days  7-Day_Death_Rate  One_dose  \\\n",
              "0     Alabama     4903185            9177               5.7   2578863   \n",
              "1      Alaska      731545            8497              10.9    418566   \n",
              "2     Arizona     7278717           17976               4.1   4311856   \n",
              "3    Arkansas     3017825            6757               4.7   1679502   \n",
              "4  California    39512223           28817               0.4  28309785   \n",
              "\n",
              "   Fully_vaxed  Pfizer_delivered  Pfizer_administered  Moderna_delivered  \\\n",
              "0      2083182           3365010              2381659            3002080   \n",
              "1       369526            564645               442790             424180   \n",
              "2      3714729           5359380              4559170            4032280   \n",
              "3      1373152           2076390              1601376            1778720   \n",
              "4     23278003          33050205             29302585           22530160   \n",
              "\n",
              "   Moderna_administered  Janssen_delivered  Janssen_administered  \\\n",
              "0               1994682             303000                137840   \n",
              "1                313048              66300                 34039   \n",
              "2               3338900             452100                288544   \n",
              "3               1305779             189300                 98487   \n",
              "4              19376398            2751800               1854004   \n",
              "\n",
              "   Percent_Fully_vaxed  Percent_Pfizer_administered  \\\n",
              "0            42.486302                    70.777175   \n",
              "1            50.513092                    78.419184   \n",
              "2            51.035492                    85.068982   \n",
              "3            45.501379                    77.123084   \n",
              "4            58.913423                    88.660827   \n",
              "\n",
              "   Percent_Moderna_administered  Percent_Janssen_administered  \n",
              "0                     66.443333                     45.491749  \n",
              "1                     73.800745                     51.340875  \n",
              "2                     82.804270                     63.823048  \n",
              "3                     73.411161                     52.026941  \n",
              "4                     86.002043                     67.374228  "
            ]
          },
          "execution_count": 17,
          "metadata": {},
          "output_type": "execute_result"
        }
      ],
      "source": [
        "combined.head()"
      ]
    },
    {
      "cell_type": "code",
      "execution_count": null,
      "metadata": {
        "id": "ybnqDDJnx3Nz",
        "outputId": "9dc28598-4958-42fd-9433-3020d0f1ae4c"
      },
      "outputs": [
        {
          "data": {
            "text/plain": [
              "54.127463252758176"
            ]
          },
          "execution_count": 18,
          "metadata": {},
          "output_type": "execute_result"
        }
      ],
      "source": [
        "# when successfuly applied, the average percentage of people \n",
        "# who are fully vaccinated across the US should be the following\n",
        "combined[\"Percent_Fully_vaxed\"].mean()"
      ]
    },
    {
      "attachments": {},
      "cell_type": "markdown",
      "metadata": {
        "id": "4_PPuHYNx3Nz"
      },
      "source": [
        "### Question 10 \n",
        "a. Write a one-line code snippet that displays the average percentage of the administered vaccines for each of the three manufacturers. "
      ]
    },
    {
      "cell_type": "code",
      "execution_count": null,
      "metadata": {
        "id": "J7n1K3R4x3Nz",
        "outputId": "ecb8d0f0-bb1e-4afd-fb78-32fbb592d403"
      },
      "outputs": [
        {
          "data": {
            "text/plain": [
              "Percent_Pfizer_administered     84.346669\n",
              "Percent_Moderna_administered    78.705781\n",
              "Percent_Janssen_administered    64.429804\n",
              "dtype: float64"
            ]
          },
          "execution_count": 19,
          "metadata": {},
          "output_type": "execute_result"
        }
      ],
      "source": [
        "combined[['Percent_Pfizer_administered', 'Percent_Moderna_administered', 'Percent_Janssen_administered']].mean()"
      ]
    },
    {
      "attachments": {},
      "cell_type": "markdown",
      "metadata": {
        "id": "BLf3jc6ex3Nz"
      },
      "source": [
        "b. Based on the data, what can you say about each vaccine? Which one is more popular? Why do you think that is the case?"
      ]
    },
    {
      "attachments": {},
      "cell_type": "markdown",
      "metadata": {
        "id": "RKfNgaYax3Nz"
      },
      "source": [
        "Pfizer is the most popular vaccine, with a higher average number and percentage administered. Janssen is the least popular, with the lowest average number and percentage administered. Moderna falls in between these two in terms of average number and percentage administered. "
      ]
    },
    {
      "attachments": {},
      "cell_type": "markdown",
      "metadata": {
        "id": "vAk3UZqqx3Nz"
      },
      "source": [
        "### Question 11 \n",
        "Write a code snippet that first defines a function to compute a new column called \"**Vaccination_rate**\" that indicates the rate of COVID-19 vaccinations divided into 3 categories:\n",
        "   * If the Percent_Fully_vaxed value for a state is greater than or equal to 60, the rate should be \"High\".\n",
        "   * If the Percent_Fully_vaxed is greater than or equal to 45 (but less than 60), then the rate should be \"Moderate\"\n",
        "   * If the Percent_Fully_vaxed is less than 45, the rate should be \"Low\"\n",
        "\n",
        "Your code should then use this function to add a new column to the dataframe. You should use one of the data transformation methods we covered in class. Refer to the sample output."
      ]
    },
    {
      "cell_type": "code",
      "execution_count": null,
      "metadata": {
        "id": "jlkYBhW5x3Nz"
      },
      "outputs": [],
      "source": [
        "def compute_vaccination_rate(percent_fully_vaxed):\n",
        "    if percent_fully_vaxed >= 60:\n",
        "        return 'High'\n",
        "    elif percent_fully_vaxed >= 45:\n",
        "        return 'Moderate'\n",
        "    else:\n",
        "        return 'Low'\n",
        "\n",
        "combined['Vaccination_rate'] = combined.apply(lambda state: compute_vaccination_rate(state['Percent_Fully_vaxed']), axis=1)"
      ]
    },
    {
      "cell_type": "code",
      "execution_count": null,
      "metadata": {
        "id": "cg3vziP_x3Nz",
        "outputId": "fd15bded-0a2a-4758-a2fe-c0bad30e1bab"
      },
      "outputs": [
        {
          "data": {
            "text/html": [
              "<div>\n",
              "<style scoped>\n",
              "    .dataframe tbody tr th:only-of-type {\n",
              "        vertical-align: middle;\n",
              "    }\n",
              "\n",
              "    .dataframe tbody tr th {\n",
              "        vertical-align: top;\n",
              "    }\n",
              "\n",
              "    .dataframe thead th {\n",
              "        text-align: right;\n",
              "    }\n",
              "</style>\n",
              "<table border=\"1\" class=\"dataframe\">\n",
              "  <thead>\n",
              "    <tr style=\"text-align: right;\">\n",
              "      <th></th>\n",
              "      <th>State</th>\n",
              "      <th>Population</th>\n",
              "      <th>Cases_in_7days</th>\n",
              "      <th>7-Day_Death_Rate</th>\n",
              "      <th>One_dose</th>\n",
              "      <th>Fully_vaxed</th>\n",
              "      <th>Pfizer_delivered</th>\n",
              "      <th>Pfizer_administered</th>\n",
              "      <th>Moderna_delivered</th>\n",
              "      <th>Moderna_administered</th>\n",
              "      <th>Janssen_delivered</th>\n",
              "      <th>Janssen_administered</th>\n",
              "      <th>Percent_Fully_vaxed</th>\n",
              "      <th>Percent_Pfizer_administered</th>\n",
              "      <th>Percent_Moderna_administered</th>\n",
              "      <th>Percent_Janssen_administered</th>\n",
              "      <th>Vaccination_rate</th>\n",
              "    </tr>\n",
              "  </thead>\n",
              "  <tbody>\n",
              "    <tr>\n",
              "      <th>0</th>\n",
              "      <td>Alabama</td>\n",
              "      <td>4903185</td>\n",
              "      <td>9177</td>\n",
              "      <td>5.7</td>\n",
              "      <td>2578863</td>\n",
              "      <td>2083182</td>\n",
              "      <td>3365010</td>\n",
              "      <td>2381659</td>\n",
              "      <td>3002080</td>\n",
              "      <td>1994682</td>\n",
              "      <td>303000</td>\n",
              "      <td>137840</td>\n",
              "      <td>42.486302</td>\n",
              "      <td>70.777175</td>\n",
              "      <td>66.443333</td>\n",
              "      <td>45.491749</td>\n",
              "      <td>Low</td>\n",
              "    </tr>\n",
              "    <tr>\n",
              "      <th>1</th>\n",
              "      <td>Alaska</td>\n",
              "      <td>731545</td>\n",
              "      <td>8497</td>\n",
              "      <td>10.9</td>\n",
              "      <td>418566</td>\n",
              "      <td>369526</td>\n",
              "      <td>564645</td>\n",
              "      <td>442790</td>\n",
              "      <td>424180</td>\n",
              "      <td>313048</td>\n",
              "      <td>66300</td>\n",
              "      <td>34039</td>\n",
              "      <td>50.513092</td>\n",
              "      <td>78.419184</td>\n",
              "      <td>73.800745</td>\n",
              "      <td>51.340875</td>\n",
              "      <td>Moderate</td>\n",
              "    </tr>\n",
              "    <tr>\n",
              "      <th>2</th>\n",
              "      <td>Arizona</td>\n",
              "      <td>7278717</td>\n",
              "      <td>17976</td>\n",
              "      <td>4.1</td>\n",
              "      <td>4311856</td>\n",
              "      <td>3714729</td>\n",
              "      <td>5359380</td>\n",
              "      <td>4559170</td>\n",
              "      <td>4032280</td>\n",
              "      <td>3338900</td>\n",
              "      <td>452100</td>\n",
              "      <td>288544</td>\n",
              "      <td>51.035492</td>\n",
              "      <td>85.068982</td>\n",
              "      <td>82.804270</td>\n",
              "      <td>63.823048</td>\n",
              "      <td>Moderate</td>\n",
              "    </tr>\n",
              "    <tr>\n",
              "      <th>3</th>\n",
              "      <td>Arkansas</td>\n",
              "      <td>3017825</td>\n",
              "      <td>6757</td>\n",
              "      <td>4.7</td>\n",
              "      <td>1679502</td>\n",
              "      <td>1373152</td>\n",
              "      <td>2076390</td>\n",
              "      <td>1601376</td>\n",
              "      <td>1778720</td>\n",
              "      <td>1305779</td>\n",
              "      <td>189300</td>\n",
              "      <td>98487</td>\n",
              "      <td>45.501379</td>\n",
              "      <td>77.123084</td>\n",
              "      <td>73.411161</td>\n",
              "      <td>52.026941</td>\n",
              "      <td>Moderate</td>\n",
              "    </tr>\n",
              "    <tr>\n",
              "      <th>4</th>\n",
              "      <td>California</td>\n",
              "      <td>39512223</td>\n",
              "      <td>28817</td>\n",
              "      <td>0.4</td>\n",
              "      <td>28309785</td>\n",
              "      <td>23278003</td>\n",
              "      <td>33050205</td>\n",
              "      <td>29302585</td>\n",
              "      <td>22530160</td>\n",
              "      <td>19376398</td>\n",
              "      <td>2751800</td>\n",
              "      <td>1854004</td>\n",
              "      <td>58.913423</td>\n",
              "      <td>88.660827</td>\n",
              "      <td>86.002043</td>\n",
              "      <td>67.374228</td>\n",
              "      <td>Moderate</td>\n",
              "    </tr>\n",
              "    <tr>\n",
              "      <th>5</th>\n",
              "      <td>Colorado</td>\n",
              "      <td>5758736</td>\n",
              "      <td>9569</td>\n",
              "      <td>1.7</td>\n",
              "      <td>3773179</td>\n",
              "      <td>3415476</td>\n",
              "      <td>4491435</td>\n",
              "      <td>4058453</td>\n",
              "      <td>3269380</td>\n",
              "      <td>2829816</td>\n",
              "      <td>366800</td>\n",
              "      <td>267860</td>\n",
              "      <td>59.309473</td>\n",
              "      <td>90.359829</td>\n",
              "      <td>86.555127</td>\n",
              "      <td>73.026172</td>\n",
              "      <td>Moderate</td>\n",
              "    </tr>\n",
              "    <tr>\n",
              "      <th>6</th>\n",
              "      <td>Connecticut</td>\n",
              "      <td>3565287</td>\n",
              "      <td>3508</td>\n",
              "      <td>4.1</td>\n",
              "      <td>2714593</td>\n",
              "      <td>2447436</td>\n",
              "      <td>3082215</td>\n",
              "      <td>2958816</td>\n",
              "      <td>2270140</td>\n",
              "      <td>1865664</td>\n",
              "      <td>262800</td>\n",
              "      <td>204994</td>\n",
              "      <td>68.646255</td>\n",
              "      <td>95.996418</td>\n",
              "      <td>82.182773</td>\n",
              "      <td>78.003805</td>\n",
              "      <td>High</td>\n",
              "    </tr>\n",
              "    <tr>\n",
              "      <th>7</th>\n",
              "      <td>Delaware</td>\n",
              "      <td>973764</td>\n",
              "      <td>3201</td>\n",
              "      <td>2.5</td>\n",
              "      <td>645716</td>\n",
              "      <td>561186</td>\n",
              "      <td>874005</td>\n",
              "      <td>686811</td>\n",
              "      <td>616700</td>\n",
              "      <td>463785</td>\n",
              "      <td>65900</td>\n",
              "      <td>50621</td>\n",
              "      <td>57.630596</td>\n",
              "      <td>78.582045</td>\n",
              "      <td>75.204313</td>\n",
              "      <td>76.814871</td>\n",
              "      <td>Moderate</td>\n",
              "    </tr>\n",
              "    <tr>\n",
              "      <th>8</th>\n",
              "      <td>District of Columbia</td>\n",
              "      <td>705749</td>\n",
              "      <td>1147</td>\n",
              "      <td>0.4</td>\n",
              "      <td>498997</td>\n",
              "      <td>423979</td>\n",
              "      <td>686295</td>\n",
              "      <td>589866</td>\n",
              "      <td>476360</td>\n",
              "      <td>376151</td>\n",
              "      <td>55400</td>\n",
              "      <td>30822</td>\n",
              "      <td>60.075041</td>\n",
              "      <td>85.949337</td>\n",
              "      <td>78.963599</td>\n",
              "      <td>55.635379</td>\n",
              "      <td>High</td>\n",
              "    </tr>\n",
              "    <tr>\n",
              "      <th>9</th>\n",
              "      <td>Florida</td>\n",
              "      <td>21477737</td>\n",
              "      <td>39707</td>\n",
              "      <td>1.1</td>\n",
              "      <td>14349393</td>\n",
              "      <td>12264110</td>\n",
              "      <td>18262635</td>\n",
              "      <td>15331685</td>\n",
              "      <td>12839860</td>\n",
              "      <td>10048593</td>\n",
              "      <td>1773500</td>\n",
              "      <td>1200837</td>\n",
              "      <td>57.101500</td>\n",
              "      <td>83.951111</td>\n",
              "      <td>78.260923</td>\n",
              "      <td>67.710008</td>\n",
              "      <td>Moderate</td>\n",
              "    </tr>\n",
              "  </tbody>\n",
              "</table>\n",
              "</div>"
            ],
            "text/plain": [
              "                  State  Population  Cases_in_7days  7-Day_Death_Rate  \\\n",
              "0               Alabama     4903185            9177               5.7   \n",
              "1                Alaska      731545            8497              10.9   \n",
              "2               Arizona     7278717           17976               4.1   \n",
              "3              Arkansas     3017825            6757               4.7   \n",
              "4            California    39512223           28817               0.4   \n",
              "5              Colorado     5758736            9569               1.7   \n",
              "6           Connecticut     3565287            3508               4.1   \n",
              "7              Delaware      973764            3201               2.5   \n",
              "8  District of Columbia      705749            1147               0.4   \n",
              "9               Florida    21477737           39707               1.1   \n",
              "\n",
              "   One_dose  Fully_vaxed  Pfizer_delivered  Pfizer_administered  \\\n",
              "0   2578863      2083182           3365010              2381659   \n",
              "1    418566       369526            564645               442790   \n",
              "2   4311856      3714729           5359380              4559170   \n",
              "3   1679502      1373152           2076390              1601376   \n",
              "4  28309785     23278003          33050205             29302585   \n",
              "5   3773179      3415476           4491435              4058453   \n",
              "6   2714593      2447436           3082215              2958816   \n",
              "7    645716       561186            874005               686811   \n",
              "8    498997       423979            686295               589866   \n",
              "9  14349393     12264110          18262635             15331685   \n",
              "\n",
              "   Moderna_delivered  Moderna_administered  Janssen_delivered  \\\n",
              "0            3002080               1994682             303000   \n",
              "1             424180                313048              66300   \n",
              "2            4032280               3338900             452100   \n",
              "3            1778720               1305779             189300   \n",
              "4           22530160              19376398            2751800   \n",
              "5            3269380               2829816             366800   \n",
              "6            2270140               1865664             262800   \n",
              "7             616700                463785              65900   \n",
              "8             476360                376151              55400   \n",
              "9           12839860              10048593            1773500   \n",
              "\n",
              "   Janssen_administered  Percent_Fully_vaxed  Percent_Pfizer_administered  \\\n",
              "0                137840            42.486302                    70.777175   \n",
              "1                 34039            50.513092                    78.419184   \n",
              "2                288544            51.035492                    85.068982   \n",
              "3                 98487            45.501379                    77.123084   \n",
              "4               1854004            58.913423                    88.660827   \n",
              "5                267860            59.309473                    90.359829   \n",
              "6                204994            68.646255                    95.996418   \n",
              "7                 50621            57.630596                    78.582045   \n",
              "8                 30822            60.075041                    85.949337   \n",
              "9               1200837            57.101500                    83.951111   \n",
              "\n",
              "   Percent_Moderna_administered  Percent_Janssen_administered Vaccination_rate  \n",
              "0                     66.443333                     45.491749              Low  \n",
              "1                     73.800745                     51.340875         Moderate  \n",
              "2                     82.804270                     63.823048         Moderate  \n",
              "3                     73.411161                     52.026941         Moderate  \n",
              "4                     86.002043                     67.374228         Moderate  \n",
              "5                     86.555127                     73.026172         Moderate  \n",
              "6                     82.182773                     78.003805             High  \n",
              "7                     75.204313                     76.814871         Moderate  \n",
              "8                     78.963599                     55.635379             High  \n",
              "9                     78.260923                     67.710008         Moderate  "
            ]
          },
          "execution_count": 21,
          "metadata": {},
          "output_type": "execute_result"
        }
      ],
      "source": [
        "combined.head(10)"
      ]
    },
    {
      "cell_type": "code",
      "execution_count": null,
      "metadata": {
        "id": "SFctYHhix3N0",
        "outputId": "19ab826c-1603-4103-e5f5-79052eb1807b"
      },
      "outputs": [
        {
          "data": {
            "text/plain": [
              "Moderate    31\n",
              "High        14\n",
              "Low          6\n",
              "Name: Vaccination_rate, dtype: int64"
            ]
          },
          "execution_count": 22,
          "metadata": {},
          "output_type": "execute_result"
        }
      ],
      "source": [
        "# when correctly executed, this should be the distribution of the labels\n",
        "combined[\"Vaccination_rate\"].value_counts()"
      ]
    },
    {
      "attachments": {},
      "cell_type": "markdown",
      "metadata": {
        "id": "6UTI-4Urx3N0"
      },
      "source": [
        "<center><h2> Part 3 </h2></center>"
      ]
    },
    {
      "attachments": {},
      "cell_type": "markdown",
      "metadata": {
        "id": "ewbVbSAWx3N0"
      },
      "source": [
        "### Question 12 \n",
        "Write a code snippet that produces a bubble plot (using seaborn) to visualize the relationship between vaccination rate (Percent_Fully_vaxed) and 7-day death rate per 100k people for the states, **as shown in the output below**. The size of the points/dots should be proportional to the number of cases observed in last 7 days.\n",
        "\n",
        "- You can use any range for the sizes of the bubbles (and also any color).\n",
        "- Your visualization must have axis labels and a header.\n"
      ]
    },
    {
      "cell_type": "code",
      "execution_count": null,
      "metadata": {
        "id": "L8Vm7miGx3N0",
        "outputId": "5e8bbb5b-7daf-46dc-afa0-dcccce14ed19",
        "scrolled": true
      },
      "outputs": [
        {
          "data": {
            "text/plain": [
              "Text(0, 0.5, '7-Day Death Rate per 100k')"
            ]
          },
          "execution_count": 23,
          "metadata": {},
          "output_type": "execute_result"
        },
        {
          "data": {
            "image/png": "[encoded data removed]",
            "text/plain": [
              "<Figure size 432x288 with 1 Axes>"
            ]
          },
          "metadata": {
            "needs_background": "light"
          },
          "output_type": "display_data"
        }
      ],
      "source": [
        "import seaborn as sns\n",
        "\n",
        "# create and display the scatter plot\n",
        "graph = sns.scatterplot(x=\"Percent_Fully_vaxed\", y=\"7-Day_Death_Rate\", size=\"Cases_in_7days\", data = combined, sizes= (100, 1000), \n",
        "                        legend=False, color=\"purple\", alpha=.7)\n",
        "\n",
        "#specify the title\n",
        "title = \"Relationship between Vaccination Rate and 7-Day Death Rate (per 100k)\"\n",
        "\n",
        "#set the title of the plot\n",
        "graph.set_title(title, size = 12)\n",
        "\n",
        "#add labels to the axes  \n",
        "graph.set_xlabel(\"Percent Fully Vaccinated\", size = 12)\n",
        "graph.set_ylabel(\"7-Day Death Rate per 100k\", size = 12)"
      ]
    },
    {
      "attachments": {},
      "cell_type": "markdown",
      "metadata": {
        "id": "Pq1-lHW2x3N0"
      },
      "source": [
        "Based on the bubble plot, what can you say about the relationship between vaccination rate and death rate?"
      ]
    },
    {
      "attachments": {},
      "cell_type": "markdown",
      "metadata": {
        "id": "IfN37B8ex3N0"
      },
      "source": [
        "Vaccination rate and 7-day death rate are inversely correlated."
      ]
    },
    {
      "attachments": {},
      "cell_type": "markdown",
      "metadata": {
        "id": "rMLV1DxFx3N0"
      },
      "source": [
        "<hr>\n",
        "\n",
        "The following is a dictionary containing the state/territory names and their 2-letter state codes. Use it in the following question."
      ]
    },
    {
      "cell_type": "code",
      "execution_count": null,
      "metadata": {
        "id": "i1ZQx2_7x3N0"
      },
      "outputs": [],
      "source": [
        "us_state_abbrev = {\n",
        "    'Alabama': 'AL',\n",
        "    'Alaska': 'AK',\n",
        "    'American Samoa': 'AS',\n",
        "    'Arizona': 'AZ',\n",
        "    'Arkansas': 'AR',\n",
        "    'California': 'CA',\n",
        "    'Colorado': 'CO',\n",
        "    'Connecticut': 'CT',\n",
        "    'Delaware': 'DE',\n",
        "    'District of Columbia': 'DC',\n",
        "    'Florida': 'FL',\n",
        "    'Georgia': 'GA',\n",
        "    'Guam': 'GU',\n",
        "    'Hawaii': 'HI',\n",
        "    'Idaho': 'ID',\n",
        "    'Illinois': 'IL',\n",
        "    'Indiana': 'IN',\n",
        "    'Iowa': 'IA',\n",
        "    'Kansas': 'KS',\n",
        "    'Kentucky': 'KY',\n",
        "    'Louisiana': 'LA',\n",
        "    'Maine': 'ME',\n",
        "    'Maryland': 'MD',\n",
        "    'Massachusetts': 'MA',\n",
        "    'Michigan': 'MI',\n",
        "    'Minnesota': 'MN',\n",
        "    'Mississippi': 'MS',\n",
        "    'Missouri': 'MO',\n",
        "    'Montana': 'MT',\n",
        "    'Nebraska': 'NE',\n",
        "    'Nevada': 'NV',\n",
        "    'New Hampshire': 'NH',\n",
        "    'New Jersey': 'NJ',\n",
        "    'New Mexico': 'NM',\n",
        "    'New York': 'NY',\n",
        "    'North Carolina': 'NC',\n",
        "    'North Dakota': 'ND',\n",
        "    'Northern Mariana Islands':'MP',\n",
        "    'Ohio': 'OH',\n",
        "    'Oklahoma': 'OK',\n",
        "    'Oregon': 'OR',\n",
        "    'Pennsylvania': 'PA',\n",
        "    'Puerto Rico': 'PR',\n",
        "    'Rhode Island': 'RI',\n",
        "    'South Carolina': 'SC',\n",
        "    'South Dakota': 'SD',\n",
        "    'Tennessee': 'TN',\n",
        "    'Texas': 'TX',\n",
        "    'Utah': 'UT',\n",
        "    'Vermont': 'VT',\n",
        "    'U.S. Virgin Islands': 'VI',\n",
        "    'Virginia': 'VA',\n",
        "    'Washington': 'WA',\n",
        "    'West Virginia': 'WV',\n",
        "    'Wisconsin': 'WI',\n",
        "    'Wyoming': 'WY'\n",
        "}"
      ]
    },
    {
      "attachments": {},
      "cell_type": "markdown",
      "metadata": {
        "id": "l9vyiI7Qx3N0"
      },
      "source": [
        "### Question 13 \n",
        "Write a one-line code snippet that replaces the state names in the combined dataframe with their 2-letter state codes provided in the above dictionary, us_state_abbrev. You are being asked to do this because you will need to use state abbreviations in the next question."
      ]
    },
    {
      "cell_type": "code",
      "execution_count": null,
      "metadata": {
        "id": "zta7GJVJx3N0"
      },
      "outputs": [],
      "source": [
        "combined['State'] = combined['State'].map(us_state_abbrev)"
      ]
    },
    {
      "cell_type": "code",
      "execution_count": null,
      "metadata": {
        "id": "BPKAGgqjx3N0",
        "outputId": "b42ad485-ccfa-4243-f2d3-64632c5f7ee8"
      },
      "outputs": [
        {
          "data": {
            "text/html": [
              "<div>\n",
              "<style scoped>\n",
              "    .dataframe tbody tr th:only-of-type {\n",
              "        vertical-align: middle;\n",
              "    }\n",
              "\n",
              "    .dataframe tbody tr th {\n",
              "        vertical-align: top;\n",
              "    }\n",
              "\n",
              "    .dataframe thead th {\n",
              "        text-align: right;\n",
              "    }\n",
              "</style>\n",
              "<table border=\"1\" class=\"dataframe\">\n",
              "  <thead>\n",
              "    <tr style=\"text-align: right;\">\n",
              "      <th></th>\n",
              "      <th>State</th>\n",
              "      <th>Population</th>\n",
              "      <th>Cases_in_7days</th>\n",
              "      <th>7-Day_Death_Rate</th>\n",
              "      <th>One_dose</th>\n",
              "      <th>Fully_vaxed</th>\n",
              "      <th>Pfizer_delivered</th>\n",
              "      <th>Pfizer_administered</th>\n",
              "      <th>Moderna_delivered</th>\n",
              "      <th>Moderna_administered</th>\n",
              "      <th>Janssen_delivered</th>\n",
              "      <th>Janssen_administered</th>\n",
              "      <th>Percent_Fully_vaxed</th>\n",
              "      <th>Percent_Pfizer_administered</th>\n",
              "      <th>Percent_Moderna_administered</th>\n",
              "      <th>Percent_Janssen_administered</th>\n",
              "      <th>Vaccination_rate</th>\n",
              "    </tr>\n",
              "  </thead>\n",
              "  <tbody>\n",
              "    <tr>\n",
              "      <th>0</th>\n",
              "      <td>AL</td>\n",
              "      <td>4903185</td>\n",
              "      <td>9177</td>\n",
              "      <td>5.7</td>\n",
              "      <td>2578863</td>\n",
              "      <td>2083182</td>\n",
              "      <td>3365010</td>\n",
              "      <td>2381659</td>\n",
              "      <td>3002080</td>\n",
              "      <td>1994682</td>\n",
              "      <td>303000</td>\n",
              "      <td>137840</td>\n",
              "      <td>42.486302</td>\n",
              "      <td>70.777175</td>\n",
              "      <td>66.443333</td>\n",
              "      <td>45.491749</td>\n",
              "      <td>Low</td>\n",
              "    </tr>\n",
              "    <tr>\n",
              "      <th>1</th>\n",
              "      <td>AK</td>\n",
              "      <td>731545</td>\n",
              "      <td>8497</td>\n",
              "      <td>10.9</td>\n",
              "      <td>418566</td>\n",
              "      <td>369526</td>\n",
              "      <td>564645</td>\n",
              "      <td>442790</td>\n",
              "      <td>424180</td>\n",
              "      <td>313048</td>\n",
              "      <td>66300</td>\n",
              "      <td>34039</td>\n",
              "      <td>50.513092</td>\n",
              "      <td>78.419184</td>\n",
              "      <td>73.800745</td>\n",
              "      <td>51.340875</td>\n",
              "      <td>Moderate</td>\n",
              "    </tr>\n",
              "    <tr>\n",
              "      <th>2</th>\n",
              "      <td>AZ</td>\n",
              "      <td>7278717</td>\n",
              "      <td>17976</td>\n",
              "      <td>4.1</td>\n",
              "      <td>4311856</td>\n",
              "      <td>3714729</td>\n",
              "      <td>5359380</td>\n",
              "      <td>4559170</td>\n",
              "      <td>4032280</td>\n",
              "      <td>3338900</td>\n",
              "      <td>452100</td>\n",
              "      <td>288544</td>\n",
              "      <td>51.035492</td>\n",
              "      <td>85.068982</td>\n",
              "      <td>82.804270</td>\n",
              "      <td>63.823048</td>\n",
              "      <td>Moderate</td>\n",
              "    </tr>\n",
              "    <tr>\n",
              "      <th>3</th>\n",
              "      <td>AR</td>\n",
              "      <td>3017825</td>\n",
              "      <td>6757</td>\n",
              "      <td>4.7</td>\n",
              "      <td>1679502</td>\n",
              "      <td>1373152</td>\n",
              "      <td>2076390</td>\n",
              "      <td>1601376</td>\n",
              "      <td>1778720</td>\n",
              "      <td>1305779</td>\n",
              "      <td>189300</td>\n",
              "      <td>98487</td>\n",
              "      <td>45.501379</td>\n",
              "      <td>77.123084</td>\n",
              "      <td>73.411161</td>\n",
              "      <td>52.026941</td>\n",
              "      <td>Moderate</td>\n",
              "    </tr>\n",
              "    <tr>\n",
              "      <th>4</th>\n",
              "      <td>CA</td>\n",
              "      <td>39512223</td>\n",
              "      <td>28817</td>\n",
              "      <td>0.4</td>\n",
              "      <td>28309785</td>\n",
              "      <td>23278003</td>\n",
              "      <td>33050205</td>\n",
              "      <td>29302585</td>\n",
              "      <td>22530160</td>\n",
              "      <td>19376398</td>\n",
              "      <td>2751800</td>\n",
              "      <td>1854004</td>\n",
              "      <td>58.913423</td>\n",
              "      <td>88.660827</td>\n",
              "      <td>86.002043</td>\n",
              "      <td>67.374228</td>\n",
              "      <td>Moderate</td>\n",
              "    </tr>\n",
              "  </tbody>\n",
              "</table>\n",
              "</div>"
            ],
            "text/plain": [
              "  State  Population  Cases_in_7days  7-Day_Death_Rate  One_dose  Fully_vaxed  \\\n",
              "0    AL     4903185            9177               5.7   2578863      2083182   \n",
              "1    AK      731545            8497              10.9    418566       369526   \n",
              "2    AZ     7278717           17976               4.1   4311856      3714729   \n",
              "3    AR     3017825            6757               4.7   1679502      1373152   \n",
              "4    CA    39512223           28817               0.4  28309785     23278003   \n",
              "\n",
              "   Pfizer_delivered  Pfizer_administered  Moderna_delivered  \\\n",
              "0           3365010              2381659            3002080   \n",
              "1            564645               442790             424180   \n",
              "2           5359380              4559170            4032280   \n",
              "3           2076390              1601376            1778720   \n",
              "4          33050205             29302585           22530160   \n",
              "\n",
              "   Moderna_administered  Janssen_delivered  Janssen_administered  \\\n",
              "0               1994682             303000                137840   \n",
              "1                313048              66300                 34039   \n",
              "2               3338900             452100                288544   \n",
              "3               1305779             189300                 98487   \n",
              "4              19376398            2751800               1854004   \n",
              "\n",
              "   Percent_Fully_vaxed  Percent_Pfizer_administered  \\\n",
              "0            42.486302                    70.777175   \n",
              "1            50.513092                    78.419184   \n",
              "2            51.035492                    85.068982   \n",
              "3            45.501379                    77.123084   \n",
              "4            58.913423                    88.660827   \n",
              "\n",
              "   Percent_Moderna_administered  Percent_Janssen_administered Vaccination_rate  \n",
              "0                     66.443333                     45.491749              Low  \n",
              "1                     73.800745                     51.340875         Moderate  \n",
              "2                     82.804270                     63.823048         Moderate  \n",
              "3                     73.411161                     52.026941         Moderate  \n",
              "4                     86.002043                     67.374228         Moderate  "
            ]
          },
          "execution_count": 26,
          "metadata": {},
          "output_type": "execute_result"
        }
      ],
      "source": [
        "# check out the State column\n",
        "combined.head()"
      ]
    },
    {
      "attachments": {},
      "cell_type": "markdown",
      "metadata": {
        "id": "mOxu-Aeux3N0"
      },
      "source": [
        "### Question 14 \n",
        "Please note that the plotly library will be covered in Week 5 Day 1. You should wait until then to tackle this question.\n",
        "\n",
        "As a data scientist, you will need to read a lot of documentation and figure out how to use various functions from different libraries. To that end, this question requires you to learn a new visualization type from the Plotly Express library:  **choropleth map**.\n",
        "\n",
        "- Here is the link to the documentation:\n",
        "    - https://plotly.github.io/plotly.py-docs/generated/plotly.express.choropleth.html\n",
        "\n",
        "Write a code snippet that uses the corresponding function from Plotly Express to produce a choropleth map of all the states in the US that visualizes the percentage of fully vaccinated people. Thus, you should color the states using the \"Percent_Fully_vaccinated\" column you added to the combined dataframe. Refer to the following link for a sample graph: \n",
        "- https://yildirimcaglar.github.io/ds3000/covid_vaccinations_map.html\n",
        "\n",
        "Note that most Plotly visualizations won't be embedded in Jupyter Notebook. Therefore, **you should also submit a screenshot of your visualization.**\n",
        "\n",
        "**Hint**: At the very least, you will want to use the following attributes of the choropleth function:\n",
        "- locations\n",
        "- locationmode\n",
        "- scope\n",
        "- color\n",
        "\n",
        "\n",
        "Make sure your visualization has a title similar to the sample output.\n",
        "\n",
        "\n"
      ]
    },
    {
      "cell_type": "code",
      "execution_count": null,
      "metadata": {
        "id": "3C_vpVwkx3N0"
      },
      "outputs": [],
      "source": [
        "import plotly.express as px\n",
        "fig = px.choropleth(data_frame=combined, title='COVID-19 Full Vaccination Rates', scope='usa', locationmode='USA-states', locations='State', color='Percent_Fully_vaxed')\n",
        "fig.show()"
      ]
    },
    {
      "cell_type": "code",
      "execution_count": null,
      "metadata": {
        "id": "kutrVhHfx3N1"
      },
      "outputs": [],
      "source": []
    }
  ],
  "metadata": {
    "colab": {
      "name": "DS3000_HW3.ipynb",
      "provenance": []
    },
    "kernelspec": {
      "display_name": "Python 3",
      "language": "python",
      "name": "python3"
    },
    "language_info": {
      "codemirror_mode": {
        "name": "ipython",
        "version": 3
      },
      "file_extension": ".py",
      "mimetype": "text/x-python",
      "name": "python",
      "nbconvert_exporter": "python",
      "pygments_lexer": "ipython3",
      "version": "3.8.8"
    }
  },
  "nbformat": 4,
  "nbformat_minor": 0
}
