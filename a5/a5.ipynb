{
  "cells": [
    {
      "attachments": {},
      "cell_type": "markdown",
      "metadata": {
        "id": "oThs6CBMrscF"
      },
      "source": [
        "<center> <h2> Why You Had to Suffer through That Space Game Thingy</h2> </center>\n",
        "\n",
        "Suppose that you've been hired as a DS intern in a games research lab. In one of the recent research projects, researchers have investigated the influence of the appearance of AI agents on players' enjoyment of the game within the context of playing a space game. The game involved players collaborating with an AI agent to defend their spaceship against enemy spaceships. The researchers conducted an interesting experiment to compare three possible designs, despite the technical challenges. In this assignment, your supervisors would like your help in making an informed decision as to which design alternative to use for the representation of the AI agent in the game.\n",
        "\n",
        "Based on prior research, the researchers came up with three alternatives for the representation of the AI agent: voice-based, robotic avatar, and humanoid avatar:\n",
        "- The voice-based design represents the AI agent using an animated circle of dots.\n",
        "- The robotic avatar displays a robot head to represent the AI agent.\n",
        "- The humanoid avatar displays a human bust as the representation of the AI agent.\n",
        "\n",
        "The representations are illustrated below:"
      ]
    },
    {
      "attachments": {},
      "cell_type": "markdown",
      "metadata": {
        "id": "lW3r9qhOrscF"
      },
      "source": [
        "<img src=\"https://i.ibb.co/M1ty00f/HW5-Conditions.png\" width = 600>"
      ]
    },
    {
      "attachments": {},
      "cell_type": "markdown",
      "metadata": {
        "id": "4D0P9fU8rscG"
      },
      "source": [
        "<center> <h2> Experimental Design and Hypotheses</h2> </center>\n",
        "\n",
        "The researchers were interested in the effect of avatar representation on game enjoyment, and you have been asked to analyze the data from an experiment designed to test which of these three designs would lead to better game enjoyment. For the experiment, they  recruited 240 participants and divided them into three groups of equal size to play the same game with one of the three avatar representations:\n",
        "\n",
        "* The first group played the game with the voice representation and provided self-reported ratings of their enjoyment of the game.\n",
        "* The second group played the game with the robot avatar and provided game enjoyment ratings as well.\n",
        "* The third group played the game with the human avatar and also indicated their enjoyment of the game.\n",
        "\n",
        "Game enjoyment was measured using a self-reported questionnaire from which an enjoyment score is computed in the range [1-7], with greater scores indicating greater game enjoyment. \n",
        "\n",
        "The **goal of the experiment** was to determine which of these three AI representations led to a more enjoyable gaming experience. Prior research indicates that the more embodied (having a bodily form) the representation of the avatar is, the more people engage in and enjoy the game. Therefore, the researchers predicted that the robot and human avatars would lead to greater game enjoyment, when compared to the voice representation. The researcher also predicted that the human avatar would lead to greater enjoyment levels compared to the robot avatar, as prior research shows the more human-like the avatar is, the more people like it.\n"
      ]
    },
    {
      "attachments": {},
      "cell_type": "markdown",
      "metadata": {
        "id": "wpOXjHOvrscH"
      },
      "source": [
        "<center> <h2> Dataset </h2> </center>\n",
        "\n",
        "Here is the dataset, DS3000_HW5_Data.csv (be sure to download and place it in the same directory as this Notebook):"
      ]
    },
    {
      "cell_type": "code",
      "execution_count": null,
      "metadata": {
        "id": "DCknEBU7rscH",
        "outputId": "b491c0b1-d5df-4933-8cbe-9aeb798e869c",
        "scrolled": true
      },
      "outputs": [
        {
          "data": {
            "text/html": [
              "<div>\n",
              "<style scoped>\n",
              "    .dataframe tbody tr th:only-of-type {\n",
              "        vertical-align: middle;\n",
              "    }\n",
              "\n",
              "    .dataframe tbody tr th {\n",
              "        vertical-align: top;\n",
              "    }\n",
              "\n",
              "    .dataframe thead th {\n",
              "        text-align: right;\n",
              "    }\n",
              "</style>\n",
              "<table border=\"1\" class=\"dataframe\">\n",
              "  <thead>\n",
              "    <tr style=\"text-align: right;\">\n",
              "      <th></th>\n",
              "      <th>Condition</th>\n",
              "      <th>Enjoyment</th>\n",
              "    </tr>\n",
              "  </thead>\n",
              "  <tbody>\n",
              "    <tr>\n",
              "      <th>0</th>\n",
              "      <td>Human</td>\n",
              "      <td>1.815450</td>\n",
              "    </tr>\n",
              "    <tr>\n",
              "      <th>1</th>\n",
              "      <td>Human</td>\n",
              "      <td>4.998519</td>\n",
              "    </tr>\n",
              "    <tr>\n",
              "      <th>2</th>\n",
              "      <td>Robot</td>\n",
              "      <td>4.491640</td>\n",
              "    </tr>\n",
              "    <tr>\n",
              "      <th>3</th>\n",
              "      <td>Voice</td>\n",
              "      <td>5.154917</td>\n",
              "    </tr>\n",
              "    <tr>\n",
              "      <th>4</th>\n",
              "      <td>Human</td>\n",
              "      <td>4.634129</td>\n",
              "    </tr>\n",
              "  </tbody>\n",
              "</table>\n",
              "</div>"
            ],
            "text/plain": [
              "  Condition  Enjoyment\n",
              "0     Human   1.815450\n",
              "1     Human   4.998519\n",
              "2     Robot   4.491640\n",
              "3     Voice   5.154917\n",
              "4     Human   4.634129"
            ]
          },
          "execution_count": 2,
          "metadata": {},
          "output_type": "execute_result"
        }
      ],
      "source": [
        "import pandas as pd\n",
        "df = pd.read_csv(\"DS3000_HW5_Data.csv\")\n",
        "df.head()"
      ]
    },
    {
      "attachments": {},
      "cell_type": "markdown",
      "metadata": {
        "id": "o-q9H0DMrscI"
      },
      "source": [
        "<center> <h2> Part 1 </h2> </center>"
      ]
    },
    {
      "attachments": {},
      "cell_type": "markdown",
      "metadata": {
        "id": "WhMBVdtIrscI"
      },
      "source": [
        "### Question 1a\n",
        "What is the independent variable of your experiment? What are the levels of the IV? Type your answer below:"
      ]
    },
    {
      "cell_type": "code",
      "execution_count": null,
      "metadata": {
        "id": "mXD4aIONrscI"
      },
      "outputs": [],
      "source": [
        "# The independent variable is the avatar representation of the AI agent. The 3 levels of the IV are voice, robot, and human."
      ]
    },
    {
      "attachments": {},
      "cell_type": "markdown",
      "metadata": {
        "id": "K6jcnd7srscI"
      },
      "source": [
        "### Question 1b\n",
        "What is the dependent variable of your experiment?"
      ]
    },
    {
      "cell_type": "code",
      "execution_count": null,
      "metadata": {
        "id": "Be5HME5krscJ"
      },
      "outputs": [],
      "source": [
        "# The dependent variable is game enjoyment score."
      ]
    },
    {
      "attachments": {},
      "cell_type": "markdown",
      "metadata": {
        "id": "mXFt0Dh9rscJ"
      },
      "source": [
        "### Question 1c (.5pts)\n",
        "What type of experimental design did this study follow? Just name the design."
      ]
    },
    {
      "cell_type": "code",
      "execution_count": null,
      "metadata": {
        "id": "V365ybSmrscJ"
      },
      "outputs": [],
      "source": [
        "# Between-subjects experimental design."
      ]
    },
    {
      "attachments": {},
      "cell_type": "markdown",
      "metadata": {
        "id": "1wiseXAdrscJ"
      },
      "source": [
        "### Question 1d\n",
        "State the null hypothesis for the experiment described above."
      ]
    },
    {
      "cell_type": "code",
      "execution_count": null,
      "metadata": {
        "id": "QtBoKPggrscJ"
      },
      "outputs": [],
      "source": [
        "# There is no difference in mean enjoyment score among the different agent avatars."
      ]
    },
    {
      "attachments": {},
      "cell_type": "markdown",
      "metadata": {
        "id": "F8CXrDNqrscJ"
      },
      "source": [
        "<center> <h2> Part 2 </h2> </center>"
      ]
    },
    {
      "attachments": {},
      "cell_type": "markdown",
      "metadata": {
        "id": "huHbLl_HrscK"
      },
      "source": [
        "### Question 2 \n",
        "Write a function that produces descriptive stats (count, mean, std, and sem) for each experimental condition. The function should take a dataframe and the names of columns for iv and dv and should return the descriptives dataframe as shown in the sample output."
      ]
    },
    {
      "cell_type": "code",
      "execution_count": null,
      "metadata": {
        "id": "zBdsakX4rscK"
      },
      "outputs": [],
      "source": [
        "def describe_data(data, iv, dv):\n",
        "    return data.groupby('Condition').agg([\"count\", \"mean\", \"std\", \"sem\"])"
      ]
    },
    {
      "cell_type": "code",
      "execution_count": null,
      "metadata": {
        "id": "qQ-31PEXrscK",
        "outputId": "80c7d97b-dc46-4a36-c53a-b9de70d5bd6b",
        "scrolled": true
      },
      "outputs": [
        {
          "data": {
            "text/html": [
              "<div>\n",
              "<style scoped>\n",
              "    .dataframe tbody tr th:only-of-type {\n",
              "        vertical-align: middle;\n",
              "    }\n",
              "\n",
              "    .dataframe tbody tr th {\n",
              "        vertical-align: top;\n",
              "    }\n",
              "\n",
              "    .dataframe thead tr th {\n",
              "        text-align: left;\n",
              "    }\n",
              "\n",
              "    .dataframe thead tr:last-of-type th {\n",
              "        text-align: right;\n",
              "    }\n",
              "</style>\n",
              "<table border=\"1\" class=\"dataframe\">\n",
              "  <thead>\n",
              "    <tr>\n",
              "      <th></th>\n",
              "      <th colspan=\"4\" halign=\"left\">Enjoyment</th>\n",
              "    </tr>\n",
              "    <tr>\n",
              "      <th></th>\n",
              "      <th>count</th>\n",
              "      <th>mean</th>\n",
              "      <th>std</th>\n",
              "      <th>sem</th>\n",
              "    </tr>\n",
              "    <tr>\n",
              "      <th>Condition</th>\n",
              "      <th></th>\n",
              "      <th></th>\n",
              "      <th></th>\n",
              "      <th></th>\n",
              "    </tr>\n",
              "  </thead>\n",
              "  <tbody>\n",
              "    <tr>\n",
              "      <th>Human</th>\n",
              "      <td>80</td>\n",
              "      <td>5.248073</td>\n",
              "      <td>1.220492</td>\n",
              "      <td>0.136455</td>\n",
              "    </tr>\n",
              "    <tr>\n",
              "      <th>Robot</th>\n",
              "      <td>80</td>\n",
              "      <td>4.643753</td>\n",
              "      <td>1.040908</td>\n",
              "      <td>0.116377</td>\n",
              "    </tr>\n",
              "    <tr>\n",
              "      <th>Voice</th>\n",
              "      <td>80</td>\n",
              "      <td>3.636178</td>\n",
              "      <td>0.950376</td>\n",
              "      <td>0.106255</td>\n",
              "    </tr>\n",
              "  </tbody>\n",
              "</table>\n",
              "</div>"
            ],
            "text/plain": [
              "          Enjoyment                              \n",
              "              count      mean       std       sem\n",
              "Condition                                        \n",
              "Human            80  5.248073  1.220492  0.136455\n",
              "Robot            80  4.643753  1.040908  0.116377\n",
              "Voice            80  3.636178  0.950376  0.106255"
            ]
          },
          "execution_count": 8,
          "metadata": {},
          "output_type": "execute_result"
        }
      ],
      "source": [
        "descriptives = describe_data(data=df, iv=\"Condition\", dv=\"Enjoyment\")\n",
        "descriptives"
      ]
    },
    {
      "attachments": {},
      "cell_type": "markdown",
      "metadata": {
        "id": "P0AQg3kKrscK"
      },
      "source": [
        "### Question 3 \n",
        "Write a function that visualizes a given dataframe that contains the data for a between-subjects experiment using **Plotly Express**. You are going to write a generic function that can be used to produce graphs for any between-subjects experiment. Here are the requirements:\n",
        "\n",
        "- Your function should receive the following arguments: \n",
        "    - the name of the dataframe (argument name = data), \n",
        "    - the name of the column representing the grouping variable or IV (argument name = iv), \n",
        "    - the name of the column for the dependent variable or DV (argument name = dv),\n",
        "    - the type of the visualization requested (argument name = vis_type),\n",
        "        - possible values: \"bar\", \"box\", \"violin\"\n",
        "        - the error bars of the bar graph should represent the standard error of each condition\n",
        "        - hint: you will need to use the describe_data function when producing the bar graph\n",
        "        \n",
        "    - and the width of the visualization (argument name = vis_width)\n",
        "\n",
        "- Then the function should produce the appropriate visualization based on the vis_type argument\n",
        "- The function should use the same template for all visualizations, namely \"ggplot2\".\n",
        "- The visualizations should use a distinct color for each condition, as shown in the sample outputs.\n",
        "- The function should return the visualization.\n",
        "\n",
        "Refer to the sample function calls and the corresponding visualizations (provided as links)."
      ]
    },
    {
      "cell_type": "code",
      "execution_count": null,
      "metadata": {
        "id": "wtuOlgD8rscK"
      },
      "outputs": [],
      "source": [
        "import plotly.express as px\n",
        "\n",
        "def visualize_data(data, iv, dv, vis_type, vis_width):\n",
        "    shared_args = {'x': iv, 'color':iv, 'width': vis_width, 'template': 'ggplot2'}\n",
        "    if vis_type == 'bar':\n",
        "        described_data = describe_data(data, iv, dv)[dv].reset_index()\n",
        "        return px.bar(data_frame=described_data, y='mean', error_y='sem', **shared_args)\n",
        "    if vis_type == 'box':\n",
        "        return px.box(data_frame=data, y=dv, **shared_args)\n",
        "    if vis_type == 'violin':\n",
        "        return px.violin(data_frame=data, y=dv, points='all', **shared_args)"
      ]
    },
    {
      "cell_type": "code",
      "execution_count": null,
      "metadata": {
        "id": "n-wCuttErscK",
        "scrolled": true
      },
      "outputs": [],
      "source": [
        "bar_graph = visualize_data(data=df, iv=\"Condition\", dv=\"Enjoyment\", vis_type=\"bar\", vis_width=500)\n",
        "bar_graph.show()"
      ]
    },
    {
      "attachments": {},
      "cell_type": "markdown",
      "metadata": {
        "id": "w7wsC6DYrscK"
      },
      "source": [
        "<img src=\"https://i.ibb.co/Mg42MLM/hw5bar.png\" alt=\"hw5bar\" border=\"0\">"
      ]
    },
    {
      "attachments": {},
      "cell_type": "markdown",
      "metadata": {
        "id": "x64gmUxMrscK"
      },
      "source": [
        "Here is the sample output for the bar graph (lesson learned: they won't embed; hence, the links):\n",
        "- https://i.ibb.co/bH0tnfx/bar.png"
      ]
    },
    {
      "cell_type": "code",
      "execution_count": null,
      "metadata": {
        "id": "e3qbf-oLrscL"
      },
      "outputs": [],
      "source": [
        "box_graph = visualize_data(data=df, iv=\"Condition\", dv=\"Enjoyment\", vis_type=\"box\", vis_width=500)\n",
        "box_graph.show()"
      ]
    },
    {
      "attachments": {},
      "cell_type": "markdown",
      "metadata": {
        "id": "VWMovVcjrscL"
      },
      "source": [
        "<img src=\"https://i.ibb.co/2gjHSJ0/hw5box.png\" alt=\"hw5box\" border=\"0\">"
      ]
    },
    {
      "attachments": {},
      "cell_type": "markdown",
      "metadata": {
        "id": "KD2wUSnwrscL"
      },
      "source": [
        "Here is the sample output for the box graph:\n",
        "- https://i.ibb.co/XZvDDHW/box.png"
      ]
    },
    {
      "cell_type": "code",
      "execution_count": null,
      "metadata": {
        "id": "JpT9Par-rscL"
      },
      "outputs": [],
      "source": [
        "violin_graph = visualize_data(data=df, iv=\"Condition\", dv=\"Enjoyment\", vis_type=\"violin\", vis_width=500)\n",
        "violin_graph.show()"
      ]
    },
    {
      "attachments": {},
      "cell_type": "markdown",
      "metadata": {
        "id": "OhvVamuWrscL"
      },
      "source": [
        "<img src=\"https://i.ibb.co/4pnS3xT/hw5violin.png\" alt=\"hw5violin\" border=\"0\">"
      ]
    },
    {
      "attachments": {},
      "cell_type": "markdown",
      "metadata": {
        "id": "5DnAFmjcrscL"
      },
      "source": [
        "Here is the sample output for the violin graph:\n",
        "- https://i.ibb.co/kJ9DVNc/violin.png"
      ]
    },
    {
      "attachments": {},
      "cell_type": "markdown",
      "metadata": {
        "id": "7JSWLXT3rscL"
      },
      "source": [
        "### Question 4 \n",
        "Write a function that takes a dataframe and the names of the IV and DV and conducts a one-way ANOVA on the dataframe using the IV and DV. Your function should calculate the F-test values, check for assumptions, and perform post-hoc comparisons, as seen in the output. You should use pingouin for these tests. \n",
        "\n",
        "The output from your function should be formatted in a way that matches the sample output below. That said, your function shouldn't be hard-coded to the values shown in the output. The output of the function should always be based ont the arguments provided. You should carefully study the sample output and format your output accordingly. Figuring out how to do this is part of the assignment. The sample output is formatted using \"\\n\" and \"\\t\" and the other string formatting methods we've looked at in class. Use extra lines to properly format the ouput. The more readable, the better. Don't worry; you won't lose points for including an extra line or whitespace in your output. Simply make sure your output is not crammed and approximates the sample output as much as possible. \n",
        "\n",
        "\n",
        "The function should indicate whether the results of the ANOVA test were significant. \n",
        "\n",
        "Please note that in the sample output the posthoc tests are displayed, but this should only be done if the ANOVA is significant. If the ANOVA results are nonsignificant, no posthoc tests should be performed and the ouput shouldn't include them. Your code must check for both conditions. This cannot be seen in the sample output but should be included in your code.\n",
        "\n",
        "Also note that for the posthoc tests, the sample output displays certain columns from the dataframes returned from pingouin. Your output should do the same, instead of directly printing out whatever is returned from pingouin functions.\n",
        "\n",
        "The sample output doesn't display any messages for the assumption checks, as the returned results indicate whether the assumption was met (boolean values). However, you're more than welcome to add an appropriate interpretation. This is not required, though.\n",
        "\n",
        "Assume an alpha level of .05 for hypothesis testing.\n",
        "\n",
        "Use bonferonni correction for posthocs.\n",
        "\n",
        "Use 3 decimal points when displaying floats.\n",
        "\n"
      ]
    },
    {
      "cell_type": "code",
      "execution_count": null,
      "metadata": {
        "id": "GyVccee_rscL"
      },
      "outputs": [],
      "source": [
        "import pingouin as pg\n",
        "\n",
        "def oneway_ANOVA(data, iv, dv):\n",
        "    \n",
        "    alpha = 0.05\n",
        "    \n",
        "    levene_results = pg.homoscedasticity(data=data, dv=dv, group=iv)\n",
        "    normality_results = pg.normality(data=data, dv=dv, group=iv)\n",
        "    \n",
        "    divider = '--------------------------'\n",
        "    new_line = '\\n'\n",
        "    print(f'''{divider}{new_line}ONE-WAY ANOVA RESULTS{new_line}{divider}{new_line}\n",
        "        {new_line}Assumption Checks{new_line}{divider}{new_line}\n",
        "        {new_line}Assumption of Equality of Variances:{new_line}\n",
        "        {new_line}{levene_results.round(3).to_string()}{new_line}\n",
        "        {new_line}Assumption of Normality:{new_line}\n",
        "        {new_line}{normality_results.round(3).to_string()}{new_line}{new_line}''')\n",
        "    \n",
        "    if levene_results['pval'][0] > alpha and (normality_results['pval'] > alpha).all():\n",
        "\n",
        "        results = pg.anova(data=data, dv=dv, between=iv, detailed=True)\n",
        "\n",
        "        print(f'''{new_line}F-test{new_line}{divider}{new_line}\n",
        "            {new_line}F({results['DF'][0]},{results['DF'][1]}) = {results['F'][0]:.3f}, p = {results['p-unc'][0]:.3f}''')\n",
        "\n",
        "        if results['p-unc'][0] < alpha:\n",
        "            posthocs = pg.pairwise_ttests(data=data, dv=dv, between=iv, padjust='bonf')\n",
        "            print(f'''{new_line}* Significant ANOVA results.{new_line}* Posthoc tests with bonferroni correction will be performed.{new_line}\n",
        "                {new_line}Post-hoc Tests{new_line}{divider}{new_line}\n",
        "                {new_line}{posthocs[['A', 'B', 'T', 'dof', 'p-corr']].round(3).to_string()}''')\n",
        "        else:\n",
        "            print(f'{new_line}* Insignificant ANOVA results.')\n",
        "    \n",
        "    else:\n",
        "        print(f'{new_line}* Assumption checks failed.')\n",
        "    "
      ]
    },
    {
      "cell_type": "code",
      "execution_count": null,
      "metadata": {
        "id": "2vR2ZCPurscM",
        "outputId": "e2b522f7-6371-4118-8d3f-8e3218dfe2f6",
        "scrolled": true
      },
      "outputs": [
        {
          "name": "stdout",
          "output_type": "stream",
          "text": [
            "--------------------------\n",
            "ONE-WAY ANOVA RESULTS\n",
            "--------------------------\n",
            "\n",
            "        \n",
            "Assumption Checks\n",
            "--------------------------\n",
            "\n",
            "        \n",
            "Assumption of Equality of Variances:\n",
            "\n",
            "        \n",
            "           W   pval  equal_var\n",
            "levene  2.15  0.119       True\n",
            "\n",
            "        \n",
            "Assumption of Normality:\n",
            "\n",
            "        \n",
            "           W   pval  normal\n",
            "Human  0.984  0.419    True\n",
            "Robot  0.982  0.338    True\n",
            "Voice  0.982  0.322    True\n",
            "\n",
            "\n",
            "\n",
            "F-test\n",
            "--------------------------\n",
            "\n",
            "            \n",
            "F(2,237) = 45.780, p = 0.000\n",
            "\n",
            "* Significant ANOVA results.\n",
            "* Posthoc tests with bonferroni correction will be performed.\n",
            "\n",
            "                \n",
            "Post-hoc Tests\n",
            "--------------------------\n",
            "\n",
            "                \n",
            "       A      B      T    dof  p-corr\n",
            "0  Human  Robot  3.370  158.0   0.003\n",
            "1  Human  Voice  9.320  158.0   0.000\n",
            "2  Robot  Voice  6.394  158.0   0.000\n"
          ]
        }
      ],
      "source": [
        "oneway_ANOVA(data=df, iv = \"Condition\", dv = \"Enjoyment\")"
      ]
    },
    {
      "attachments": {},
      "cell_type": "markdown",
      "metadata": {
        "id": "sCRVcyDKrscM"
      },
      "source": [
        "<center> <h2> Part 3 </h2> </center>"
      ]
    },
    {
      "attachments": {},
      "cell_type": "markdown",
      "metadata": {
        "id": "kSARhZnlrscM"
      },
      "source": [
        "### Question 5 \n",
        "Report the results of your test following the write-up example from the corresponding lecture notes. Failing to include all the required components (test and purpose and actual results) will lead to point deducations. You will basically explain your previous output using the template provided, but don't interpret the results here. Also describe the results of post hoc comparisons (were they significant?). Type your answer below in a markdown cell:"
      ]
    },
    {
      "attachments": {},
      "cell_type": "markdown",
      "metadata": {
        "id": "BvGqEpEArscM"
      },
      "source": [
        "A one-way analysis of variance (ANOVA) was conducted to compare the enjoyment score of a game among voice, robot, and human AI agent avatars.\n",
        "Results revealed a statistically significant difference among the three avatars, F(2, 237) = 45.780, p < .05.\n",
        "Post-hoc comparisons using the bonferroni correction indicated that the average enjoyment score of the human avatar (M = 5.248, SE = 0.136) was significantly greater than the enjoyment score of the robot avatar (M = 4.644, SE = 0.116) and the voice avatar (M = 3.636, SE = 0.106). The robot avatar also had a significantly greater average enjoyment score than the voice avatar."
      ]
    },
    {
      "attachments": {},
      "cell_type": "markdown",
      "metadata": {
        "id": "OSKUvbZNrscM"
      },
      "source": [
        "### Question 6 \n",
        "**Interpret** your results from the previous step. Which avatar should be used? Why? Type your answer below in a markdown cell:"
      ]
    },
    {
      "attachments": {},
      "cell_type": "markdown",
      "metadata": {
        "id": "qSHZPG2-rscM"
      },
      "source": [
        "These results indicate that the human AI agent avatar is more enjoyable than both the robot and voice avatars. Results also indicate that the robot avatar was more enjoyable than the voice avatar. These findings were in line with prior research suggesting the more human-like the avatar is, the more people like it. Therefore, the human avatar should be used as the game's AI agent. "
      ]
    },
    {
      "cell_type": "code",
      "execution_count": null,
      "metadata": {
        "id": "QGJAJ6r6rscM"
      },
      "outputs": [],
      "source": []
    }
  ],
  "metadata": {
    "colab": {
      "collapsed_sections": [],
      "name": "DS3000_HW5.ipynb",
      "provenance": []
    },
    "kernelspec": {
      "display_name": "Python 3",
      "language": "python",
      "name": "python3"
    },
    "language_info": {
      "codemirror_mode": {
        "name": "ipython",
        "version": 3
      },
      "file_extension": ".py",
      "mimetype": "text/x-python",
      "name": "python",
      "nbconvert_exporter": "python",
      "pygments_lexer": "ipython3",
      "version": "3.8.8"
    }
  },
  "nbformat": 4,
  "nbformat_minor": 0
}
