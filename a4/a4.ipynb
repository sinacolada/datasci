{
  "cells": [
    {
      "attachments": {},
      "cell_type": "markdown",
      "metadata": {
        "id": "TexNyiOihCyn"
      },
      "source": [
        "<h1><center>Titanic Passengers</center></h1>\n",
        "<img src=\"https://upload.wikimedia.org/wikipedia/commons/thumb/f/fd/RMS_Titanic_3.jpg/300px-RMS_Titanic_3.jpg\" />"
      ]
    },
    {
      "attachments": {},
      "cell_type": "markdown",
      "metadata": {
        "id": "7LyJQyEDhCyo"
      },
      "source": [
        "In this HW assignment, you are going to explore a rather popular dataset in DS circles: Titanic Passengers. The dataset is available through seaborn. While the dataset contains many variables regarding the 891 passengers, of interest to this particular assignment are the following (in addition to age and sex):\n",
        "- survived (0 or 1): indicates whether the passenger survived (1=survived)\n",
        "- fare: the fee paid for the ticket\n",
        "- class: passenger class (first, second, and third)\n",
        "- alive (true or false): same as survived but contains string values\n"
      ]
    },
    {
      "cell_type": "code",
      "execution_count": null,
      "metadata": {
        "id": "0SG50AvOhCyo",
        "outputId": "fe406b03-edc7-4a40-d201-b0903439c383"
      },
      "outputs": [
        {
          "data": {
            "text/html": [
              "<div>\n",
              "<style scoped>\n",
              "    .dataframe tbody tr th:only-of-type {\n",
              "        vertical-align: middle;\n",
              "    }\n",
              "\n",
              "    .dataframe tbody tr th {\n",
              "        vertical-align: top;\n",
              "    }\n",
              "\n",
              "    .dataframe thead th {\n",
              "        text-align: right;\n",
              "    }\n",
              "</style>\n",
              "<table border=\"1\" class=\"dataframe\">\n",
              "  <thead>\n",
              "    <tr style=\"text-align: right;\">\n",
              "      <th></th>\n",
              "      <th>survived</th>\n",
              "      <th>pclass</th>\n",
              "      <th>sex</th>\n",
              "      <th>age</th>\n",
              "      <th>sibsp</th>\n",
              "      <th>parch</th>\n",
              "      <th>fare</th>\n",
              "      <th>embarked</th>\n",
              "      <th>class</th>\n",
              "      <th>who</th>\n",
              "      <th>adult_male</th>\n",
              "      <th>deck</th>\n",
              "      <th>embark_town</th>\n",
              "      <th>alive</th>\n",
              "      <th>alone</th>\n",
              "    </tr>\n",
              "  </thead>\n",
              "  <tbody>\n",
              "    <tr>\n",
              "      <th>0</th>\n",
              "      <td>0</td>\n",
              "      <td>3</td>\n",
              "      <td>male</td>\n",
              "      <td>22.0</td>\n",
              "      <td>1</td>\n",
              "      <td>0</td>\n",
              "      <td>7.2500</td>\n",
              "      <td>S</td>\n",
              "      <td>Third</td>\n",
              "      <td>man</td>\n",
              "      <td>True</td>\n",
              "      <td>NaN</td>\n",
              "      <td>Southampton</td>\n",
              "      <td>no</td>\n",
              "      <td>False</td>\n",
              "    </tr>\n",
              "    <tr>\n",
              "      <th>1</th>\n",
              "      <td>1</td>\n",
              "      <td>1</td>\n",
              "      <td>female</td>\n",
              "      <td>38.0</td>\n",
              "      <td>1</td>\n",
              "      <td>0</td>\n",
              "      <td>71.2833</td>\n",
              "      <td>C</td>\n",
              "      <td>First</td>\n",
              "      <td>woman</td>\n",
              "      <td>False</td>\n",
              "      <td>C</td>\n",
              "      <td>Cherbourg</td>\n",
              "      <td>yes</td>\n",
              "      <td>False</td>\n",
              "    </tr>\n",
              "    <tr>\n",
              "      <th>2</th>\n",
              "      <td>1</td>\n",
              "      <td>3</td>\n",
              "      <td>female</td>\n",
              "      <td>26.0</td>\n",
              "      <td>0</td>\n",
              "      <td>0</td>\n",
              "      <td>7.9250</td>\n",
              "      <td>S</td>\n",
              "      <td>Third</td>\n",
              "      <td>woman</td>\n",
              "      <td>False</td>\n",
              "      <td>NaN</td>\n",
              "      <td>Southampton</td>\n",
              "      <td>yes</td>\n",
              "      <td>True</td>\n",
              "    </tr>\n",
              "    <tr>\n",
              "      <th>3</th>\n",
              "      <td>1</td>\n",
              "      <td>1</td>\n",
              "      <td>female</td>\n",
              "      <td>35.0</td>\n",
              "      <td>1</td>\n",
              "      <td>0</td>\n",
              "      <td>53.1000</td>\n",
              "      <td>S</td>\n",
              "      <td>First</td>\n",
              "      <td>woman</td>\n",
              "      <td>False</td>\n",
              "      <td>C</td>\n",
              "      <td>Southampton</td>\n",
              "      <td>yes</td>\n",
              "      <td>False</td>\n",
              "    </tr>\n",
              "    <tr>\n",
              "      <th>4</th>\n",
              "      <td>0</td>\n",
              "      <td>3</td>\n",
              "      <td>male</td>\n",
              "      <td>35.0</td>\n",
              "      <td>0</td>\n",
              "      <td>0</td>\n",
              "      <td>8.0500</td>\n",
              "      <td>S</td>\n",
              "      <td>Third</td>\n",
              "      <td>man</td>\n",
              "      <td>True</td>\n",
              "      <td>NaN</td>\n",
              "      <td>Southampton</td>\n",
              "      <td>no</td>\n",
              "      <td>True</td>\n",
              "    </tr>\n",
              "    <tr>\n",
              "      <th>...</th>\n",
              "      <td>...</td>\n",
              "      <td>...</td>\n",
              "      <td>...</td>\n",
              "      <td>...</td>\n",
              "      <td>...</td>\n",
              "      <td>...</td>\n",
              "      <td>...</td>\n",
              "      <td>...</td>\n",
              "      <td>...</td>\n",
              "      <td>...</td>\n",
              "      <td>...</td>\n",
              "      <td>...</td>\n",
              "      <td>...</td>\n",
              "      <td>...</td>\n",
              "      <td>...</td>\n",
              "    </tr>\n",
              "    <tr>\n",
              "      <th>886</th>\n",
              "      <td>0</td>\n",
              "      <td>2</td>\n",
              "      <td>male</td>\n",
              "      <td>27.0</td>\n",
              "      <td>0</td>\n",
              "      <td>0</td>\n",
              "      <td>13.0000</td>\n",
              "      <td>S</td>\n",
              "      <td>Second</td>\n",
              "      <td>man</td>\n",
              "      <td>True</td>\n",
              "      <td>NaN</td>\n",
              "      <td>Southampton</td>\n",
              "      <td>no</td>\n",
              "      <td>True</td>\n",
              "    </tr>\n",
              "    <tr>\n",
              "      <th>887</th>\n",
              "      <td>1</td>\n",
              "      <td>1</td>\n",
              "      <td>female</td>\n",
              "      <td>19.0</td>\n",
              "      <td>0</td>\n",
              "      <td>0</td>\n",
              "      <td>30.0000</td>\n",
              "      <td>S</td>\n",
              "      <td>First</td>\n",
              "      <td>woman</td>\n",
              "      <td>False</td>\n",
              "      <td>B</td>\n",
              "      <td>Southampton</td>\n",
              "      <td>yes</td>\n",
              "      <td>True</td>\n",
              "    </tr>\n",
              "    <tr>\n",
              "      <th>888</th>\n",
              "      <td>0</td>\n",
              "      <td>3</td>\n",
              "      <td>female</td>\n",
              "      <td>NaN</td>\n",
              "      <td>1</td>\n",
              "      <td>2</td>\n",
              "      <td>23.4500</td>\n",
              "      <td>S</td>\n",
              "      <td>Third</td>\n",
              "      <td>woman</td>\n",
              "      <td>False</td>\n",
              "      <td>NaN</td>\n",
              "      <td>Southampton</td>\n",
              "      <td>no</td>\n",
              "      <td>False</td>\n",
              "    </tr>\n",
              "    <tr>\n",
              "      <th>889</th>\n",
              "      <td>1</td>\n",
              "      <td>1</td>\n",
              "      <td>male</td>\n",
              "      <td>26.0</td>\n",
              "      <td>0</td>\n",
              "      <td>0</td>\n",
              "      <td>30.0000</td>\n",
              "      <td>C</td>\n",
              "      <td>First</td>\n",
              "      <td>man</td>\n",
              "      <td>True</td>\n",
              "      <td>C</td>\n",
              "      <td>Cherbourg</td>\n",
              "      <td>yes</td>\n",
              "      <td>True</td>\n",
              "    </tr>\n",
              "    <tr>\n",
              "      <th>890</th>\n",
              "      <td>0</td>\n",
              "      <td>3</td>\n",
              "      <td>male</td>\n",
              "      <td>32.0</td>\n",
              "      <td>0</td>\n",
              "      <td>0</td>\n",
              "      <td>7.7500</td>\n",
              "      <td>Q</td>\n",
              "      <td>Third</td>\n",
              "      <td>man</td>\n",
              "      <td>True</td>\n",
              "      <td>NaN</td>\n",
              "      <td>Queenstown</td>\n",
              "      <td>no</td>\n",
              "      <td>True</td>\n",
              "    </tr>\n",
              "  </tbody>\n",
              "</table>\n",
              "<p>891 rows × 15 columns</p>\n",
              "</div>"
            ],
            "text/plain": [
              "     survived  pclass     sex   age  sibsp  parch     fare embarked   class  \\\n",
              "0           0       3    male  22.0      1      0   7.2500        S   Third   \n",
              "1           1       1  female  38.0      1      0  71.2833        C   First   \n",
              "2           1       3  female  26.0      0      0   7.9250        S   Third   \n",
              "3           1       1  female  35.0      1      0  53.1000        S   First   \n",
              "4           0       3    male  35.0      0      0   8.0500        S   Third   \n",
              "..        ...     ...     ...   ...    ...    ...      ...      ...     ...   \n",
              "886         0       2    male  27.0      0      0  13.0000        S  Second   \n",
              "887         1       1  female  19.0      0      0  30.0000        S   First   \n",
              "888         0       3  female   NaN      1      2  23.4500        S   Third   \n",
              "889         1       1    male  26.0      0      0  30.0000        C   First   \n",
              "890         0       3    male  32.0      0      0   7.7500        Q   Third   \n",
              "\n",
              "       who  adult_male deck  embark_town alive  alone  \n",
              "0      man        True  NaN  Southampton    no  False  \n",
              "1    woman       False    C    Cherbourg   yes  False  \n",
              "2    woman       False  NaN  Southampton   yes   True  \n",
              "3    woman       False    C  Southampton   yes  False  \n",
              "4      man        True  NaN  Southampton    no   True  \n",
              "..     ...         ...  ...          ...   ...    ...  \n",
              "886    man        True  NaN  Southampton    no   True  \n",
              "887  woman       False    B  Southampton   yes   True  \n",
              "888  woman       False  NaN  Southampton    no  False  \n",
              "889    man        True    C    Cherbourg   yes   True  \n",
              "890    man        True  NaN   Queenstown    no   True  \n",
              "\n",
              "[891 rows x 15 columns]"
            ]
          },
          "execution_count": 2,
          "metadata": {},
          "output_type": "execute_result"
        }
      ],
      "source": [
        "# run this cell to import the dataset\n",
        "import seaborn as sns\n",
        "data = sns.load_dataset(\"titanic\")\n",
        "data"
      ]
    },
    {
      "attachments": {},
      "cell_type": "markdown",
      "metadata": {
        "id": "iwdv-4RqhCyp"
      },
      "source": [
        "### Question 1\n",
        "\n",
        "Write a code snippet that extracts the number of survivors in each passenger class from the data dataframe, as shown in the sample output below.\n",
        "\n",
        "Your code snippet can consist of **two lines at most** (i.e., max of lines of code your answer can contain = 2). A one-line code snippet is ideal for this."
      ]
    },
    {
      "cell_type": "code",
      "execution_count": null,
      "metadata": {
        "id": "EL7Ady7phCyp",
        "outputId": "b6251d3f-023f-47f5-cb77-a1d31986894e"
      },
      "outputs": [
        {
          "data": {
            "text/html": [
              "<div>\n",
              "<style scoped>\n",
              "    .dataframe tbody tr th:only-of-type {\n",
              "        vertical-align: middle;\n",
              "    }\n",
              "\n",
              "    .dataframe tbody tr th {\n",
              "        vertical-align: top;\n",
              "    }\n",
              "\n",
              "    .dataframe thead th {\n",
              "        text-align: right;\n",
              "    }\n",
              "</style>\n",
              "<table border=\"1\" class=\"dataframe\">\n",
              "  <thead>\n",
              "    <tr style=\"text-align: right;\">\n",
              "      <th></th>\n",
              "      <th>class</th>\n",
              "      <th>alive</th>\n",
              "      <th>survived</th>\n",
              "    </tr>\n",
              "  </thead>\n",
              "  <tbody>\n",
              "    <tr>\n",
              "      <th>0</th>\n",
              "      <td>First</td>\n",
              "      <td>no</td>\n",
              "      <td>80</td>\n",
              "    </tr>\n",
              "    <tr>\n",
              "      <th>1</th>\n",
              "      <td>First</td>\n",
              "      <td>yes</td>\n",
              "      <td>136</td>\n",
              "    </tr>\n",
              "    <tr>\n",
              "      <th>2</th>\n",
              "      <td>Second</td>\n",
              "      <td>no</td>\n",
              "      <td>97</td>\n",
              "    </tr>\n",
              "    <tr>\n",
              "      <th>3</th>\n",
              "      <td>Second</td>\n",
              "      <td>yes</td>\n",
              "      <td>87</td>\n",
              "    </tr>\n",
              "    <tr>\n",
              "      <th>4</th>\n",
              "      <td>Third</td>\n",
              "      <td>no</td>\n",
              "      <td>372</td>\n",
              "    </tr>\n",
              "    <tr>\n",
              "      <th>5</th>\n",
              "      <td>Third</td>\n",
              "      <td>yes</td>\n",
              "      <td>119</td>\n",
              "    </tr>\n",
              "  </tbody>\n",
              "</table>\n",
              "</div>"
            ],
            "text/plain": [
              "    class alive  survived\n",
              "0   First    no        80\n",
              "1   First   yes       136\n",
              "2  Second    no        97\n",
              "3  Second   yes        87\n",
              "4   Third    no       372\n",
              "5   Third   yes       119"
            ]
          },
          "execution_count": 3,
          "metadata": {},
          "output_type": "execute_result"
        }
      ],
      "source": [
        "df = data.groupby(['class', 'alive']).count()['survived'].reset_index()\n",
        "df"
      ]
    },
    {
      "attachments": {},
      "cell_type": "markdown",
      "metadata": {
        "id": "W2oWJEHThCyq"
      },
      "source": [
        "### Question 2\n",
        "\n",
        "Using plotly express, produce a bar graph to visualize the number of survivors as a function of passenger class as shown in the output below. Your graph must match the sample graph in all aspects. The name of the plotly theme used in the sample output is ggplot2. You are required to use the df dataframe from the previous question here."
      ]
    },
    {
      "cell_type": "code",
      "execution_count": null,
      "metadata": {
        "id": "wVT8oo_WhCyq"
      },
      "outputs": [],
      "source": [
        "import plotly.express as px\n",
        "\n",
        "fig = px.bar(df, x='class', y='survived', color='alive', barmode='group', template='ggplot2', title='Titanic Survivors',\n",
        "            labels = {'class': 'Ticket Class', 'survived': 'Count'}, text='survived', width=400,\n",
        "            color_discrete_map={'no': '#F2736A', 'yes': '#A3A500'})\n",
        "\n",
        "fig.update_traces(textposition='inside')\n",
        "fig.update_yaxes(nticks = 5)\n",
        "\n",
        "fig.show()"
      ]
    },
    {
      "attachments": {},
      "cell_type": "markdown",
      "metadata": {
        "id": "YSGVytrthCyq"
      },
      "source": [
        "<img src=\"https://i.ibb.co/M1XFF29/Unknown.png\" alt=\"Unknown\" border=\"0\"/>"
      ]
    },
    {
      "attachments": {},
      "cell_type": "markdown",
      "metadata": {
        "id": "d5DzGoR8hCyq"
      },
      "source": [
        "\n",
        "<hr>\n",
        "\n",
        "Before proceeding to the next part, go ahead and clean up the dataframe a bit. Select from the data dataframe the six column shown in the output below and save them in a new dataframe called df_cleaned. Use the df_cleaned dataframe in the following questions."
      ]
    },
    {
      "cell_type": "code",
      "execution_count": null,
      "metadata": {
        "id": "qi0AObhNhCyq",
        "outputId": "ba476618-80d6-4e90-fe45-20f8058a6331"
      },
      "outputs": [
        {
          "data": {
            "text/html": [
              "<div>\n",
              "<style scoped>\n",
              "    .dataframe tbody tr th:only-of-type {\n",
              "        vertical-align: middle;\n",
              "    }\n",
              "\n",
              "    .dataframe tbody tr th {\n",
              "        vertical-align: top;\n",
              "    }\n",
              "\n",
              "    .dataframe thead th {\n",
              "        text-align: right;\n",
              "    }\n",
              "</style>\n",
              "<table border=\"1\" class=\"dataframe\">\n",
              "  <thead>\n",
              "    <tr style=\"text-align: right;\">\n",
              "      <th></th>\n",
              "      <th>sex</th>\n",
              "      <th>age</th>\n",
              "      <th>alone</th>\n",
              "      <th>class</th>\n",
              "      <th>fare</th>\n",
              "      <th>alive</th>\n",
              "    </tr>\n",
              "  </thead>\n",
              "  <tbody>\n",
              "    <tr>\n",
              "      <th>0</th>\n",
              "      <td>male</td>\n",
              "      <td>22.0</td>\n",
              "      <td>False</td>\n",
              "      <td>Third</td>\n",
              "      <td>7.2500</td>\n",
              "      <td>no</td>\n",
              "    </tr>\n",
              "    <tr>\n",
              "      <th>1</th>\n",
              "      <td>female</td>\n",
              "      <td>38.0</td>\n",
              "      <td>False</td>\n",
              "      <td>First</td>\n",
              "      <td>71.2833</td>\n",
              "      <td>yes</td>\n",
              "    </tr>\n",
              "    <tr>\n",
              "      <th>2</th>\n",
              "      <td>female</td>\n",
              "      <td>26.0</td>\n",
              "      <td>True</td>\n",
              "      <td>Third</td>\n",
              "      <td>7.9250</td>\n",
              "      <td>yes</td>\n",
              "    </tr>\n",
              "    <tr>\n",
              "      <th>3</th>\n",
              "      <td>female</td>\n",
              "      <td>35.0</td>\n",
              "      <td>False</td>\n",
              "      <td>First</td>\n",
              "      <td>53.1000</td>\n",
              "      <td>yes</td>\n",
              "    </tr>\n",
              "    <tr>\n",
              "      <th>4</th>\n",
              "      <td>male</td>\n",
              "      <td>35.0</td>\n",
              "      <td>True</td>\n",
              "      <td>Third</td>\n",
              "      <td>8.0500</td>\n",
              "      <td>no</td>\n",
              "    </tr>\n",
              "    <tr>\n",
              "      <th>...</th>\n",
              "      <td>...</td>\n",
              "      <td>...</td>\n",
              "      <td>...</td>\n",
              "      <td>...</td>\n",
              "      <td>...</td>\n",
              "      <td>...</td>\n",
              "    </tr>\n",
              "    <tr>\n",
              "      <th>886</th>\n",
              "      <td>male</td>\n",
              "      <td>27.0</td>\n",
              "      <td>True</td>\n",
              "      <td>Second</td>\n",
              "      <td>13.0000</td>\n",
              "      <td>no</td>\n",
              "    </tr>\n",
              "    <tr>\n",
              "      <th>887</th>\n",
              "      <td>female</td>\n",
              "      <td>19.0</td>\n",
              "      <td>True</td>\n",
              "      <td>First</td>\n",
              "      <td>30.0000</td>\n",
              "      <td>yes</td>\n",
              "    </tr>\n",
              "    <tr>\n",
              "      <th>888</th>\n",
              "      <td>female</td>\n",
              "      <td>NaN</td>\n",
              "      <td>False</td>\n",
              "      <td>Third</td>\n",
              "      <td>23.4500</td>\n",
              "      <td>no</td>\n",
              "    </tr>\n",
              "    <tr>\n",
              "      <th>889</th>\n",
              "      <td>male</td>\n",
              "      <td>26.0</td>\n",
              "      <td>True</td>\n",
              "      <td>First</td>\n",
              "      <td>30.0000</td>\n",
              "      <td>yes</td>\n",
              "    </tr>\n",
              "    <tr>\n",
              "      <th>890</th>\n",
              "      <td>male</td>\n",
              "      <td>32.0</td>\n",
              "      <td>True</td>\n",
              "      <td>Third</td>\n",
              "      <td>7.7500</td>\n",
              "      <td>no</td>\n",
              "    </tr>\n",
              "  </tbody>\n",
              "</table>\n",
              "<p>891 rows × 6 columns</p>\n",
              "</div>"
            ],
            "text/plain": [
              "        sex   age  alone   class     fare alive\n",
              "0      male  22.0  False   Third   7.2500    no\n",
              "1    female  38.0  False   First  71.2833   yes\n",
              "2    female  26.0   True   Third   7.9250   yes\n",
              "3    female  35.0  False   First  53.1000   yes\n",
              "4      male  35.0   True   Third   8.0500    no\n",
              "..      ...   ...    ...     ...      ...   ...\n",
              "886    male  27.0   True  Second  13.0000    no\n",
              "887  female  19.0   True   First  30.0000   yes\n",
              "888  female   NaN  False   Third  23.4500    no\n",
              "889    male  26.0   True   First  30.0000   yes\n",
              "890    male  32.0   True   Third   7.7500    no\n",
              "\n",
              "[891 rows x 6 columns]"
            ]
          },
          "execution_count": 5,
          "metadata": {},
          "output_type": "execute_result"
        }
      ],
      "source": [
        "df_cleaned = data[['sex', 'age', 'alone', 'class', 'fare', 'alive']]\n",
        "df_cleaned"
      ]
    },
    {
      "attachments": {},
      "cell_type": "markdown",
      "metadata": {
        "id": "wEhrb1IShCyr"
      },
      "source": [
        "### Question 3\n",
        "\n",
        "Using seaborn, make an histogram of the fare values, as shown in the sample output below."
      ]
    },
    {
      "cell_type": "code",
      "execution_count": null,
      "metadata": {
        "id": "fo5hGR9OhCyr",
        "outputId": "3ded3ea2-9c21-416b-8e4c-ec450caf4769",
        "scrolled": true
      },
      "outputs": [
        {
          "data": {
            "image/png": "[encoded data removed]",
            "text/plain": [
              "<Figure size 432x288 with 1 Axes>"
            ]
          },
          "metadata": {
            "needs_background": "light"
          },
          "output_type": "display_data"
        }
      ],
      "source": [
        "graph = sns.histplot(data=df_cleaned, x='fare')"
      ]
    },
    {
      "attachments": {},
      "cell_type": "markdown",
      "metadata": {
        "id": "AT-LUEm6hCyr"
      },
      "source": [
        "<img src=\"https://i.ibb.co/nr6ByPQ/sns1.png\" alt=\"sns1\" border=\"0\"/>"
      ]
    },
    {
      "cell_type": "code",
      "execution_count": null,
      "metadata": {
        "id": "Q4v2Y_xQhCyr",
        "outputId": "fdedbc82-a945-47d5-db5c-07dba90e49b3"
      },
      "outputs": [
        {
          "data": {
            "text/plain": [
              "count    891.000000\n",
              "mean      32.204208\n",
              "std       49.693429\n",
              "min        0.000000\n",
              "25%        7.910400\n",
              "50%       14.454200\n",
              "75%       31.000000\n",
              "max      512.329200\n",
              "Name: fare, dtype: float64"
            ]
          },
          "execution_count": 7,
          "metadata": {},
          "output_type": "execute_result"
        }
      ],
      "source": [
        "df_cleaned[\"fare\"].describe()"
      ]
    },
    {
      "attachments": {},
      "cell_type": "markdown",
      "metadata": {
        "id": "-B2hFwqihCyr"
      },
      "source": [
        "As you can see, the fare values are not normally distributed. There are a couple values that are extremely high and make it harder to interpret the histogram. In the next question, you're going to try to mitigate this."
      ]
    },
    {
      "attachments": {},
      "cell_type": "markdown",
      "metadata": {
        "id": "W6Adz5W1hCyr"
      },
      "source": [
        "### Question 4\n",
        "\n",
        "As we discussed, these extremely high values are known as outliers. It's our sincere hope that you do remember that for a normal distribution, a value that is below/above three standard deviations of the mean is very unlikely. We're going to use that here even though it's clear that the distribution of fares is not normal. Still, that's a common approach for outlier elimination, which is why you will use it here. \n",
        "\n",
        "Write a code snippet to delete the passengers whose fare is three standard deviations above the average fare (we won't worry about fares being three standard deviations below the mean, the reason behind which is for you to cogitate :)). Your code should perform this operation on the df_cleaned dataframe. The new version of the df_cleaned dataframe is shown below. Note that it now has 871 rows (as opposed to 891, the original # of rows).\n",
        "\n",
        "Note that everything should be done computationally. You should not manually enter the rows to be deleted."
      ]
    },
    {
      "cell_type": "code",
      "execution_count": null,
      "metadata": {
        "id": "6D7fmOlahCyr",
        "outputId": "898200bd-11ef-4ef0-da71-9c3d212e9640"
      },
      "outputs": [
        {
          "data": {
            "text/html": [
              "<div>\n",
              "<style scoped>\n",
              "    .dataframe tbody tr th:only-of-type {\n",
              "        vertical-align: middle;\n",
              "    }\n",
              "\n",
              "    .dataframe tbody tr th {\n",
              "        vertical-align: top;\n",
              "    }\n",
              "\n",
              "    .dataframe thead th {\n",
              "        text-align: right;\n",
              "    }\n",
              "</style>\n",
              "<table border=\"1\" class=\"dataframe\">\n",
              "  <thead>\n",
              "    <tr style=\"text-align: right;\">\n",
              "      <th></th>\n",
              "      <th>sex</th>\n",
              "      <th>age</th>\n",
              "      <th>alone</th>\n",
              "      <th>class</th>\n",
              "      <th>fare</th>\n",
              "      <th>alive</th>\n",
              "    </tr>\n",
              "  </thead>\n",
              "  <tbody>\n",
              "    <tr>\n",
              "      <th>0</th>\n",
              "      <td>male</td>\n",
              "      <td>22.0</td>\n",
              "      <td>False</td>\n",
              "      <td>Third</td>\n",
              "      <td>7.2500</td>\n",
              "      <td>no</td>\n",
              "    </tr>\n",
              "    <tr>\n",
              "      <th>1</th>\n",
              "      <td>female</td>\n",
              "      <td>38.0</td>\n",
              "      <td>False</td>\n",
              "      <td>First</td>\n",
              "      <td>71.2833</td>\n",
              "      <td>yes</td>\n",
              "    </tr>\n",
              "    <tr>\n",
              "      <th>2</th>\n",
              "      <td>female</td>\n",
              "      <td>26.0</td>\n",
              "      <td>True</td>\n",
              "      <td>Third</td>\n",
              "      <td>7.9250</td>\n",
              "      <td>yes</td>\n",
              "    </tr>\n",
              "    <tr>\n",
              "      <th>3</th>\n",
              "      <td>female</td>\n",
              "      <td>35.0</td>\n",
              "      <td>False</td>\n",
              "      <td>First</td>\n",
              "      <td>53.1000</td>\n",
              "      <td>yes</td>\n",
              "    </tr>\n",
              "    <tr>\n",
              "      <th>4</th>\n",
              "      <td>male</td>\n",
              "      <td>35.0</td>\n",
              "      <td>True</td>\n",
              "      <td>Third</td>\n",
              "      <td>8.0500</td>\n",
              "      <td>no</td>\n",
              "    </tr>\n",
              "    <tr>\n",
              "      <th>...</th>\n",
              "      <td>...</td>\n",
              "      <td>...</td>\n",
              "      <td>...</td>\n",
              "      <td>...</td>\n",
              "      <td>...</td>\n",
              "      <td>...</td>\n",
              "    </tr>\n",
              "    <tr>\n",
              "      <th>886</th>\n",
              "      <td>male</td>\n",
              "      <td>27.0</td>\n",
              "      <td>True</td>\n",
              "      <td>Second</td>\n",
              "      <td>13.0000</td>\n",
              "      <td>no</td>\n",
              "    </tr>\n",
              "    <tr>\n",
              "      <th>887</th>\n",
              "      <td>female</td>\n",
              "      <td>19.0</td>\n",
              "      <td>True</td>\n",
              "      <td>First</td>\n",
              "      <td>30.0000</td>\n",
              "      <td>yes</td>\n",
              "    </tr>\n",
              "    <tr>\n",
              "      <th>888</th>\n",
              "      <td>female</td>\n",
              "      <td>NaN</td>\n",
              "      <td>False</td>\n",
              "      <td>Third</td>\n",
              "      <td>23.4500</td>\n",
              "      <td>no</td>\n",
              "    </tr>\n",
              "    <tr>\n",
              "      <th>889</th>\n",
              "      <td>male</td>\n",
              "      <td>26.0</td>\n",
              "      <td>True</td>\n",
              "      <td>First</td>\n",
              "      <td>30.0000</td>\n",
              "      <td>yes</td>\n",
              "    </tr>\n",
              "    <tr>\n",
              "      <th>890</th>\n",
              "      <td>male</td>\n",
              "      <td>32.0</td>\n",
              "      <td>True</td>\n",
              "      <td>Third</td>\n",
              "      <td>7.7500</td>\n",
              "      <td>no</td>\n",
              "    </tr>\n",
              "  </tbody>\n",
              "</table>\n",
              "<p>871 rows × 6 columns</p>\n",
              "</div>"
            ],
            "text/plain": [
              "        sex   age  alone   class     fare alive\n",
              "0      male  22.0  False   Third   7.2500    no\n",
              "1    female  38.0  False   First  71.2833   yes\n",
              "2    female  26.0   True   Third   7.9250   yes\n",
              "3    female  35.0  False   First  53.1000   yes\n",
              "4      male  35.0   True   Third   8.0500    no\n",
              "..      ...   ...    ...     ...      ...   ...\n",
              "886    male  27.0   True  Second  13.0000    no\n",
              "887  female  19.0   True   First  30.0000   yes\n",
              "888  female   NaN  False   Third  23.4500    no\n",
              "889    male  26.0   True   First  30.0000   yes\n",
              "890    male  32.0   True   Third   7.7500    no\n",
              "\n",
              "[871 rows x 6 columns]"
            ]
          },
          "execution_count": 8,
          "metadata": {},
          "output_type": "execute_result"
        }
      ],
      "source": [
        "df_cleaned = df_cleaned[df_cleaned['fare'] < df_cleaned['fare'].mean() + 3 * df_cleaned['fare'].std()]\n",
        "df_cleaned"
      ]
    },
    {
      "cell_type": "code",
      "execution_count": null,
      "metadata": {
        "id": "unENSbCAhCyr",
        "outputId": "22e8dcda-3ed6-4309-ecd6-db844b766c3e",
        "scrolled": true
      },
      "outputs": [
        {
          "data": {
            "image/png": "[encoded data removed]",
            "text/plain": [
              "<Figure size 432x288 with 1 Axes>"
            ]
          },
          "metadata": {
            "needs_background": "light"
          },
          "output_type": "display_data"
        }
      ],
      "source": [
        "graph = sns.histplot(data=df_cleaned, x='fare')"
      ]
    },
    {
      "attachments": {},
      "cell_type": "markdown",
      "metadata": {
        "id": "6wNFG922hCys"
      },
      "source": [
        "<img src=\"https://i.ibb.co/zsDWw3z/sns2.png\" alt=\"sns2\" border=\"0\"/>"
      ]
    },
    {
      "cell_type": "code",
      "execution_count": null,
      "metadata": {
        "id": "Hn1Dfd2bhCys",
        "outputId": "8786fe8f-241e-481e-c6df-2de5133f4778"
      },
      "outputs": [
        {
          "data": {
            "text/plain": [
              "count    871.000000\n",
              "mean      26.530170\n",
              "std       29.351184\n",
              "min        0.000000\n",
              "25%        7.895800\n",
              "50%       13.862500\n",
              "75%       30.000000\n",
              "max      164.866700\n",
              "Name: fare, dtype: float64"
            ]
          },
          "execution_count": 10,
          "metadata": {},
          "output_type": "execute_result"
        }
      ],
      "source": [
        "# here are the descriptives\n",
        "df_cleaned[\"fare\"].describe()"
      ]
    },
    {
      "attachments": {},
      "cell_type": "markdown",
      "metadata": {
        "id": "Gotfiv5LhCys"
      },
      "source": [
        "### Question 5 \n",
        "\n",
        "Now that we've a better fares distribution (albeit not normal), let's look at some group comparisons. Using seaborn, make an histogram of the fare values for male and female passengers, as shown in the sample output below."
      ]
    },
    {
      "cell_type": "code",
      "execution_count": null,
      "metadata": {
        "id": "uzS_IubRhCys",
        "outputId": "32b6f4e7-9be2-4bec-e946-062c186949c4",
        "scrolled": true
      },
      "outputs": [
        {
          "data": {
            "image/png": "[encoded data removed]",
            "text/plain": [
              "<Figure size 430.5x360 with 1 Axes>"
            ]
          },
          "metadata": {
            "needs_background": "light"
          },
          "output_type": "display_data"
        }
      ],
      "source": [
        "graph = sns.displot(data=data, x='fare', hue='sex', kind='kde', fill=True)"
      ]
    },
    {
      "attachments": {},
      "cell_type": "markdown",
      "metadata": {
        "id": "ES-_WP4lhCys"
      },
      "source": [
        "<img src=\"https://i.ibb.co/hBYH20q/sns3.png\" alt=\"sns3\" border=\"0\"/>"
      ]
    },
    {
      "attachments": {},
      "cell_type": "markdown",
      "metadata": {
        "id": "-pcBzh7phCys"
      },
      "source": [
        "**Interpretation Question :**\n",
        "\n",
        "- What can you say about the comparison between male passengers and female passengers with respect to the fares? How are they similar/different?"
      ]
    },
    {
      "attachments": {},
      "cell_type": "markdown",
      "metadata": {
        "id": "RLZBeuXphCys"
      },
      "source": [
        "- Male and females have a similar average fare, however, the distribution for males is leptokurtic relative to the female distribution, so the fares were more consistent, with many observations being closer to the mean and tails, while the female distribution was more evenly spread out and had less values concentrated at the peak and tails."
      ]
    },
    {
      "attachments": {},
      "cell_type": "markdown",
      "metadata": {
        "id": "xY9PiPdbhCys"
      },
      "source": [
        "### Question 6 \n",
        "\n",
        "Using plotly expreess, produce a scatter plot to visualize the relationship between age and fare. The color of the dots should represent passenger class. Your graph should match the sample output. The theme used in the sample output is \"ggplot2\". "
      ]
    },
    {
      "cell_type": "code",
      "execution_count": null,
      "metadata": {
        "id": "pWjprqtrhCys",
        "scrolled": true
      },
      "outputs": [],
      "source": [
        "fig = px.scatter(df_cleaned, x='fare', y='age', color='class', template='ggplot2', \n",
        "                 title='Relationship between age and fare', \n",
        "                 labels = {'fare': 'Fare', 'age': 'Passenger Age'})\n",
        "\n",
        "fig.update_xaxes(nticks = 7)\n",
        "fig.update_yaxes(nticks = 6)\n",
        "\n",
        "fig.show()"
      ]
    },
    {
      "attachments": {},
      "cell_type": "markdown",
      "metadata": {
        "id": "ngYFCNjHhCys"
      },
      "source": [
        "<img src=\"https://i.ibb.co/VNvNWBm/Unknown-2.png\" alt=\"Unknown-2\" border=\"0\">"
      ]
    },
    {
      "attachments": {},
      "cell_type": "markdown",
      "metadata": {
        "id": "eLbZl-rqhCyt"
      },
      "source": [
        "**Interpretation Question :**\n",
        "\n",
        "- What can you say about the relationship between age and fare? Is there a discernible pattern? Why or why not?"
      ]
    },
    {
      "attachments": {},
      "cell_type": "markdown",
      "metadata": {
        "id": "AytJVlSPhCyt"
      },
      "source": [
        "- There appears to be no discernible pattern between age and fare. Across all 3 classes, we can identify vertical clusters associated with a fare price bin, indicating that passengers were paying a similar price across all ages."
      ]
    },
    {
      "attachments": {},
      "cell_type": "markdown",
      "metadata": {
        "id": "yWUl1jxlhCyt"
      },
      "source": [
        "### Note on embedding visualizations:\n",
        "To guarantee your visualizations will appear on the Notebook when your TAs grade your assignments, please upload screenshots of your visualizations to https://imgbb.com/upload and embed them using the link you get into your Notebook. You will need to use Markdown cells. Your lecture Notebooks have many examples of how to embed an image inside a Notebook cell. Here is the line of code you will need to use to insert an image.\n",
        "\n",
        "``` <img src=\"url goes here\" /> ```"
      ]
    },
    {
      "attachments": {},
      "cell_type": "markdown",
      "metadata": {
        "id": "dHShkwdxhCyt"
      },
      "source": [
        "And here is an actual example. Pay attention to the URL. \n",
        "\n",
        "<img src = \"https://i.ibb.co/yVZvDdq/figure2.png\" width=400/>"
      ]
    },
    {
      "attachments": {},
      "cell_type": "markdown",
      "metadata": {
        "id": "1N1CL9tihCyt"
      },
      "source": [
        "**You're required to embed each figure in the Notebook using this approach (embed them under the corresponding question). 20% of the question points (for each figure missing) will be deducted otherwise.**"
      ]
    },
    {
      "cell_type": "code",
      "execution_count": null,
      "metadata": {
        "id": "3e_N_iR_hCyt"
      },
      "outputs": [],
      "source": []
    }
  ],
  "metadata": {
    "colab": {
      "collapsed_sections": [],
      "name": "DS3000_HW4.ipynb",
      "provenance": []
    },
    "kernelspec": {
      "display_name": "Python 3",
      "language": "python",
      "name": "python3"
    },
    "language_info": {
      "codemirror_mode": {
        "name": "ipython",
        "version": 3
      },
      "file_extension": ".py",
      "mimetype": "text/x-python",
      "name": "python",
      "nbconvert_exporter": "python",
      "pygments_lexer": "ipython3",
      "version": "3.8.8"
    }
  },
  "nbformat": 4,
  "nbformat_minor": 0
}
